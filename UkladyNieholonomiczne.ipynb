{
 "metadata": {
  "language_info": {
   "codemirror_mode": {
    "name": "ipython",
    "version": 3
   },
   "file_extension": ".py",
   "mimetype": "text/x-python",
   "name": "python",
   "nbconvert_exporter": "python",
   "pygments_lexer": "ipython3",
   "version": "3.8.3-final"
  },
  "orig_nbformat": 2,
  "kernelspec": {
   "name": "python3",
   "display_name": "Python 3",
   "language": "python"
  }
 },
 "nbformat": 4,
 "nbformat_minor": 2,
 "cells": [
  {
   "source": [
    "# Układy nieholonomiczne\n",
    "- Zerowe kolumny z macierzy D można usunąć"
   ],
   "cell_type": "markdown",
   "metadata": {}
  },
  {
   "cell_type": "code",
   "execution_count": 699,
   "metadata": {},
   "outputs": [],
   "source": [
    "from sympy import *\n",
    "x, y, z, q = symbols(\"x y z q\")\n",
    "th, th1, th2 = symbols(\"\\\\theta \\\\theta_1 \\\\theta_2\")\n",
    "ph, ph1, ph2 = symbols(\"\\\\phi \\\\phi_1 \\\\phi_2\")\n",
    "x1, x2, x3, x4 = symbols(\"x_1 x_2 x_3 x_4\")\n",
    "y1, y2, y3, y4 = symbols(\"y_1 y_2 y_3 y_4\")\n",
    "q1, q2, q3, q4 = symbols(\"q_1 q_2 q_3 q_4 \")\n",
    "\n",
    "# Stale\n",
    "L, l = symbols(\"L l\")\n",
    "r, R = symbols(\"r R\")\n",
    "a, b, c = symbols(\"a b c\")"
   ]
  },
  {
   "cell_type": "code",
   "execution_count": 700,
   "metadata": {},
   "outputs": [],
   "source": [
    "def SklNawiasuLiego(g: list, g2) -> Matrix:\n",
    "    dg = []\n",
    "    for q_i in q:\n",
    "        col = []\n",
    "        [col.append( Derivative(g_i, q_i).doit() ) for g_i in g]\n",
    "        dg.append(col)\n",
    "    return Matrix(dg).transpose()*Matrix(g2)\n",
    "\n",
    "def NawiasLiego(ga:list, gb:list) -> list:\n",
    "    return list(SklNawiasuLiego(gb, ga) - SklNawiasuLiego(ga, gb))"
   ]
  },
  {
   "cell_type": "code",
   "execution_count": 701,
   "metadata": {},
   "outputs": [],
   "source": [
    "def KolejneD(D_skl:list) -> Matrix:\n",
    "    D = Matrix(D_skl).transpose()\n",
    "    newR = D.rank()\n",
    "    print(f\"rank{{D}} = {newR} \", end=\"\")\n",
    "    if newR == wymiarPrzestrzeniKonfig:\n",
    "        print(\"= r_i = n\")\n",
    "    else:\n",
    "        print(\"< n, kontynuuj obliczenia...\")\n",
    "    wektorWzrostu.append(newR)\n",
    "    return D"
   ]
  },
  {
   "source": [
    "____________________\n",
    "## Wprowadź dane\n",
    "### Wektor $q$"
   ],
   "cell_type": "markdown",
   "metadata": {}
  },
  {
   "cell_type": "code",
   "execution_count": 702,
   "metadata": {},
   "outputs": [],
   "source": [
    "# q = (x, y, th, th, ph1, ph2)\n",
    "q = (x1, x2, x3, x4)\n",
    "# q = (q1, q2, q3)"
   ]
  },
  {
   "source": [
    "### Wektory $g_1$, $g_2$"
   ],
   "cell_type": "markdown",
   "metadata": {}
  },
  {
   "cell_type": "code",
   "execution_count": 703,
   "metadata": {},
   "outputs": [],
   "source": [
    "# g1 = (cos(th), sin(th), 1/L, 2/r, 0)\n",
    "g1 = (1, 0, x2, x3)\n",
    "# g1 = (1, 0, -q2)"
   ]
  },
  {
   "cell_type": "code",
   "execution_count": 704,
   "metadata": {},
   "outputs": [],
   "source": [
    "# g2\n",
    "g2 = (0, 1, 0, 0)\n",
    "# g2 = (0, 1, q1)"
   ]
  },
  {
   "source": [
    "__________________\n",
    "## Wprowadzone dane:"
   ],
   "cell_type": "markdown",
   "metadata": {}
  },
  {
   "cell_type": "code",
   "execution_count": 705,
   "metadata": {},
   "outputs": [
    {
     "output_type": "execute_result",
     "data": {
      "text/plain": [
       "Matrix([\n",
       "[x_1],\n",
       "[x_2],\n",
       "[x_3],\n",
       "[x_4]])"
      ],
      "text/latex": "$\\displaystyle \\left[\\begin{matrix}x_{1}\\\\x_{2}\\\\x_{3}\\\\x_{4}\\end{matrix}\\right]$"
     },
     "metadata": {},
     "execution_count": 705
    }
   ],
   "source": [
    "Matrix(q)"
   ]
  },
  {
   "cell_type": "code",
   "execution_count": 706,
   "metadata": {},
   "outputs": [
    {
     "output_type": "execute_result",
     "data": {
      "text/plain": [
       "Matrix([\n",
       "[  1],\n",
       "[  0],\n",
       "[x_2],\n",
       "[x_3]])"
      ],
      "text/latex": "$\\displaystyle \\left[\\begin{matrix}1\\\\0\\\\x_{2}\\\\x_{3}\\end{matrix}\\right]$"
     },
     "metadata": {},
     "execution_count": 706
    }
   ],
   "source": [
    "Matrix(g1)"
   ]
  },
  {
   "cell_type": "code",
   "execution_count": 707,
   "metadata": {},
   "outputs": [
    {
     "output_type": "execute_result",
     "data": {
      "text/plain": [
       "Matrix([\n",
       "[0],\n",
       "[1],\n",
       "[0],\n",
       "[0]])"
      ],
      "text/latex": "$\\displaystyle \\left[\\begin{matrix}0\\\\1\\\\0\\\\0\\end{matrix}\\right]$"
     },
     "metadata": {},
     "execution_count": 707
    }
   ],
   "source": [
    "Matrix(g2)"
   ]
  },
  {
   "source": [
    "____________________\n",
    "## Obliczenia"
   ],
   "cell_type": "markdown",
   "metadata": {}
  },
  {
   "cell_type": "code",
   "execution_count": 708,
   "metadata": {},
   "outputs": [],
   "source": [
    "wymiarPrzestrzeniKonfig = len(q)\n",
    "wektorWzrostu = [] "
   ]
  },
  {
   "source": [
    "### $D_0$"
   ],
   "cell_type": "markdown",
   "metadata": {}
  },
  {
   "cell_type": "code",
   "execution_count": 709,
   "metadata": {},
   "outputs": [
    {
     "output_type": "stream",
     "name": "stdout",
     "text": [
      "rank{D} = 2 < n, kontynuuj obliczenia...\n"
     ]
    },
    {
     "output_type": "execute_result",
     "data": {
      "text/plain": [
       "Matrix([\n",
       "[  1, 0],\n",
       "[  0, 1],\n",
       "[x_2, 0],\n",
       "[x_3, 0]])"
      ],
      "text/latex": "$\\displaystyle \\left[\\begin{matrix}1 & 0\\\\0 & 1\\\\x_{2} & 0\\\\x_{3} & 0\\end{matrix}\\right]$"
     },
     "metadata": {},
     "execution_count": 709
    }
   ],
   "source": [
    "D0_skl = [g1, g2]\n",
    "D0 = KolejneD([g1, g2])\n",
    "D0"
   ]
  },
  {
   "source": [
    "### $D_1$"
   ],
   "cell_type": "markdown",
   "metadata": {}
  },
  {
   "cell_type": "code",
   "execution_count": 710,
   "metadata": {},
   "outputs": [
    {
     "output_type": "stream",
     "name": "stdout",
     "text": [
      "rank{D} = 3 < n, kontynuuj obliczenia...\n"
     ]
    },
    {
     "output_type": "execute_result",
     "data": {
      "text/plain": [
       "Matrix([\n",
       "[  1, 0,  0],\n",
       "[  0, 1,  0],\n",
       "[x_2, 0, -1],\n",
       "[x_3, 0,  0]])"
      ],
      "text/latex": "$\\displaystyle \\left[\\begin{matrix}1 & 0 & 0\\\\0 & 1 & 0\\\\x_{2} & 0 & -1\\\\x_{3} & 0 & 0\\end{matrix}\\right]$"
     },
     "metadata": {},
     "execution_count": 710
    }
   ],
   "source": [
    "g12 = NawiasLiego(g1, g2)\n",
    "D1 = KolejneD([g1, g2, g12])\n",
    "D1"
   ]
  },
  {
   "source": [
    "### $D_2$"
   ],
   "cell_type": "markdown",
   "metadata": {}
  },
  {
   "cell_type": "code",
   "execution_count": 711,
   "metadata": {},
   "outputs": [
    {
     "output_type": "stream",
     "name": "stdout",
     "text": [
      "rank{D} = 4 = r_i = n\n"
     ]
    },
    {
     "output_type": "execute_result",
     "data": {
      "text/plain": [
       "Matrix([\n",
       "[  1, 0,  0, 0, 0],\n",
       "[  0, 1,  0, 0, 0],\n",
       "[x_2, 0, -1, 0, 0],\n",
       "[x_3, 0,  0, 1, 0]])"
      ],
      "text/latex": "$\\displaystyle \\left[\\begin{matrix}1 & 0 & 0 & 0 & 0\\\\0 & 1 & 0 & 0 & 0\\\\x_{2} & 0 & -1 & 0 & 0\\\\x_{3} & 0 & 0 & 1 & 0\\end{matrix}\\right]$"
     },
     "metadata": {},
     "execution_count": 711
    }
   ],
   "source": [
    "g112 = NawiasLiego(g1, g12)\n",
    "g212 = NawiasLiego(g2, g12)\n",
    "D2 = KolejneD([g1, g2, g12, g112, g212])\n",
    "D2"
   ]
  },
  {
   "source": [
    "________________"
   ],
   "cell_type": "markdown",
   "metadata": {}
  },
  {
   "cell_type": "code",
   "execution_count": 712,
   "metadata": {},
   "outputs": [
    {
     "output_type": "execute_result",
     "data": {
      "text/plain": [
       "[0, 0, 0, 1]"
      ]
     },
     "metadata": {},
     "execution_count": 712
    }
   ],
   "source": [
    "g112"
   ]
  },
  {
   "cell_type": "code",
   "execution_count": 713,
   "metadata": {},
   "outputs": [
    {
     "output_type": "execute_result",
     "data": {
      "text/plain": [
       "[0, 0, 0, 0]"
      ]
     },
     "metadata": {},
     "execution_count": 713
    }
   ],
   "source": [
    "g212"
   ]
  }
 ]
}