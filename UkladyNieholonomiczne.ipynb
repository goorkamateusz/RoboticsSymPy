{
 "metadata": {
  "language_info": {
   "codemirror_mode": {
    "name": "ipython",
    "version": 3
   },
   "file_extension": ".py",
   "mimetype": "text/x-python",
   "name": "python",
   "nbconvert_exporter": "python",
   "pygments_lexer": "ipython3",
   "version": "3.8.3-final"
  },
  "orig_nbformat": 2,
  "kernelspec": {
   "name": "python3",
   "display_name": "Python 3",
   "language": "python"
  }
 },
 "nbformat": 4,
 "nbformat_minor": 2,
 "cells": [
  {
   "source": [
    "# Układy nieholonomiczne\n",
    "- Zerowe kolumny z macierzy D można usunąć"
   ],
   "cell_type": "markdown",
   "metadata": {}
  },
  {
   "cell_type": "code",
   "execution_count": 1,
   "metadata": {},
   "outputs": [],
   "source": [
    "from sympy import *\n",
    "x, y, z, q = symbols(\"x y z q\")\n",
    "th, th1, th2 = symbols(\"\\\\theta \\\\theta_1 \\\\theta_2\")\n",
    "ph, ph1, ph2 = symbols(\"\\\\phi \\\\phi_1 \\\\phi_2\")\n",
    "x1, x2, x3, x4 = symbols(\"x_1 x_2 x_3 x_4\")\n",
    "y1, y2, y3, y4 = symbols(\"y_1 y_2 y_3 y_4\")\n",
    "q1, q2, q3, q4 = symbols(\"q_1 q_2 q_3 q_4 \")\n",
    "\n",
    "# Stale\n",
    "L, l = symbols(\"L l\")\n",
    "r, R = symbols(\"r R\")\n",
    "a, b, c = symbols(\"a b c\")"
   ]
  },
  {
   "cell_type": "code",
   "execution_count": 2,
   "metadata": {},
   "outputs": [],
   "source": [
    "def SklNawiasuLiego(g: list, g2) -> Matrix:\n",
    "    global q\n",
    "    \n",
    "    dg = []\n",
    "    for q_i in q:\n",
    "        col = []\n",
    "        [col.append( Derivative(g_i, q_i).doit() ) for g_i in g]\n",
    "        dg.append(col)\n",
    "    return Matrix(dg).transpose()*Matrix(g2)\n",
    "\n",
    "def NawiasLiego(ga:list, gb:list) -> list:\n",
    "    return list(SklNawiasuLiego(gb, ga) - SklNawiasuLiego(ga, gb))"
   ]
  },
  {
   "cell_type": "code",
   "execution_count": 3,
   "metadata": {},
   "outputs": [],
   "source": [
    "def KolejneD(D_skl:list) -> Matrix:\n",
    "    global stopienNieholonomicznosci\n",
    "    global DIndeks\n",
    "    global wektorWzrostu\n",
    "\n",
    "    D = Matrix(D_skl).transpose()\n",
    "    newR = D.rank()\n",
    "    print(f\"rank{{D}} = {newR} \", end=\"\")\n",
    "\n",
    "    if newR == wymiarPrzestrzeniKonfig:\n",
    "        print(\"= r_i = n\")\n",
    "        if stopienNieholonomicznosci is None:\n",
    "            stopienNieholonomicznosci = DIndeks\n",
    "    else:\n",
    "        print(\"< n, kontynuuj obliczenia...\")\n",
    "\n",
    "    DIndeks += 1\n",
    "    wektorWzrostu.append(newR)\n",
    "    return D"
   ]
  },
  {
   "source": [
    "____________________\n",
    "## Wprowadź dane\n",
    "### Wektor $q$"
   ],
   "cell_type": "markdown",
   "metadata": {}
  },
  {
   "cell_type": "code",
   "execution_count": 4,
   "metadata": {},
   "outputs": [],
   "source": [
    "# q\n",
    "q = (x1, x2, x3, x4) #(wyklad)\n",
    "# q = (q1, q2, q3) #(e i f)"
   ]
  },
  {
   "source": [
    "### Wektory $g_1$, $g_2$"
   ],
   "cell_type": "markdown",
   "metadata": {}
  },
  {
   "cell_type": "code",
   "execution_count": 5,
   "metadata": {},
   "outputs": [],
   "source": [
    "# g1\n",
    "g1 = (1, 0, x2, x3) #(wyklad)\n",
    "# g1 = (1, 0, -q2) #(f)\n",
    "# g1 = (1, 0, -1) #(e)"
   ]
  },
  {
   "cell_type": "code",
   "execution_count": 6,
   "metadata": {},
   "outputs": [],
   "source": [
    "# g2\n",
    "g2 = (0, 1, 0, 0) #(wyklad)\n",
    "# g2 = (0, 1, 0) #(e)\n",
    "# g2 = (0, 1, q1) #(f)"
   ]
  },
  {
   "source": [
    "__________________\n",
    "## Wprowadzone dane:"
   ],
   "cell_type": "markdown",
   "metadata": {}
  },
  {
   "cell_type": "code",
   "execution_count": 7,
   "metadata": {},
   "outputs": [
    {
     "output_type": "execute_result",
     "data": {
      "text/plain": [
       "Matrix([\n",
       "[x_1],\n",
       "[x_2],\n",
       "[x_3],\n",
       "[x_4]])"
      ],
      "text/latex": "$\\displaystyle \\left[\\begin{matrix}x_{1}\\\\x_{2}\\\\x_{3}\\\\x_{4}\\end{matrix}\\right]$"
     },
     "metadata": {},
     "execution_count": 7
    }
   ],
   "source": [
    "Matrix(q)"
   ]
  },
  {
   "cell_type": "code",
   "execution_count": 8,
   "metadata": {},
   "outputs": [
    {
     "output_type": "execute_result",
     "data": {
      "text/plain": [
       "Matrix([\n",
       "[  1],\n",
       "[  0],\n",
       "[x_2],\n",
       "[x_3]])"
      ],
      "text/latex": "$\\displaystyle \\left[\\begin{matrix}1\\\\0\\\\x_{2}\\\\x_{3}\\end{matrix}\\right]$"
     },
     "metadata": {},
     "execution_count": 8
    }
   ],
   "source": [
    "Matrix(g1)"
   ]
  },
  {
   "cell_type": "code",
   "execution_count": 9,
   "metadata": {},
   "outputs": [
    {
     "output_type": "execute_result",
     "data": {
      "text/plain": [
       "Matrix([\n",
       "[0],\n",
       "[1],\n",
       "[0],\n",
       "[0]])"
      ],
      "text/latex": "$\\displaystyle \\left[\\begin{matrix}0\\\\1\\\\0\\\\0\\end{matrix}\\right]$"
     },
     "metadata": {},
     "execution_count": 9
    }
   ],
   "source": [
    "Matrix(g2)"
   ]
  },
  {
   "source": [
    "____________________\n",
    "## Obliczenia"
   ],
   "cell_type": "markdown",
   "metadata": {}
  },
  {
   "cell_type": "code",
   "execution_count": 10,
   "metadata": {},
   "outputs": [],
   "source": [
    "wymiarPrzestrzeniKonfig = len(q)\n",
    "stopienNieholonomicznosci = None\n",
    "wektorWzrostu = [] \n",
    "DIndeks = 0"
   ]
  },
  {
   "source": [
    "### $D_0$"
   ],
   "cell_type": "markdown",
   "metadata": {}
  },
  {
   "cell_type": "code",
   "execution_count": 11,
   "metadata": {},
   "outputs": [
    {
     "output_type": "stream",
     "name": "stdout",
     "text": [
      "rank{D} = 2 < n, kontynuuj obliczenia...\n"
     ]
    },
    {
     "output_type": "execute_result",
     "data": {
      "text/plain": [
       "Matrix([\n",
       "[  1, 0],\n",
       "[  0, 1],\n",
       "[x_2, 0],\n",
       "[x_3, 0]])"
      ],
      "text/latex": "$\\displaystyle \\left[\\begin{matrix}1 & 0\\\\0 & 1\\\\x_{2} & 0\\\\x_{3} & 0\\end{matrix}\\right]$"
     },
     "metadata": {},
     "execution_count": 11
    }
   ],
   "source": [
    "D0_skl = [g1, g2]\n",
    "D0 = KolejneD([g1, g2])\n",
    "D0"
   ]
  },
  {
   "source": [
    "### $D_1$"
   ],
   "cell_type": "markdown",
   "metadata": {}
  },
  {
   "cell_type": "code",
   "execution_count": 12,
   "metadata": {},
   "outputs": [
    {
     "output_type": "stream",
     "name": "stdout",
     "text": [
      "rank{D} = 3 < n, kontynuuj obliczenia...\n"
     ]
    },
    {
     "output_type": "execute_result",
     "data": {
      "text/plain": [
       "Matrix([\n",
       "[  1, 0,  0],\n",
       "[  0, 1,  0],\n",
       "[x_2, 0, -1],\n",
       "[x_3, 0,  0]])"
      ],
      "text/latex": "$\\displaystyle \\left[\\begin{matrix}1 & 0 & 0\\\\0 & 1 & 0\\\\x_{2} & 0 & -1\\\\x_{3} & 0 & 0\\end{matrix}\\right]$"
     },
     "metadata": {},
     "execution_count": 12
    }
   ],
   "source": [
    "g12 = NawiasLiego(g1, g2)\n",
    "D1 = KolejneD([g1, g2, g12])\n",
    "D1"
   ]
  },
  {
   "source": [
    "### $D_2$"
   ],
   "cell_type": "markdown",
   "metadata": {}
  },
  {
   "cell_type": "code",
   "execution_count": 13,
   "metadata": {},
   "outputs": [
    {
     "output_type": "stream",
     "name": "stdout",
     "text": [
      "rank{D} = 4 = r_i = n\n"
     ]
    },
    {
     "output_type": "execute_result",
     "data": {
      "text/plain": [
       "Matrix([\n",
       "[  1, 0,  0, 0, 0],\n",
       "[  0, 1,  0, 0, 0],\n",
       "[x_2, 0, -1, 0, 0],\n",
       "[x_3, 0,  0, 1, 0]])"
      ],
      "text/latex": "$\\displaystyle \\left[\\begin{matrix}1 & 0 & 0 & 0 & 0\\\\0 & 1 & 0 & 0 & 0\\\\x_{2} & 0 & -1 & 0 & 0\\\\x_{3} & 0 & 0 & 1 & 0\\end{matrix}\\right]$"
     },
     "metadata": {},
     "execution_count": 13
    }
   ],
   "source": [
    "g112 = NawiasLiego(g1, g12)\n",
    "g212 = NawiasLiego(g2, g12)\n",
    "D2 = KolejneD([g1, g2, g12, g112, g212])\n",
    "D2"
   ]
  },
  {
   "source": [
    "________________"
   ],
   "cell_type": "markdown",
   "metadata": {}
  },
  {
   "source": [
    "### Wektor wzorostu i $r_i(q)$"
   ],
   "cell_type": "markdown",
   "metadata": {}
  },
  {
   "cell_type": "code",
   "execution_count": 14,
   "metadata": {},
   "outputs": [
    {
     "output_type": "stream",
     "name": "stdout",
     "text": [
      "r_0(q) = 2\nr_1(q) = 3\nr_2(q) = 4\n"
     ]
    }
   ],
   "source": [
    "for i in range(len(wektorWzrostu)):\n",
    "    print( f\"r_{i}(q) = {wektorWzrostu[i]}\")"
   ]
  },
  {
   "source": [
    "### Stopień nieholonomiczności"
   ],
   "cell_type": "markdown",
   "metadata": {}
  },
  {
   "cell_type": "code",
   "execution_count": 15,
   "metadata": {},
   "outputs": [
    {
     "output_type": "execute_result",
     "data": {
      "text/plain": [
       "2"
      ]
     },
     "metadata": {},
     "execution_count": 15
    }
   ],
   "source": [
    "stopienNieholonomicznosci"
   ]
  },
  {
   "source": [
    "_______________"
   ],
   "cell_type": "markdown",
   "metadata": {}
  },
  {
   "cell_type": "code",
   "execution_count": 16,
   "metadata": {},
   "outputs": [
    {
     "output_type": "execute_result",
     "data": {
      "text/plain": [
       "[0, 0, 0, 1]"
      ]
     },
     "metadata": {},
     "execution_count": 16
    }
   ],
   "source": [
    "g112"
   ]
  },
  {
   "cell_type": "code",
   "execution_count": 17,
   "metadata": {},
   "outputs": [
    {
     "output_type": "execute_result",
     "data": {
      "text/plain": [
       "[0, 0, 0, 0]"
      ]
     },
     "metadata": {},
     "execution_count": 17
    }
   ],
   "source": [
    "g212"
   ]
  }
 ]
}