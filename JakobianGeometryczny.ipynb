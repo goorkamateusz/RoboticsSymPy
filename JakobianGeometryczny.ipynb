{
 "cells": [
  {
   "cell_type": "markdown",
   "metadata": {},
   "source": [
    "# Jakobian geometryczny\n",
    "\n",
    "Na podstawie kolejnych macierzy przekształceń wyprowadza jakobian geometryczny."
   ]
  },
  {
   "cell_type": "code",
   "execution_count": 1,
   "metadata": {},
   "outputs": [],
   "source": [
    "from sympy import *\n",
    "from RobotykaLib import *\n",
    "q1, q2, q3, q4 = symbols('q1 q2 q3 q4', real=True)  # q\n",
    "a, a1, a2, a3 = symbols('a a1 a2 a3', real=True)    # a\n",
    "d, d1, d2, d3 = symbols('d d1 d2 d3', real=True)    # d\n",
    "l, l1, l2, l3 = symbols('l l1 l2 l3', real=True)\n",
    "alfa, beta,gamma = symbols('\\\\alpha \\\\beta \\\\gamma', real=True)\n",
    "x, y, z = symbols('x y z')                          # osie"
   ]
  },
  {
   "cell_type": "markdown",
   "metadata": {},
   "source": [
    "## Wprowadź dane: Macierz kinematyki:"
   ]
  },
  {
   "cell_type": "markdown",
   "metadata": {},
   "source": [
    "# $$A_{0}^{1}=$$"
   ]
  },
  {
   "cell_type": "code",
   "execution_count": 2,
   "metadata": {},
   "outputs": [
    {
     "data": {
      "text/latex": [
       "$\\displaystyle \\left[\\begin{matrix}1 & 0 & 0 & 0\\\\0 & 0 & 1 & 0\\\\0 & -1 & 0 & q_{1}\\\\0 & 0 & 0 & 1\\end{matrix}\\right]$"
      ],
      "text/plain": [
       "Matrix([\n",
       "[1,  0, 0,  0],\n",
       "[0,  0, 1,  0],\n",
       "[0, -1, 0, q1],\n",
       "[0,  0, 0,  1]])"
      ]
     },
     "execution_count": 2,
     "metadata": {},
     "output_type": "execute_result"
    }
   ],
   "source": [
    "A01 = tr(z,q1)*rot(x,-pi/2)\n",
    "A01"
   ]
  },
  {
   "cell_type": "markdown",
   "metadata": {},
   "source": [
    "# $$A_{1}^{2}=$$"
   ]
  },
  {
   "cell_type": "code",
   "execution_count": 3,
   "metadata": {},
   "outputs": [
    {
     "data": {
      "text/latex": [
       "$\\displaystyle \\left[\\begin{matrix}\\cos{\\left(q_{2} \\right)} & 0 & \\sin{\\left(q_{2} \\right)} & 0\\\\\\sin{\\left(q_{2} \\right)} & 0 & - \\cos{\\left(q_{2} \\right)} & 0\\\\0 & 1 & 0 & d_{2}\\\\0 & 0 & 0 & 1\\end{matrix}\\right]$"
      ],
      "text/plain": [
       "Matrix([\n",
       "[cos(q2), 0,  sin(q2),  0],\n",
       "[sin(q2), 0, -cos(q2),  0],\n",
       "[      0, 1,        0, d2],\n",
       "[      0, 0,        0,  1]])"
      ]
     },
     "execution_count": 3,
     "metadata": {},
     "output_type": "execute_result"
    }
   ],
   "source": [
    "A12 = rot(z,q2)*tr(z,d2)*rot(x,pi/2)\n",
    "A12"
   ]
  },
  {
   "cell_type": "markdown",
   "metadata": {},
   "source": [
    "# $$A_{2}^{3}=$$"
   ]
  },
  {
   "cell_type": "code",
   "execution_count": 4,
   "metadata": {},
   "outputs": [
    {
     "data": {
      "text/latex": [
       "$\\displaystyle \\left[\\begin{matrix}\\cos{\\left(q_{3} \\right)} & - \\sin{\\left(q_{3} \\right)} & 0 & a_{3} \\cos{\\left(q_{3} \\right)}\\\\\\sin{\\left(q_{3} \\right)} & \\cos{\\left(q_{3} \\right)} & 0 & a_{3} \\sin{\\left(q_{3} \\right)}\\\\0 & 0 & 1 & 0\\\\0 & 0 & 0 & 1\\end{matrix}\\right]$"
      ],
      "text/plain": [
       "Matrix([\n",
       "[cos(q3), -sin(q3), 0, a3*cos(q3)],\n",
       "[sin(q3),  cos(q3), 0, a3*sin(q3)],\n",
       "[      0,        0, 1,          0],\n",
       "[      0,        0, 0,          1]])"
      ]
     },
     "execution_count": 4,
     "metadata": {},
     "output_type": "execute_result"
    }
   ],
   "source": [
    "A23 = rot(z,q3)*tr(x,a3)\n",
    "A23"
   ]
  },
  {
   "cell_type": "markdown",
   "metadata": {},
   "source": [
    "# $$A_{0}^{2}=$$"
   ]
  },
  {
   "cell_type": "code",
   "execution_count": 5,
   "metadata": {},
   "outputs": [
    {
     "data": {
      "text/latex": [
       "$\\displaystyle \\left[\\begin{matrix}\\cos{\\left(q_{2} \\right)} & 0 & \\sin{\\left(q_{2} \\right)} & 0\\\\0 & 1 & 0 & d_{2}\\\\- \\sin{\\left(q_{2} \\right)} & 0 & \\cos{\\left(q_{2} \\right)} & q_{1}\\\\0 & 0 & 0 & 1\\end{matrix}\\right]$"
      ],
      "text/plain": [
       "Matrix([\n",
       "[ cos(q2), 0, sin(q2),  0],\n",
       "[       0, 1,       0, d2],\n",
       "[-sin(q2), 0, cos(q2), q1],\n",
       "[       0, 0,       0,  1]])"
      ]
     },
     "execution_count": 5,
     "metadata": {},
     "output_type": "execute_result"
    }
   ],
   "source": [
    "A02 = A01*A12\n",
    "A02"
   ]
  },
  {
   "cell_type": "markdown",
   "metadata": {},
   "source": [
    "# $$A_{0}^{3}=K=$$"
   ]
  },
  {
   "cell_type": "code",
   "execution_count": 6,
   "metadata": {},
   "outputs": [
    {
     "data": {
      "text/latex": [
       "$\\displaystyle \\left[\\begin{matrix}\\cos{\\left(q_{2} \\right)} \\cos{\\left(q_{3} \\right)} & - \\sin{\\left(q_{3} \\right)} \\cos{\\left(q_{2} \\right)} & \\sin{\\left(q_{2} \\right)} & a_{3} \\cos{\\left(q_{2} \\right)} \\cos{\\left(q_{3} \\right)}\\\\\\sin{\\left(q_{3} \\right)} & \\cos{\\left(q_{3} \\right)} & 0 & a_{3} \\sin{\\left(q_{3} \\right)} + d_{2}\\\\- \\sin{\\left(q_{2} \\right)} \\cos{\\left(q_{3} \\right)} & \\sin{\\left(q_{2} \\right)} \\sin{\\left(q_{3} \\right)} & \\cos{\\left(q_{2} \\right)} & - a_{3} \\sin{\\left(q_{2} \\right)} \\cos{\\left(q_{3} \\right)} + q_{1}\\\\0 & 0 & 0 & 1\\end{matrix}\\right]$"
      ],
      "text/plain": [
       "Matrix([\n",
       "[ cos(q2)*cos(q3), -sin(q3)*cos(q2), sin(q2),       a3*cos(q2)*cos(q3)],\n",
       "[         sin(q3),          cos(q3),       0,          a3*sin(q3) + d2],\n",
       "[-sin(q2)*cos(q3),  sin(q2)*sin(q3), cos(q2), -a3*sin(q2)*cos(q3) + q1],\n",
       "[               0,                0,       0,                        1]])"
      ]
     },
     "execution_count": 6,
     "metadata": {},
     "output_type": "execute_result"
    }
   ],
   "source": [
    "K = A02*A23\n",
    "K\n",
    "# K = [[-sin(q1)*cos(q3), -cos(q1), sin(q1)*sin(q3), -sin(q1)*(a3*cos(q3)+a3) + q2*cos(q1)],\n",
    "# [cos(q1)*cos(q3), -sin(q1), -cos(q1)*sin(q3), cos(q1)*(a3*cos(q3)+a2)+ q2*(sin(q1))],\n",
    "# [sin(q3), 0, cos(q3), d1 + a3 * sin(q3)],\n",
    "# [0,0,0,1]]"
   ]
  },
  {
   "cell_type": "code",
   "execution_count": 7,
   "metadata": {},
   "outputs": [
    {
     "data": {
      "text/latex": [
       "$\\displaystyle \\left[\\begin{matrix}\\cos{\\left(q_{2} \\right)} \\cos{\\left(q_{3} \\right)} & - \\sin{\\left(q_{3} \\right)} \\cos{\\left(q_{2} \\right)} & \\sin{\\left(q_{2} \\right)} & a_{3} \\cos{\\left(q_{2} \\right)} \\cos{\\left(q_{3} \\right)}\\\\\\sin{\\left(q_{3} \\right)} & \\cos{\\left(q_{3} \\right)} & 0 & a_{3} \\sin{\\left(q_{3} \\right)} + d_{2}\\\\- \\sin{\\left(q_{2} \\right)} \\cos{\\left(q_{3} \\right)} & \\sin{\\left(q_{2} \\right)} \\sin{\\left(q_{3} \\right)} & \\cos{\\left(q_{2} \\right)} & - a_{3} \\sin{\\left(q_{2} \\right)} \\cos{\\left(q_{3} \\right)} + q_{1}\\\\0 & 0 & 0 & 1\\end{matrix}\\right]$"
      ],
      "text/plain": [
       "Matrix([\n",
       "[ cos(q2)*cos(q3), -sin(q3)*cos(q2), sin(q2),       a3*cos(q2)*cos(q3)],\n",
       "[         sin(q3),          cos(q3),       0,          a3*sin(q3) + d2],\n",
       "[-sin(q2)*cos(q3),  sin(q2)*sin(q3), cos(q2), -a3*sin(q2)*cos(q3) + q1],\n",
       "[               0,                0,       0,                        1]])"
      ]
     },
     "execution_count": 7,
     "metadata": {},
     "output_type": "execute_result"
    }
   ],
   "source": [
    "K = Matrix(K)\n",
    "K"
   ]
  },
  {
   "cell_type": "markdown",
   "metadata": {},
   "source": [
    "### Macierz rotacji\n",
    "# $$R=$$"
   ]
  },
  {
   "cell_type": "code",
   "execution_count": 8,
   "metadata": {},
   "outputs": [
    {
     "data": {
      "text/latex": [
       "$\\displaystyle \\left[\\begin{matrix}\\cos{\\left(q_{2} \\right)} \\cos{\\left(q_{3} \\right)} & - \\sin{\\left(q_{3} \\right)} \\cos{\\left(q_{2} \\right)} & \\sin{\\left(q_{2} \\right)}\\\\\\sin{\\left(q_{3} \\right)} & \\cos{\\left(q_{3} \\right)} & 0\\\\- \\sin{\\left(q_{2} \\right)} \\cos{\\left(q_{3} \\right)} & \\sin{\\left(q_{2} \\right)} \\sin{\\left(q_{3} \\right)} & \\cos{\\left(q_{2} \\right)}\\end{matrix}\\right]$"
      ],
      "text/plain": [
       "Matrix([\n",
       "[ cos(q2)*cos(q3), -sin(q3)*cos(q2), sin(q2)],\n",
       "[         sin(q3),          cos(q3),       0],\n",
       "[-sin(q2)*cos(q3),  sin(q2)*sin(q3), cos(q2)]])"
      ]
     },
     "execution_count": 8,
     "metadata": {},
     "output_type": "execute_result"
    }
   ],
   "source": [
    "R = K.minor_submatrix(3,3)\n",
    "R"
   ]
  },
  {
   "cell_type": "markdown",
   "metadata": {},
   "source": [
    "### Wektor transpozycji\n",
    "# $$T=$$"
   ]
  },
  {
   "cell_type": "code",
   "execution_count": 9,
   "metadata": {},
   "outputs": [
    {
     "data": {
      "text/latex": [
       "$\\displaystyle \\left[\\begin{matrix}a_{3} \\cos{\\left(q_{2} \\right)} \\cos{\\left(q_{3} \\right)}\\\\a_{3} \\sin{\\left(q_{3} \\right)} + d_{2}\\\\- a_{3} \\sin{\\left(q_{2} \\right)} \\cos{\\left(q_{3} \\right)} + q_{1}\\end{matrix}\\right]$"
      ],
      "text/plain": [
       "Matrix([\n",
       "[      a3*cos(q2)*cos(q3)],\n",
       "[         a3*sin(q3) + d2],\n",
       "[-a3*sin(q2)*cos(q3) + q1]])"
      ]
     },
     "execution_count": 9,
     "metadata": {},
     "output_type": "execute_result"
    }
   ],
   "source": [
    "T = K.copy()\n",
    "T.row_del(3)\n",
    "for i in range(0,3):\n",
    "    T.col_del(0)\n",
    "T"
   ]
  },
  {
   "cell_type": "markdown",
   "metadata": {},
   "source": [
    "# $$q=$$"
   ]
  },
  {
   "cell_type": "code",
   "execution_count": 10,
   "metadata": {},
   "outputs": [
    {
     "data": {
      "text/latex": [
       "$\\displaystyle \\left[\\begin{matrix}q_{1}\\\\q_{2}\\\\q_{3}\\end{matrix}\\right]$"
      ],
      "text/plain": [
       "Matrix([\n",
       "[q1],\n",
       "[q2],\n",
       "[q3]])"
      ]
     },
     "execution_count": 10,
     "metadata": {},
     "output_type": "execute_result"
    }
   ],
   "source": [
    "q = [q1, q2, q3]\n",
    "Matrix(q)"
   ]
  },
  {
   "cell_type": "markdown",
   "metadata": {},
   "source": [
    "### Góra jakobianu manipulatora"
   ]
  },
  {
   "cell_type": "code",
   "execution_count": 11,
   "metadata": {},
   "outputs": [
    {
     "data": {
      "text/latex": [
       "$\\displaystyle \\left[\\begin{matrix}0 & - a_{3} \\sin{\\left(q_{2} \\right)} \\cos{\\left(q_{3} \\right)} & - a_{3} \\sin{\\left(q_{3} \\right)} \\cos{\\left(q_{2} \\right)}\\\\0 & 0 & a_{3} \\cos{\\left(q_{3} \\right)}\\\\1 & - a_{3} \\cos{\\left(q_{2} \\right)} \\cos{\\left(q_{3} \\right)} & a_{3} \\sin{\\left(q_{2} \\right)} \\sin{\\left(q_{3} \\right)}\\end{matrix}\\right]$"
      ],
      "text/plain": [
       "Matrix([\n",
       "[0, -a3*sin(q2)*cos(q3), -a3*sin(q3)*cos(q2)],\n",
       "[0,                   0,          a3*cos(q3)],\n",
       "[1, -a3*cos(q2)*cos(q3),  a3*sin(q2)*sin(q3)]])"
      ]
     },
     "execution_count": 11,
     "metadata": {},
     "output_type": "execute_result"
    }
   ],
   "source": [
    "dT = []\n",
    "for i in range(0,3):\n",
    "    row = []\n",
    "    for qi in q:\n",
    "        row.append(T[i].diff(qi).doit())\n",
    "    dT.append(row)\n",
    "\n",
    "Matrix(dT)\n"
   ]
  },
  {
   "cell_type": "code",
   "execution_count": 12,
   "metadata": {},
   "outputs": [],
   "source": [
    "def to_vector(A):\n",
    "    v = []\n",
    "    v.append(A[2,1])\n",
    "    v.append(A[0,2])\n",
    "    v.append(A[1,0])\n",
    "    return v"
   ]
  },
  {
   "cell_type": "markdown",
   "metadata": {},
   "source": [
    "### Dół jakobianu manipulatora"
   ]
  },
  {
   "cell_type": "code",
   "execution_count": 13,
   "metadata": {},
   "outputs": [
    {
     "name": "stdout",
     "output_type": "stream",
     "text": [
      "--- dR/dq_1 R^T ---\n"
     ]
    },
    {
     "data": {
      "text/latex": [
       "$\\displaystyle \\left[\\begin{matrix}0 & 0 & 0\\\\0 & 0 & 0\\\\0 & 0 & 0\\end{matrix}\\right]$"
      ],
      "text/plain": [
       "Matrix([\n",
       "[0, 0, 0],\n",
       "[0, 0, 0],\n",
       "[0, 0, 0]])"
      ]
     },
     "metadata": {},
     "output_type": "display_data"
    },
    {
     "data": {
      "text/latex": [
       "$\\displaystyle \\left[\\begin{matrix}0 & 0 & 0\\\\0 & 0 & 0\\\\0 & 0 & 0\\end{matrix}\\right]$"
      ],
      "text/plain": [
       "Matrix([\n",
       "[0, 0, 0],\n",
       "[0, 0, 0],\n",
       "[0, 0, 0]])"
      ]
     },
     "metadata": {},
     "output_type": "display_data"
    },
    {
     "data": {
      "text/latex": [
       "$\\displaystyle \\left[\\begin{matrix}0\\\\0\\\\0\\end{matrix}\\right]$"
      ],
      "text/plain": [
       "Matrix([\n",
       "[0],\n",
       "[0],\n",
       "[0]])"
      ]
     },
     "metadata": {},
     "output_type": "display_data"
    },
    {
     "name": "stdout",
     "output_type": "stream",
     "text": [
      "--- dR/dq_2 R^T ---\n"
     ]
    },
    {
     "data": {
      "text/latex": [
       "$\\displaystyle \\left[\\begin{matrix}- \\sin{\\left(q_{2} \\right)} \\cos{\\left(q_{3} \\right)} & \\sin{\\left(q_{2} \\right)} \\sin{\\left(q_{3} \\right)} & \\cos{\\left(q_{2} \\right)}\\\\0 & 0 & 0\\\\- \\cos{\\left(q_{2} \\right)} \\cos{\\left(q_{3} \\right)} & \\sin{\\left(q_{3} \\right)} \\cos{\\left(q_{2} \\right)} & - \\sin{\\left(q_{2} \\right)}\\end{matrix}\\right]$"
      ],
      "text/plain": [
       "Matrix([\n",
       "[-sin(q2)*cos(q3), sin(q2)*sin(q3),  cos(q2)],\n",
       "[               0,               0,        0],\n",
       "[-cos(q2)*cos(q3), sin(q3)*cos(q2), -sin(q2)]])"
      ]
     },
     "metadata": {},
     "output_type": "display_data"
    },
    {
     "data": {
      "text/latex": [
       "$\\displaystyle \\left[\\begin{matrix}0 & 0 & 1\\\\0 & 0 & 0\\\\-1 & 0 & 0\\end{matrix}\\right]$"
      ],
      "text/plain": [
       "Matrix([\n",
       "[ 0, 0, 1],\n",
       "[ 0, 0, 0],\n",
       "[-1, 0, 0]])"
      ]
     },
     "metadata": {},
     "output_type": "display_data"
    },
    {
     "data": {
      "text/latex": [
       "$\\displaystyle \\left[\\begin{matrix}0\\\\1\\\\0\\end{matrix}\\right]$"
      ],
      "text/plain": [
       "Matrix([\n",
       "[0],\n",
       "[1],\n",
       "[0]])"
      ]
     },
     "metadata": {},
     "output_type": "display_data"
    },
    {
     "name": "stdout",
     "output_type": "stream",
     "text": [
      "--- dR/dq_3 R^T ---\n"
     ]
    },
    {
     "data": {
      "text/latex": [
       "$\\displaystyle \\left[\\begin{matrix}- \\sin{\\left(q_{3} \\right)} \\cos{\\left(q_{2} \\right)} & - \\cos{\\left(q_{2} \\right)} \\cos{\\left(q_{3} \\right)} & 0\\\\\\cos{\\left(q_{3} \\right)} & - \\sin{\\left(q_{3} \\right)} & 0\\\\\\sin{\\left(q_{2} \\right)} \\sin{\\left(q_{3} \\right)} & \\sin{\\left(q_{2} \\right)} \\cos{\\left(q_{3} \\right)} & 0\\end{matrix}\\right]$"
      ],
      "text/plain": [
       "Matrix([\n",
       "[-sin(q3)*cos(q2), -cos(q2)*cos(q3), 0],\n",
       "[         cos(q3),         -sin(q3), 0],\n",
       "[ sin(q2)*sin(q3),  sin(q2)*cos(q3), 0]])"
      ]
     },
     "metadata": {},
     "output_type": "display_data"
    },
    {
     "data": {
      "text/latex": [
       "$\\displaystyle \\left[\\begin{matrix}0 & - \\cos{\\left(q_{2} \\right)} & 0\\\\\\cos{\\left(q_{2} \\right)} & 0 & - \\sin{\\left(q_{2} \\right)}\\\\0 & \\sin{\\left(q_{2} \\right)} & 0\\end{matrix}\\right]$"
      ],
      "text/plain": [
       "Matrix([\n",
       "[      0, -cos(q2),        0],\n",
       "[cos(q2),        0, -sin(q2)],\n",
       "[      0,  sin(q2),        0]])"
      ]
     },
     "metadata": {},
     "output_type": "display_data"
    },
    {
     "data": {
      "text/latex": [
       "$\\displaystyle \\left[\\begin{matrix}\\sin{\\left(q_{2} \\right)}\\\\0\\\\\\cos{\\left(q_{2} \\right)}\\end{matrix}\\right]$"
      ],
      "text/plain": [
       "Matrix([\n",
       "[sin(q2)],\n",
       "[      0],\n",
       "[cos(q2)]])"
      ]
     },
     "metadata": {},
     "output_type": "display_data"
    }
   ],
   "source": [
    "J_dol = []\n",
    "for i in range(0,3):\n",
    "    dR = R.diff(q[i]).doit()\n",
    "    print(f\"--- dR/dq_{i+1} R^T ---\")\n",
    "    display(dR)\n",
    "    dR = simplify(dR * R.transpose())\n",
    "    display(dR)\n",
    "    v = to_vector(dR)\n",
    "    J_dol.append(v)\n",
    "    display(Matrix(v))"
   ]
  },
  {
   "cell_type": "code",
   "execution_count": 90,
   "metadata": {},
   "outputs": [
    {
     "data": {
      "text/latex": [
       "$\\displaystyle \\left[\\begin{matrix}0 & 0 & \\cos{\\left(q_{1} \\right)}\\\\0 & 0 & \\sin{\\left(q_{1} \\right)}\\\\1 & 0 & 0\\end{matrix}\\right]$"
      ],
      "text/plain": [
       "Matrix([\n",
       "[0, 0, cos(q1)],\n",
       "[0, 0, sin(q1)],\n",
       "[1, 0,       0]])"
      ]
     },
     "execution_count": 90,
     "metadata": {},
     "output_type": "execute_result"
    }
   ],
   "source": []
  },
  {
   "cell_type": "markdown",
   "metadata": {},
   "source": [
    "### Jakobian manipulatora\n",
    "# $$J=$$"
   ]
  },
  {
   "cell_type": "code",
   "execution_count": 16,
   "metadata": {},
   "outputs": [
    {
     "data": {
      "text/latex": [
       "$\\displaystyle \\left[\\begin{matrix}0 & a_{2} \\cos{\\left(q_{2} \\right)} \\cos{\\left(q_{3} \\right)} & - a_{2} \\sin{\\left(q_{2} \\right)} \\sin{\\left(q_{3} \\right)}\\\\0 & 0 & a_{2} \\cos{\\left(q_{3} \\right)}\\\\1 & - a_{2} \\sin{\\left(q_{2} \\right)} \\cos{\\left(q_{3} \\right)} & - a_{2} \\sin{\\left(q_{3} \\right)} \\cos{\\left(q_{2} \\right)}\\\\0 & 0 & - \\cos{\\left(q_{2} \\right)}\\\\0 & 1 & 0\\\\0 & 0 & \\sin{\\left(q_{2} \\right)}\\end{matrix}\\right]$"
      ],
      "text/plain": [
       "Matrix([\n",
       "[0,  a2*cos(q2)*cos(q3), -a2*sin(q2)*sin(q3)],\n",
       "[0,                   0,          a2*cos(q3)],\n",
       "[1, -a2*sin(q2)*cos(q3), -a2*sin(q3)*cos(q2)],\n",
       "[0,                   0,            -cos(q2)],\n",
       "[0,                   1,                   0],\n",
       "[0,                   0,             sin(q2)]])"
      ]
     },
     "execution_count": 16,
     "metadata": {},
     "output_type": "execute_result"
    }
   ],
   "source": [
    "J = Matrix(dT).col_join(Matrix(J_dol).transpose())\n",
    "J"
   ]
  }
 ],
 "metadata": {
  "kernelspec": {
   "display_name": "Python 3",
   "language": "python",
   "name": "python3"
  },
  "language_info": {
   "codemirror_mode": {
    "name": "ipython",
    "version": 3
   },
   "file_extension": ".py",
   "mimetype": "text/x-python",
   "name": "python",
   "nbconvert_exporter": "python",
   "pygments_lexer": "ipython3",
   "version": "3.8.0-final"
  },
  "orig_nbformat": 2
 },
 "nbformat": 4,
 "nbformat_minor": 2
}
