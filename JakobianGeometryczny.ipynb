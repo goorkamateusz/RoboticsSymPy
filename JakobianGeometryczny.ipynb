{
 "metadata": {
  "language_info": {
   "codemirror_mode": {
    "name": "ipython",
    "version": 3
   },
   "file_extension": ".py",
   "mimetype": "text/x-python",
   "name": "python",
   "nbconvert_exporter": "python",
   "pygments_lexer": "ipython3",
   "version": "3.8.3-final"
  },
  "orig_nbformat": 2,
  "kernelspec": {
   "name": "python3",
   "display_name": "Python 3",
   "language": "python"
  }
 },
 "nbformat": 4,
 "nbformat_minor": 2,
 "cells": [
  {
   "source": [
    "# Jakobian geometryczny"
   ],
   "cell_type": "markdown",
   "metadata": {}
  },
  {
   "cell_type": "code",
   "execution_count": 2,
   "metadata": {},
   "outputs": [],
   "source": [
    "from sympy import *\n",
    "from RobotykaLib import *\n",
    "q1, q2, q3, q4 = symbols('q1 q2 q3 q4', real=True)  # q\n",
    "a, a1, a2, a3 = symbols('a a1 a2 a3', real=True)    # a\n",
    "d, d1, d2, d3 = symbols('d d1 d2 d3', real=True)    # d\n",
    "l, l1, l2, l3 = symbols('l l1 l2 l3', real=True)\n",
    "alfa, beta,gamma = symbols('\\\\alpha \\\\beta \\\\gamma', real=True)\n",
    "x, y, z = symbols('x y z')                          # osie"
   ]
  },
  {
   "source": [
    "## Wprowadź dane: Macierz kinematyki:"
   ],
   "cell_type": "code",
   "metadata": {},
   "execution_count": 3,
   "outputs": []
  },
  {
   "cell_type": "code",
   "execution_count": 4,
   "metadata": {},
   "outputs": [],
   "source": [
    "K = [[-sin(q1)*cos(q3), -cos(q1), sin(q1)*sin(q3), -sin(q1)*(a3*cos(q3)+a3) + q2*cos(q1)],\n",
    "[cos(q1)*cos(q3), -sin(q1), -cos(q1)*sin(q3), cos(q1)*(a3*cos(q3)+a2)+ q2*(sin(q1))],\n",
    "[sin(q3), 0, cos(q3), d1 + a3 * sin(q3)],\n",
    "[0,0,0,1]]"
   ]
  },
  {
   "cell_type": "code",
   "execution_count": 5,
   "metadata": {},
   "outputs": [
    {
     "output_type": "execute_result",
     "data": {
      "text/plain": [
       "Matrix([\n",
       "[-sin(q1)*cos(q3), -cos(q1),  sin(q1)*sin(q3), q2*cos(q1) - (a3*cos(q3) + a3)*sin(q1)],\n",
       "[ cos(q1)*cos(q3), -sin(q1), -sin(q3)*cos(q1), q2*sin(q1) + (a2 + a3*cos(q3))*cos(q1)],\n",
       "[         sin(q3),        0,          cos(q3),                        a3*sin(q3) + d1],\n",
       "[               0,        0,                0,                                      1]])"
      ],
      "text/latex": "$\\displaystyle \\left[\\begin{matrix}- \\sin{\\left(q_{1} \\right)} \\cos{\\left(q_{3} \\right)} & - \\cos{\\left(q_{1} \\right)} & \\sin{\\left(q_{1} \\right)} \\sin{\\left(q_{3} \\right)} & q_{2} \\cos{\\left(q_{1} \\right)} - \\left(a_{3} \\cos{\\left(q_{3} \\right)} + a_{3}\\right) \\sin{\\left(q_{1} \\right)}\\\\\\cos{\\left(q_{1} \\right)} \\cos{\\left(q_{3} \\right)} & - \\sin{\\left(q_{1} \\right)} & - \\sin{\\left(q_{3} \\right)} \\cos{\\left(q_{1} \\right)} & q_{2} \\sin{\\left(q_{1} \\right)} + \\left(a_{2} + a_{3} \\cos{\\left(q_{3} \\right)}\\right) \\cos{\\left(q_{1} \\right)}\\\\\\sin{\\left(q_{3} \\right)} & 0 & \\cos{\\left(q_{3} \\right)} & a_{3} \\sin{\\left(q_{3} \\right)} + d_{1}\\\\0 & 0 & 0 & 1\\end{matrix}\\right]$"
     },
     "metadata": {},
     "execution_count": 5
    }
   ],
   "source": [
    "K = Matrix(K)\n",
    "K"
   ]
  },
  {
   "source": [
    "### Macierz rotacji"
   ],
   "cell_type": "markdown",
   "metadata": {}
  },
  {
   "cell_type": "code",
   "execution_count": 6,
   "metadata": {},
   "outputs": [
    {
     "output_type": "execute_result",
     "data": {
      "text/plain": [
       "Matrix([\n",
       "[-sin(q1)*cos(q3), -cos(q1),  sin(q1)*sin(q3)],\n",
       "[ cos(q1)*cos(q3), -sin(q1), -sin(q3)*cos(q1)],\n",
       "[         sin(q3),        0,          cos(q3)]])"
      ],
      "text/latex": "$\\displaystyle \\left[\\begin{matrix}- \\sin{\\left(q_{1} \\right)} \\cos{\\left(q_{3} \\right)} & - \\cos{\\left(q_{1} \\right)} & \\sin{\\left(q_{1} \\right)} \\sin{\\left(q_{3} \\right)}\\\\\\cos{\\left(q_{1} \\right)} \\cos{\\left(q_{3} \\right)} & - \\sin{\\left(q_{1} \\right)} & - \\sin{\\left(q_{3} \\right)} \\cos{\\left(q_{1} \\right)}\\\\\\sin{\\left(q_{3} \\right)} & 0 & \\cos{\\left(q_{3} \\right)}\\end{matrix}\\right]$"
     },
     "metadata": {},
     "execution_count": 6
    }
   ],
   "source": [
    "R = K.minor_submatrix(3,3)\n",
    "R"
   ]
  },
  {
   "source": [
    "### Wektor transpozycji"
   ],
   "cell_type": "markdown",
   "metadata": {}
  },
  {
   "cell_type": "code",
   "execution_count": 7,
   "metadata": {},
   "outputs": [
    {
     "output_type": "execute_result",
     "data": {
      "text/plain": [
       "Matrix([\n",
       "[q2*cos(q1) - (a3*cos(q3) + a3)*sin(q1)],\n",
       "[q2*sin(q1) + (a2 + a3*cos(q3))*cos(q1)],\n",
       "[                       a3*sin(q3) + d1]])"
      ],
      "text/latex": "$\\displaystyle \\left[\\begin{matrix}q_{2} \\cos{\\left(q_{1} \\right)} - \\left(a_{3} \\cos{\\left(q_{3} \\right)} + a_{3}\\right) \\sin{\\left(q_{1} \\right)}\\\\q_{2} \\sin{\\left(q_{1} \\right)} + \\left(a_{2} + a_{3} \\cos{\\left(q_{3} \\right)}\\right) \\cos{\\left(q_{1} \\right)}\\\\a_{3} \\sin{\\left(q_{3} \\right)} + d_{1}\\end{matrix}\\right]$"
     },
     "metadata": {},
     "execution_count": 7
    }
   ],
   "source": [
    "T = K.copy()\n",
    "T.row_del(3)\n",
    "for i in range(0,3):\n",
    "    T.col_del(0)\n",
    "T"
   ]
  },
  {
   "cell_type": "code",
   "execution_count": 8,
   "metadata": {},
   "outputs": [
    {
     "output_type": "execute_result",
     "data": {
      "text/plain": [
       "Matrix([\n",
       "[q1],\n",
       "[q2],\n",
       "[q3]])"
      ],
      "text/latex": "$\\displaystyle \\left[\\begin{matrix}q_{1}\\\\q_{2}\\\\q_{3}\\end{matrix}\\right]$"
     },
     "metadata": {},
     "execution_count": 8
    }
   ],
   "source": [
    "q = [q1, q2, q3]\n",
    "Matrix(q)"
   ]
  },
  {
   "source": [
    "### Góra jakobianu manipulatora"
   ],
   "cell_type": "markdown",
   "metadata": {}
  },
  {
   "cell_type": "code",
   "execution_count": 10,
   "metadata": {},
   "outputs": [
    {
     "output_type": "execute_result",
     "data": {
      "text/plain": [
       "Matrix([\n",
       "[-q2*sin(q1) + (-a3*cos(q3) - a3)*cos(q1), cos(q1),  a3*sin(q1)*sin(q3)],\n",
       "[  q2*cos(q1) - (a2 + a3*cos(q3))*sin(q1), sin(q1), -a3*sin(q3)*cos(q1)],\n",
       "[                                       0,       0,          a3*cos(q3)]])"
      ],
      "text/latex": "$\\displaystyle \\left[\\begin{matrix}- q_{2} \\sin{\\left(q_{1} \\right)} + \\left(- a_{3} \\cos{\\left(q_{3} \\right)} - a_{3}\\right) \\cos{\\left(q_{1} \\right)} & \\cos{\\left(q_{1} \\right)} & a_{3} \\sin{\\left(q_{1} \\right)} \\sin{\\left(q_{3} \\right)}\\\\q_{2} \\cos{\\left(q_{1} \\right)} - \\left(a_{2} + a_{3} \\cos{\\left(q_{3} \\right)}\\right) \\sin{\\left(q_{1} \\right)} & \\sin{\\left(q_{1} \\right)} & - a_{3} \\sin{\\left(q_{3} \\right)} \\cos{\\left(q_{1} \\right)}\\\\0 & 0 & a_{3} \\cos{\\left(q_{3} \\right)}\\end{matrix}\\right]$"
     },
     "metadata": {},
     "execution_count": 10
    }
   ],
   "source": [
    "dT = []\n",
    "for i in range(0,3):\n",
    "    row = []\n",
    "    for qi in q:\n",
    "        row.append(T[i].diff(qi).doit())\n",
    "    dT.append(row)\n",
    "\n",
    "Matrix(dT)\n"
   ]
  },
  {
   "cell_type": "code",
   "execution_count": 11,
   "metadata": {},
   "outputs": [],
   "source": [
    "def to_vector(A):\n",
    "    v = []\n",
    "    v.append(A[2,1])\n",
    "    v.append(A[0,2])\n",
    "    v.append(A[1,0])\n",
    "    return v"
   ]
  },
  {
   "source": [
    "### Dół jakobianu manipulatora"
   ],
   "cell_type": "markdown",
   "metadata": {}
  },
  {
   "cell_type": "code",
   "execution_count": 12,
   "metadata": {},
   "outputs": [
    {
     "output_type": "stream",
     "name": "stdout",
     "text": [
      "--- dR/dq_1 R^T ---\n"
     ]
    },
    {
     "output_type": "display_data",
     "data": {
      "text/plain": "Matrix([\n[-cos(q1)*cos(q3),  sin(q1), sin(q3)*cos(q1)],\n[-sin(q1)*cos(q3), -cos(q1), sin(q1)*sin(q3)],\n[               0,        0,               0]])",
      "text/latex": "$\\displaystyle \\left[\\begin{matrix}- \\cos{\\left(q_{1} \\right)} \\cos{\\left(q_{3} \\right)} & \\sin{\\left(q_{1} \\right)} & \\sin{\\left(q_{3} \\right)} \\cos{\\left(q_{1} \\right)}\\\\- \\sin{\\left(q_{1} \\right)} \\cos{\\left(q_{3} \\right)} & - \\cos{\\left(q_{1} \\right)} & \\sin{\\left(q_{1} \\right)} \\sin{\\left(q_{3} \\right)}\\\\0 & 0 & 0\\end{matrix}\\right]$"
     },
     "metadata": {}
    },
    {
     "output_type": "display_data",
     "data": {
      "text/plain": "Matrix([\n[0, -1, 0],\n[1,  0, 0],\n[0,  0, 0]])",
      "text/latex": "$\\displaystyle \\left[\\begin{matrix}0 & -1 & 0\\\\1 & 0 & 0\\\\0 & 0 & 0\\end{matrix}\\right]$"
     },
     "metadata": {}
    },
    {
     "output_type": "display_data",
     "data": {
      "text/plain": "Matrix([\n[0],\n[0],\n[1]])",
      "text/latex": "$\\displaystyle \\left[\\begin{matrix}0\\\\0\\\\1\\end{matrix}\\right]$"
     },
     "metadata": {}
    },
    {
     "output_type": "stream",
     "name": "stdout",
     "text": [
      "--- dR/dq_2 R^T ---\n"
     ]
    },
    {
     "output_type": "display_data",
     "data": {
      "text/plain": "Matrix([\n[0, 0, 0],\n[0, 0, 0],\n[0, 0, 0]])",
      "text/latex": "$\\displaystyle \\left[\\begin{matrix}0 & 0 & 0\\\\0 & 0 & 0\\\\0 & 0 & 0\\end{matrix}\\right]$"
     },
     "metadata": {}
    },
    {
     "output_type": "display_data",
     "data": {
      "text/plain": "Matrix([\n[0, 0, 0],\n[0, 0, 0],\n[0, 0, 0]])",
      "text/latex": "$\\displaystyle \\left[\\begin{matrix}0 & 0 & 0\\\\0 & 0 & 0\\\\0 & 0 & 0\\end{matrix}\\right]$"
     },
     "metadata": {}
    },
    {
     "output_type": "display_data",
     "data": {
      "text/plain": "Matrix([\n[0],\n[0],\n[0]])",
      "text/latex": "$\\displaystyle \\left[\\begin{matrix}0\\\\0\\\\0\\end{matrix}\\right]$"
     },
     "metadata": {}
    },
    {
     "output_type": "stream",
     "name": "stdout",
     "text": [
      "--- dR/dq_3 R^T ---\n"
     ]
    },
    {
     "output_type": "display_data",
     "data": {
      "text/plain": "Matrix([\n[ sin(q1)*sin(q3), 0,  sin(q1)*cos(q3)],\n[-sin(q3)*cos(q1), 0, -cos(q1)*cos(q3)],\n[         cos(q3), 0,         -sin(q3)]])",
      "text/latex": "$\\displaystyle \\left[\\begin{matrix}\\sin{\\left(q_{1} \\right)} \\sin{\\left(q_{3} \\right)} & 0 & \\sin{\\left(q_{1} \\right)} \\cos{\\left(q_{3} \\right)}\\\\- \\sin{\\left(q_{3} \\right)} \\cos{\\left(q_{1} \\right)} & 0 & - \\cos{\\left(q_{1} \\right)} \\cos{\\left(q_{3} \\right)}\\\\\\cos{\\left(q_{3} \\right)} & 0 & - \\sin{\\left(q_{3} \\right)}\\end{matrix}\\right]$"
     },
     "metadata": {}
    },
    {
     "output_type": "display_data",
     "data": {
      "text/plain": "Matrix([\n[       0,       0,  sin(q1)],\n[       0,       0, -cos(q1)],\n[-sin(q1), cos(q1),        0]])",
      "text/latex": "$\\displaystyle \\left[\\begin{matrix}0 & 0 & \\sin{\\left(q_{1} \\right)}\\\\0 & 0 & - \\cos{\\left(q_{1} \\right)}\\\\- \\sin{\\left(q_{1} \\right)} & \\cos{\\left(q_{1} \\right)} & 0\\end{matrix}\\right]$"
     },
     "metadata": {}
    },
    {
     "output_type": "display_data",
     "data": {
      "text/plain": "Matrix([\n[cos(q1)],\n[sin(q1)],\n[      0]])",
      "text/latex": "$\\displaystyle \\left[\\begin{matrix}\\cos{\\left(q_{1} \\right)}\\\\\\sin{\\left(q_{1} \\right)}\\\\0\\end{matrix}\\right]$"
     },
     "metadata": {}
    }
   ],
   "source": [
    "J_dol = []\n",
    "for i in range(0,3):\n",
    "    dR = R.diff(q[i]).doit()\n",
    "    print(f\"--- dR/dq_{i+1} R^T ---\")\n",
    "    display(dR)\n",
    "    dR = simplify(dR * R.transpose())\n",
    "    display(dR)\n",
    "    v = to_vector(dR)\n",
    "    J_dol.append(v)\n",
    "    display(Matrix(v))"
   ]
  },
  {
   "cell_type": "code",
   "execution_count": 90,
   "metadata": {},
   "outputs": [
    {
     "output_type": "execute_result",
     "data": {
      "text/plain": [
       "Matrix([\n",
       "[0, 0, cos(q1)],\n",
       "[0, 0, sin(q1)],\n",
       "[1, 0,       0]])"
      ],
      "text/latex": "$\\displaystyle \\left[\\begin{matrix}0 & 0 & \\cos{\\left(q_{1} \\right)}\\\\0 & 0 & \\sin{\\left(q_{1} \\right)}\\\\1 & 0 & 0\\end{matrix}\\right]$"
     },
     "metadata": {},
     "execution_count": 90
    }
   ],
   "source": []
  },
  {
   "source": [
    "### Jakobian manipulatora"
   ],
   "cell_type": "markdown",
   "metadata": {}
  },
  {
   "cell_type": "code",
   "execution_count": 13,
   "metadata": {},
   "outputs": [
    {
     "output_type": "execute_result",
     "data": {
      "text/plain": [
       "Matrix([\n",
       "[-q2*sin(q1) + (-a3*cos(q3) - a3)*cos(q1), cos(q1),  a3*sin(q1)*sin(q3)],\n",
       "[  q2*cos(q1) - (a2 + a3*cos(q3))*sin(q1), sin(q1), -a3*sin(q3)*cos(q1)],\n",
       "[                                       0,       0,          a3*cos(q3)],\n",
       "[                                       0,       0,             cos(q1)],\n",
       "[                                       0,       0,             sin(q1)],\n",
       "[                                       1,       0,                   0]])"
      ],
      "text/latex": "$\\displaystyle \\left[\\begin{matrix}- q_{2} \\sin{\\left(q_{1} \\right)} + \\left(- a_{3} \\cos{\\left(q_{3} \\right)} - a_{3}\\right) \\cos{\\left(q_{1} \\right)} & \\cos{\\left(q_{1} \\right)} & a_{3} \\sin{\\left(q_{1} \\right)} \\sin{\\left(q_{3} \\right)}\\\\q_{2} \\cos{\\left(q_{1} \\right)} - \\left(a_{2} + a_{3} \\cos{\\left(q_{3} \\right)}\\right) \\sin{\\left(q_{1} \\right)} & \\sin{\\left(q_{1} \\right)} & - a_{3} \\sin{\\left(q_{3} \\right)} \\cos{\\left(q_{1} \\right)}\\\\0 & 0 & a_{3} \\cos{\\left(q_{3} \\right)}\\\\0 & 0 & \\cos{\\left(q_{1} \\right)}\\\\0 & 0 & \\sin{\\left(q_{1} \\right)}\\\\1 & 0 & 0\\end{matrix}\\right]$"
     },
     "metadata": {},
     "execution_count": 13
    }
   ],
   "source": [
    "J = Matrix(dT).col_join(Matrix(J_dol).transpose())\n",
    "J"
   ]
  }
 ]
}