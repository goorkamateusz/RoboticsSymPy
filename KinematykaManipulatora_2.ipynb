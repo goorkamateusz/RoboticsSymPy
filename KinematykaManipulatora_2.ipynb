{
 "metadata": {
  "language_info": {
   "codemirror_mode": {
    "name": "ipython",
    "version": 3
   },
   "file_extension": ".py",
   "mimetype": "text/x-python",
   "name": "python",
   "nbconvert_exporter": "python",
   "pygments_lexer": "ipython3",
   "version": "3.8.3-final"
  },
  "orig_nbformat": 2,
  "kernelspec": {
   "name": "python3",
   "display_name": "Python 3",
   "language": "python"
  }
 },
 "nbformat": 4,
 "nbformat_minor": 2,
 "cells": [
  {
   "source": [
    "# Kinematyka Manipulatora dla dowolnej wielkości tablicy DH\n",
    "Na podstawie macierzy przekształceń członów manipulatora,\n",
    "wyliczonych np. algorytmem Denavita-Hantenberga wyznacza:\n",
    "- Macierz kinematyki (dla współrzędnych kartezjańskich);\n",
    "- Jakobian analityczny (dla współrzędnych kartezjańskich);\n",
    "- Wyznacznik Jakobianu analitycznego i jego miejsca zerowe;"
   ],
   "cell_type": "markdown",
   "metadata": {}
  },
  {
   "cell_type": "code",
   "execution_count": 21,
   "metadata": {},
   "outputs": [],
   "source": [
    "from sympy import *\n",
    "from RobotykaLib import *\n",
    "from IPython.display import display, Latex\n",
    "q1, q2, q3, q4 = symbols('q1 q2 q3 q4', real=True)  # q\n",
    "q5, q6 = symbols(\"q5 q6\", real=True)\n",
    "a, a1, a2, a3 = symbols('a a1 a2 a3', real=True)    # a\n",
    "d, d1, d2, d3 = symbols('d d1 d2 d3', real=True)    # d\n",
    "d4, d5, d6 = symbols('d4 d5 d6', real=True)\n",
    "l, l1, l2, l3 = symbols('l l1 l2 l3', real=True)\n",
    "alfa, beta,gamma = symbols('\\\\alpha \\\\beta \\\\gamma', real=True)\n",
    "x, y, z = symbols('x y z')                          # osie\n",
    "#\n",
    "# rot(z,q1)*trans(z,a1)*trans(x,a)*rot(z,pi/2)"
   ]
  },
  {
   "source": [
    "# Wprowadź macierze $A_0^1$, ... $A_{n-1}^n$"
   ],
   "cell_type": "markdown",
   "metadata": {}
  },
  {
   "cell_type": "code",
   "execution_count": 22,
   "metadata": {},
   "outputs": [],
   "source": [
    "A = []\n",
    "A.append( tr(z, d1) * rot(z, -pi/2) *               rot(x, q1)          )\n",
    "A.append( tr(z, d2) * rot(z, pi)    *               rot(x, q2 - pi/2)   )\n",
    "A.append( tr(z, d3) * rot(z, -pi/2) *               rot(x, q2 + q3)     )\n",
    "A.append(             rot(z, pi/2)  * tr(x, -d4)  * rot(x, q4)          )\n",
    "A.append(             rot(z, -pi/2) *               rot(x, q5)          )\n",
    "A.append(                             tr(x, -d5)  * rot(x, q6)          )"
   ]
  },
  {
   "cell_type": "code",
   "execution_count": 23,
   "metadata": {},
   "outputs": [
    {
     "output_type": "display_data",
     "data": {
      "text/plain": "<IPython.core.display.Latex object>",
      "text/latex": "$A_0^1 = \\left[\\begin{matrix}0 & \\cos{\\left(q_{1} \\right)} & - \\sin{\\left(q_{1} \\right)} & 0\\\\-1 & 0 & 0 & 0\\\\0 & \\sin{\\left(q_{1} \\right)} & \\cos{\\left(q_{1} \\right)} & d_{1}\\\\0 & 0 & 0 & 1\\end{matrix}\\right]$"
     },
     "metadata": {}
    },
    {
     "output_type": "display_data",
     "data": {
      "text/plain": "<IPython.core.display.Latex object>",
      "text/latex": "$A_1^2 = \\left[\\begin{matrix}-1 & 0 & 0 & 0\\\\0 & - \\sin{\\left(q_{2} \\right)} & - \\cos{\\left(q_{2} \\right)} & 0\\\\0 & - \\cos{\\left(q_{2} \\right)} & \\sin{\\left(q_{2} \\right)} & d_{2}\\\\0 & 0 & 0 & 1\\end{matrix}\\right]$"
     },
     "metadata": {}
    },
    {
     "output_type": "display_data",
     "data": {
      "text/plain": "<IPython.core.display.Latex object>",
      "text/latex": "$A_2^3 = \\left[\\begin{matrix}0 & \\cos{\\left(q_{2} + q_{3} \\right)} & - \\sin{\\left(q_{2} + q_{3} \\right)} & 0\\\\-1 & 0 & 0 & 0\\\\0 & \\sin{\\left(q_{2} + q_{3} \\right)} & \\cos{\\left(q_{2} + q_{3} \\right)} & d_{3}\\\\0 & 0 & 0 & 1\\end{matrix}\\right]$"
     },
     "metadata": {}
    },
    {
     "output_type": "display_data",
     "data": {
      "text/plain": "<IPython.core.display.Latex object>",
      "text/latex": "$A_3^4 = \\left[\\begin{matrix}0 & - \\cos{\\left(q_{4} \\right)} & \\sin{\\left(q_{4} \\right)} & 0\\\\1 & 0 & 0 & - d_{4}\\\\0 & \\sin{\\left(q_{4} \\right)} & \\cos{\\left(q_{4} \\right)} & 0\\\\0 & 0 & 0 & 1\\end{matrix}\\right]$"
     },
     "metadata": {}
    },
    {
     "output_type": "display_data",
     "data": {
      "text/plain": "<IPython.core.display.Latex object>",
      "text/latex": "$A_4^5 = \\left[\\begin{matrix}0 & \\cos{\\left(q_{5} \\right)} & - \\sin{\\left(q_{5} \\right)} & 0\\\\-1 & 0 & 0 & 0\\\\0 & \\sin{\\left(q_{5} \\right)} & \\cos{\\left(q_{5} \\right)} & 0\\\\0 & 0 & 0 & 1\\end{matrix}\\right]$"
     },
     "metadata": {}
    },
    {
     "output_type": "display_data",
     "data": {
      "text/plain": "<IPython.core.display.Latex object>",
      "text/latex": "$A_5^6 = \\left[\\begin{matrix}1 & 0 & 0 & - d_{5}\\\\0 & \\cos{\\left(q_{6} \\right)} & - \\sin{\\left(q_{6} \\right)} & 0\\\\0 & \\sin{\\left(q_{6} \\right)} & \\cos{\\left(q_{6} \\right)} & 0\\\\0 & 0 & 0 & 1\\end{matrix}\\right]$"
     },
     "metadata": {}
    }
   ],
   "source": [
    "for i in range(len(A)):\n",
    "    display(Latex(f\"$A_{i}^{i+1} = {latex(A[i])}$\"))"
   ]
  },
  {
   "source": [
    "________________________\n",
    "# Wyniki\n",
    "## Macierze "
   ],
   "cell_type": "markdown",
   "metadata": {}
  },
  {
   "cell_type": "code",
   "execution_count": 24,
   "metadata": {},
   "outputs": [
    {
     "output_type": "display_data",
     "data": {
      "text/plain": "<IPython.core.display.Latex object>",
      "text/latex": "$$K_{0}^{0} = \\left[\\begin{matrix}0 & \\cos{\\left(q_{1} \\right)} & - \\sin{\\left(q_{1} \\right)} & 0\\\\-1 & 0 & 0 & 0\\\\0 & \\sin{\\left(q_{1} \\right)} & \\cos{\\left(q_{1} \\right)} & d_{1}\\\\0 & 0 & 0 & 1\\end{matrix}\\right]$$"
     },
     "metadata": {}
    },
    {
     "output_type": "display_data",
     "data": {
      "text/plain": "<IPython.core.display.Latex object>",
      "text/latex": "$$K_{0}^{1} = \\left[\\begin{matrix}0 & \\sin{\\left(q_{1} - q_{2} \\right)} & - \\cos{\\left(q_{1} - q_{2} \\right)} & - d_{2} \\sin{\\left(q_{1} \\right)}\\\\1 & 0 & 0 & 0\\\\0 & - \\cos{\\left(q_{1} - q_{2} \\right)} & - \\sin{\\left(q_{1} - q_{2} \\right)} & d_{1} + d_{2} \\cos{\\left(q_{1} \\right)}\\\\0 & 0 & 0 & 1\\end{matrix}\\right]$$"
     },
     "metadata": {}
    },
    {
     "output_type": "display_data",
     "data": {
      "text/plain": "<IPython.core.display.Latex object>",
      "text/latex": "$$K_{0}^{2} = \\left[\\begin{matrix}- \\sin{\\left(q_{1} - q_{2} \\right)} & - \\sin{\\left(q_{2} + q_{3} \\right)} \\cos{\\left(q_{1} - q_{2} \\right)} & - \\cos{\\left(q_{1} - q_{2} \\right)} \\cos{\\left(q_{2} + q_{3} \\right)} & - d_{2} \\sin{\\left(q_{1} \\right)} - d_{3} \\cos{\\left(q_{1} - q_{2} \\right)}\\\\0 & \\cos{\\left(q_{2} + q_{3} \\right)} & - \\sin{\\left(q_{2} + q_{3} \\right)} & 0\\\\\\cos{\\left(q_{1} - q_{2} \\right)} & - \\sin{\\left(q_{1} - q_{2} \\right)} \\sin{\\left(q_{2} + q_{3} \\right)} & - \\sin{\\left(q_{1} - q_{2} \\right)} \\cos{\\left(q_{2} + q_{3} \\right)} & d_{1} + d_{2} \\cos{\\left(q_{1} \\right)} - d_{3} \\sin{\\left(q_{1} - q_{2} \\right)}\\\\0 & 0 & 0 & 1\\end{matrix}\\right]$$"
     },
     "metadata": {}
    },
    {
     "output_type": "display_data",
     "data": {
      "text/plain": "<IPython.core.display.Latex object>",
      "text/latex": "$$K_{0}^{3} = \\left[\\begin{matrix}- \\sin{\\left(q_{2} + q_{3} \\right)} \\cos{\\left(q_{1} - q_{2} \\right)} & - \\sin{\\left(q_{4} \\right)} \\cos{\\left(q_{1} - q_{2} \\right)} \\cos{\\left(q_{2} + q_{3} \\right)} + \\sin{\\left(q_{1} - q_{2} \\right)} \\cos{\\left(q_{4} \\right)} & - \\sin{\\left(q_{4} \\right)} \\sin{\\left(q_{1} - q_{2} \\right)} - \\cos{\\left(q_{4} \\right)} \\cos{\\left(q_{1} - q_{2} \\right)} \\cos{\\left(q_{2} + q_{3} \\right)} & - d_{2} \\sin{\\left(q_{1} \\right)} - d_{3} \\cos{\\left(q_{1} - q_{2} \\right)} + d_{4} \\sin{\\left(q_{2} + q_{3} \\right)} \\cos{\\left(q_{1} - q_{2} \\right)}\\\\\\cos{\\left(q_{2} + q_{3} \\right)} & - \\sin{\\left(q_{4} \\right)} \\sin{\\left(q_{2} + q_{3} \\right)} & - \\sin{\\left(q_{2} + q_{3} \\right)} \\cos{\\left(q_{4} \\right)} & - d_{4} \\cos{\\left(q_{2} + q_{3} \\right)}\\\\- \\sin{\\left(q_{1} - q_{2} \\right)} \\sin{\\left(q_{2} + q_{3} \\right)} & - \\sin{\\left(q_{4} \\right)} \\sin{\\left(q_{1} - q_{2} \\right)} \\cos{\\left(q_{2} + q_{3} \\right)} - \\cos{\\left(q_{4} \\right)} \\cos{\\left(q_{1} - q_{2} \\right)} & \\sin{\\left(q_{4} \\right)} \\cos{\\left(q_{1} - q_{2} \\right)} - \\sin{\\left(q_{1} - q_{2} \\right)} \\cos{\\left(q_{4} \\right)} \\cos{\\left(q_{2} + q_{3} \\right)} & d_{1} + d_{2} \\cos{\\left(q_{1} \\right)} - d_{3} \\sin{\\left(q_{1} - q_{2} \\right)} + d_{4} \\sin{\\left(q_{1} - q_{2} \\right)} \\sin{\\left(q_{2} + q_{3} \\right)}\\\\0 & 0 & 0 & 1\\end{matrix}\\right]$$"
     },
     "metadata": {}
    },
    {
     "output_type": "display_data",
     "data": {
      "text/plain": "<IPython.core.display.Latex object>",
      "text/latex": "$$K_{0}^{4} = \\left[\\begin{matrix}\\sin{\\left(q_{4} \\right)} \\cos{\\left(q_{1} - q_{2} \\right)} \\cos{\\left(q_{2} + q_{3} \\right)} - \\sin{\\left(q_{1} - q_{2} \\right)} \\cos{\\left(q_{4} \\right)} & - \\left(\\sin{\\left(q_{4} \\right)} \\sin{\\left(q_{1} - q_{2} \\right)} + \\cos{\\left(q_{4} \\right)} \\cos{\\left(q_{1} - q_{2} \\right)} \\cos{\\left(q_{2} + q_{3} \\right)}\\right) \\sin{\\left(q_{5} \\right)} - \\sin{\\left(q_{2} + q_{3} \\right)} \\cos{\\left(q_{5} \\right)} \\cos{\\left(q_{1} - q_{2} \\right)} & - \\left(\\sin{\\left(q_{4} \\right)} \\sin{\\left(q_{1} - q_{2} \\right)} + \\cos{\\left(q_{4} \\right)} \\cos{\\left(q_{1} - q_{2} \\right)} \\cos{\\left(q_{2} + q_{3} \\right)}\\right) \\cos{\\left(q_{5} \\right)} + \\sin{\\left(q_{5} \\right)} \\sin{\\left(q_{2} + q_{3} \\right)} \\cos{\\left(q_{1} - q_{2} \\right)} & - d_{2} \\sin{\\left(q_{1} \\right)} - d_{3} \\cos{\\left(q_{1} - q_{2} \\right)} + d_{4} \\sin{\\left(q_{2} + q_{3} \\right)} \\cos{\\left(q_{1} - q_{2} \\right)}\\\\\\sin{\\left(q_{4} \\right)} \\sin{\\left(q_{2} + q_{3} \\right)} & - \\sin{\\left(q_{5} \\right)} \\sin{\\left(q_{2} + q_{3} \\right)} \\cos{\\left(q_{4} \\right)} + \\cos{\\left(q_{5} \\right)} \\cos{\\left(q_{2} + q_{3} \\right)} & - \\sin{\\left(q_{5} \\right)} \\cos{\\left(q_{2} + q_{3} \\right)} - \\sin{\\left(q_{2} + q_{3} \\right)} \\cos{\\left(q_{4} \\right)} \\cos{\\left(q_{5} \\right)} & - d_{4} \\cos{\\left(q_{2} + q_{3} \\right)}\\\\\\sin{\\left(q_{4} \\right)} \\sin{\\left(q_{1} - q_{2} \\right)} \\cos{\\left(q_{2} + q_{3} \\right)} + \\cos{\\left(q_{4} \\right)} \\cos{\\left(q_{1} - q_{2} \\right)} & \\left(\\sin{\\left(q_{4} \\right)} \\cos{\\left(q_{1} - q_{2} \\right)} - \\sin{\\left(q_{1} - q_{2} \\right)} \\cos{\\left(q_{4} \\right)} \\cos{\\left(q_{2} + q_{3} \\right)}\\right) \\sin{\\left(q_{5} \\right)} - \\sin{\\left(q_{1} - q_{2} \\right)} \\sin{\\left(q_{2} + q_{3} \\right)} \\cos{\\left(q_{5} \\right)} & \\left(\\sin{\\left(q_{4} \\right)} \\cos{\\left(q_{1} - q_{2} \\right)} - \\sin{\\left(q_{1} - q_{2} \\right)} \\cos{\\left(q_{4} \\right)} \\cos{\\left(q_{2} + q_{3} \\right)}\\right) \\cos{\\left(q_{5} \\right)} + \\sin{\\left(q_{5} \\right)} \\sin{\\left(q_{1} - q_{2} \\right)} \\sin{\\left(q_{2} + q_{3} \\right)} & d_{1} + d_{2} \\cos{\\left(q_{1} \\right)} - d_{3} \\sin{\\left(q_{1} - q_{2} \\right)} + d_{4} \\sin{\\left(q_{1} - q_{2} \\right)} \\sin{\\left(q_{2} + q_{3} \\right)}\\\\0 & 0 & 0 & 1\\end{matrix}\\right]$$"
     },
     "metadata": {}
    },
    {
     "output_type": "display_data",
     "data": {
      "text/plain": "<IPython.core.display.Latex object>",
      "text/latex": "$$K_{0}^{5} = \\left[\\begin{matrix}\\sin{\\left(q_{4} \\right)} \\cos{\\left(q_{1} - q_{2} \\right)} \\cos{\\left(q_{2} + q_{3} \\right)} - \\sin{\\left(q_{1} - q_{2} \\right)} \\cos{\\left(q_{4} \\right)} & - \\sin{\\left(q_{4} \\right)} \\sin{\\left(q_{1} - q_{2} \\right)} \\sin{\\left(q_{5} + q_{6} \\right)} - \\sin{\\left(q_{2} + q_{3} \\right)} \\cos{\\left(q_{1} - q_{2} \\right)} \\cos{\\left(q_{5} + q_{6} \\right)} - \\sin{\\left(q_{5} + q_{6} \\right)} \\cos{\\left(q_{4} \\right)} \\cos{\\left(q_{1} - q_{2} \\right)} \\cos{\\left(q_{2} + q_{3} \\right)} & - \\sin{\\left(q_{4} \\right)} \\sin{\\left(q_{1} - q_{2} \\right)} \\cos{\\left(q_{5} + q_{6} \\right)} + \\sin{\\left(q_{2} + q_{3} \\right)} \\sin{\\left(q_{5} + q_{6} \\right)} \\cos{\\left(q_{1} - q_{2} \\right)} - \\cos{\\left(q_{4} \\right)} \\cos{\\left(q_{1} - q_{2} \\right)} \\cos{\\left(q_{2} + q_{3} \\right)} \\cos{\\left(q_{5} + q_{6} \\right)} & - d_{2} \\sin{\\left(q_{1} \\right)} - d_{3} \\cos{\\left(q_{1} - q_{2} \\right)} + d_{4} \\sin{\\left(q_{2} + q_{3} \\right)} \\cos{\\left(q_{1} - q_{2} \\right)} - d_{5} \\left(\\sin{\\left(q_{4} \\right)} \\cos{\\left(q_{1} - q_{2} \\right)} \\cos{\\left(q_{2} + q_{3} \\right)} - \\sin{\\left(q_{1} - q_{2} \\right)} \\cos{\\left(q_{4} \\right)}\\right)\\\\\\sin{\\left(q_{4} \\right)} \\sin{\\left(q_{2} + q_{3} \\right)} & - \\sin{\\left(q_{2} + q_{3} \\right)} \\sin{\\left(q_{5} + q_{6} \\right)} \\cos{\\left(q_{4} \\right)} + \\cos{\\left(q_{2} + q_{3} \\right)} \\cos{\\left(q_{5} + q_{6} \\right)} & - \\sin{\\left(q_{2} + q_{3} \\right)} \\cos{\\left(q_{4} \\right)} \\cos{\\left(q_{5} + q_{6} \\right)} - \\sin{\\left(q_{5} + q_{6} \\right)} \\cos{\\left(q_{2} + q_{3} \\right)} & - d_{4} \\cos{\\left(q_{2} + q_{3} \\right)} - d_{5} \\sin{\\left(q_{4} \\right)} \\sin{\\left(q_{2} + q_{3} \\right)}\\\\\\sin{\\left(q_{4} \\right)} \\sin{\\left(q_{1} - q_{2} \\right)} \\cos{\\left(q_{2} + q_{3} \\right)} + \\cos{\\left(q_{4} \\right)} \\cos{\\left(q_{1} - q_{2} \\right)} & \\left(\\left(\\sin{\\left(q_{4} \\right)} \\cos{\\left(q_{1} - q_{2} \\right)} - \\sin{\\left(q_{1} - q_{2} \\right)} \\cos{\\left(q_{4} \\right)} \\cos{\\left(q_{2} + q_{3} \\right)}\\right) \\sin{\\left(q_{5} \\right)} - \\sin{\\left(q_{1} - q_{2} \\right)} \\sin{\\left(q_{2} + q_{3} \\right)} \\cos{\\left(q_{5} \\right)}\\right) \\cos{\\left(q_{6} \\right)} + \\left(\\left(\\sin{\\left(q_{4} \\right)} \\cos{\\left(q_{1} - q_{2} \\right)} - \\sin{\\left(q_{1} - q_{2} \\right)} \\cos{\\left(q_{4} \\right)} \\cos{\\left(q_{2} + q_{3} \\right)}\\right) \\cos{\\left(q_{5} \\right)} + \\sin{\\left(q_{5} \\right)} \\sin{\\left(q_{1} - q_{2} \\right)} \\sin{\\left(q_{2} + q_{3} \\right)}\\right) \\sin{\\left(q_{6} \\right)} & - \\left(\\left(\\sin{\\left(q_{4} \\right)} \\cos{\\left(q_{1} - q_{2} \\right)} - \\sin{\\left(q_{1} - q_{2} \\right)} \\cos{\\left(q_{4} \\right)} \\cos{\\left(q_{2} + q_{3} \\right)}\\right) \\sin{\\left(q_{5} \\right)} - \\sin{\\left(q_{1} - q_{2} \\right)} \\sin{\\left(q_{2} + q_{3} \\right)} \\cos{\\left(q_{5} \\right)}\\right) \\sin{\\left(q_{6} \\right)} + \\left(\\left(\\sin{\\left(q_{4} \\right)} \\cos{\\left(q_{1} - q_{2} \\right)} - \\sin{\\left(q_{1} - q_{2} \\right)} \\cos{\\left(q_{4} \\right)} \\cos{\\left(q_{2} + q_{3} \\right)}\\right) \\cos{\\left(q_{5} \\right)} + \\sin{\\left(q_{5} \\right)} \\sin{\\left(q_{1} - q_{2} \\right)} \\sin{\\left(q_{2} + q_{3} \\right)}\\right) \\cos{\\left(q_{6} \\right)} & d_{1} + d_{2} \\cos{\\left(q_{1} \\right)} - d_{3} \\sin{\\left(q_{1} - q_{2} \\right)} + d_{4} \\sin{\\left(q_{1} - q_{2} \\right)} \\sin{\\left(q_{2} + q_{3} \\right)} - d_{5} \\left(\\sin{\\left(q_{4} \\right)} \\sin{\\left(q_{1} - q_{2} \\right)} \\cos{\\left(q_{2} + q_{3} \\right)} + \\cos{\\left(q_{4} \\right)} \\cos{\\left(q_{1} - q_{2} \\right)}\\right)\\\\0 & 0 & 0 & 1\\end{matrix}\\right]$$"
     },
     "metadata": {}
    }
   ],
   "source": [
    "K = []\n",
    "for i in range(len(A)):\n",
    "    if i == 0:\n",
    "        K.append(A[i])\n",
    "    else:\n",
    "        K.append(simplify(K[i-1] * A[i]))\n",
    "\n",
    "    display(Latex(f\"$$K_{{0}}^{{{i}}} = {latex(K[i])}$$\"))"
   ]
  },
  {
   "source": [
    "# Kinematyka manipulatora"
   ],
   "cell_type": "code",
   "metadata": {},
   "execution_count": 29,
   "outputs": []
  },
  {
   "cell_type": "code",
   "execution_count": 30,
   "metadata": {},
   "outputs": [
    {
     "output_type": "display_data",
     "data": {
      "text/plain": "<IPython.core.display.Latex object>",
      "text/latex": "$$K=\\left[\\begin{matrix}\\sin{\\left(q_{4} \\right)} \\cos{\\left(q_{1} - q_{2} \\right)} \\cos{\\left(q_{2} + q_{3} \\right)} - \\sin{\\left(q_{1} - q_{2} \\right)} \\cos{\\left(q_{4} \\right)} & - \\sin{\\left(q_{4} \\right)} \\sin{\\left(q_{1} - q_{2} \\right)} \\sin{\\left(q_{5} + q_{6} \\right)} - \\sin{\\left(q_{2} + q_{3} \\right)} \\cos{\\left(q_{1} - q_{2} \\right)} \\cos{\\left(q_{5} + q_{6} \\right)} - \\sin{\\left(q_{5} + q_{6} \\right)} \\cos{\\left(q_{4} \\right)} \\cos{\\left(q_{1} - q_{2} \\right)} \\cos{\\left(q_{2} + q_{3} \\right)} & - \\sin{\\left(q_{4} \\right)} \\sin{\\left(q_{1} - q_{2} \\right)} \\cos{\\left(q_{5} + q_{6} \\right)} + \\sin{\\left(q_{2} + q_{3} \\right)} \\sin{\\left(q_{5} + q_{6} \\right)} \\cos{\\left(q_{1} - q_{2} \\right)} - \\cos{\\left(q_{4} \\right)} \\cos{\\left(q_{1} - q_{2} \\right)} \\cos{\\left(q_{2} + q_{3} \\right)} \\cos{\\left(q_{5} + q_{6} \\right)} & - d_{2} \\sin{\\left(q_{1} \\right)} - d_{3} \\cos{\\left(q_{1} - q_{2} \\right)} + d_{4} \\sin{\\left(q_{2} + q_{3} \\right)} \\cos{\\left(q_{1} - q_{2} \\right)} - d_{5} \\left(\\sin{\\left(q_{4} \\right)} \\cos{\\left(q_{1} - q_{2} \\right)} \\cos{\\left(q_{2} + q_{3} \\right)} - \\sin{\\left(q_{1} - q_{2} \\right)} \\cos{\\left(q_{4} \\right)}\\right)\\\\\\sin{\\left(q_{4} \\right)} \\sin{\\left(q_{2} + q_{3} \\right)} & - \\sin{\\left(q_{2} + q_{3} \\right)} \\sin{\\left(q_{5} + q_{6} \\right)} \\cos{\\left(q_{4} \\right)} + \\cos{\\left(q_{2} + q_{3} \\right)} \\cos{\\left(q_{5} + q_{6} \\right)} & - \\sin{\\left(q_{2} + q_{3} \\right)} \\cos{\\left(q_{4} \\right)} \\cos{\\left(q_{5} + q_{6} \\right)} - \\sin{\\left(q_{5} + q_{6} \\right)} \\cos{\\left(q_{2} + q_{3} \\right)} & - d_{4} \\cos{\\left(q_{2} + q_{3} \\right)} - d_{5} \\sin{\\left(q_{4} \\right)} \\sin{\\left(q_{2} + q_{3} \\right)}\\\\\\sin{\\left(q_{4} \\right)} \\sin{\\left(q_{1} - q_{2} \\right)} \\cos{\\left(q_{2} + q_{3} \\right)} + \\cos{\\left(q_{4} \\right)} \\cos{\\left(q_{1} - q_{2} \\right)} & \\left(\\left(\\sin{\\left(q_{4} \\right)} \\cos{\\left(q_{1} - q_{2} \\right)} - \\sin{\\left(q_{1} - q_{2} \\right)} \\cos{\\left(q_{4} \\right)} \\cos{\\left(q_{2} + q_{3} \\right)}\\right) \\sin{\\left(q_{5} \\right)} - \\sin{\\left(q_{1} - q_{2} \\right)} \\sin{\\left(q_{2} + q_{3} \\right)} \\cos{\\left(q_{5} \\right)}\\right) \\cos{\\left(q_{6} \\right)} + \\left(\\left(\\sin{\\left(q_{4} \\right)} \\cos{\\left(q_{1} - q_{2} \\right)} - \\sin{\\left(q_{1} - q_{2} \\right)} \\cos{\\left(q_{4} \\right)} \\cos{\\left(q_{2} + q_{3} \\right)}\\right) \\cos{\\left(q_{5} \\right)} + \\sin{\\left(q_{5} \\right)} \\sin{\\left(q_{1} - q_{2} \\right)} \\sin{\\left(q_{2} + q_{3} \\right)}\\right) \\sin{\\left(q_{6} \\right)} & - \\left(\\left(\\sin{\\left(q_{4} \\right)} \\cos{\\left(q_{1} - q_{2} \\right)} - \\sin{\\left(q_{1} - q_{2} \\right)} \\cos{\\left(q_{4} \\right)} \\cos{\\left(q_{2} + q_{3} \\right)}\\right) \\sin{\\left(q_{5} \\right)} - \\sin{\\left(q_{1} - q_{2} \\right)} \\sin{\\left(q_{2} + q_{3} \\right)} \\cos{\\left(q_{5} \\right)}\\right) \\sin{\\left(q_{6} \\right)} + \\left(\\left(\\sin{\\left(q_{4} \\right)} \\cos{\\left(q_{1} - q_{2} \\right)} - \\sin{\\left(q_{1} - q_{2} \\right)} \\cos{\\left(q_{4} \\right)} \\cos{\\left(q_{2} + q_{3} \\right)}\\right) \\cos{\\left(q_{5} \\right)} + \\sin{\\left(q_{5} \\right)} \\sin{\\left(q_{1} - q_{2} \\right)} \\sin{\\left(q_{2} + q_{3} \\right)}\\right) \\cos{\\left(q_{6} \\right)} & d_{1} + d_{2} \\cos{\\left(q_{1} \\right)} - d_{3} \\sin{\\left(q_{1} - q_{2} \\right)} + d_{4} \\sin{\\left(q_{1} - q_{2} \\right)} \\sin{\\left(q_{2} + q_{3} \\right)} - d_{5} \\left(\\sin{\\left(q_{4} \\right)} \\sin{\\left(q_{1} - q_{2} \\right)} \\cos{\\left(q_{2} + q_{3} \\right)} + \\cos{\\left(q_{4} \\right)} \\cos{\\left(q_{1} - q_{2} \\right)}\\right)\\\\0 & 0 & 0 & 1\\end{matrix}\\right]$$"
     },
     "metadata": {}
    }
   ],
   "source": [
    "K_ = K[-1]\n",
    "display(Latex(f\"$$K={latex(K_)}$$\"))"
   ]
  },
  {
   "cell_type": "code",
   "execution_count": 34,
   "metadata": {},
   "outputs": [
    {
     "output_type": "display_data",
     "data": {
      "text/plain": "<IPython.core.display.Latex object>",
      "text/latex": "$$T=\\left[\\begin{matrix}- d_{2} \\sin{\\left(q_{1} \\right)} - d_{3} \\cos{\\left(q_{1} - q_{2} \\right)} + d_{4} \\sin{\\left(q_{2} + q_{3} \\right)} \\cos{\\left(q_{1} - q_{2} \\right)} - d_{5} \\left(\\sin{\\left(q_{4} \\right)} \\cos{\\left(q_{1} - q_{2} \\right)} \\cos{\\left(q_{2} + q_{3} \\right)} - \\sin{\\left(q_{1} - q_{2} \\right)} \\cos{\\left(q_{4} \\right)}\\right)\\\\- d_{4} \\cos{\\left(q_{2} + q_{3} \\right)} - d_{5} \\sin{\\left(q_{4} \\right)} \\sin{\\left(q_{2} + q_{3} \\right)}\\\\d_{1} + d_{2} \\cos{\\left(q_{1} \\right)} - d_{3} \\sin{\\left(q_{1} - q_{2} \\right)} + d_{4} \\sin{\\left(q_{1} - q_{2} \\right)} \\sin{\\left(q_{2} + q_{3} \\right)} - d_{5} \\left(\\sin{\\left(q_{4} \\right)} \\sin{\\left(q_{1} - q_{2} \\right)} \\cos{\\left(q_{2} + q_{3} \\right)} + \\cos{\\left(q_{4} \\right)} \\cos{\\left(q_{1} - q_{2} \\right)}\\right)\\end{matrix}\\right]$$"
     },
     "metadata": {}
    }
   ],
   "source": [
    "T = K_.col(3)\n",
    "T = T.row_del(3)\n",
    "display(Latex(f\"$$T={latex(T)}$$\"))"
   ]
  },
  {
   "cell_type": "code",
   "execution_count": 35,
   "metadata": {},
   "outputs": [
    {
     "output_type": "display_data",
     "data": {
      "text/plain": "<IPython.core.display.Latex object>",
      "text/latex": "$$R=\\left[\\begin{matrix}\\sin{\\left(q_{4} \\right)} \\cos{\\left(q_{1} - q_{2} \\right)} \\cos{\\left(q_{2} + q_{3} \\right)} - \\sin{\\left(q_{1} - q_{2} \\right)} \\cos{\\left(q_{4} \\right)} & - \\sin{\\left(q_{4} \\right)} \\sin{\\left(q_{1} - q_{2} \\right)} \\sin{\\left(q_{5} + q_{6} \\right)} - \\sin{\\left(q_{2} + q_{3} \\right)} \\cos{\\left(q_{1} - q_{2} \\right)} \\cos{\\left(q_{5} + q_{6} \\right)} - \\sin{\\left(q_{5} + q_{6} \\right)} \\cos{\\left(q_{4} \\right)} \\cos{\\left(q_{1} - q_{2} \\right)} \\cos{\\left(q_{2} + q_{3} \\right)} & - \\sin{\\left(q_{4} \\right)} \\sin{\\left(q_{1} - q_{2} \\right)} \\cos{\\left(q_{5} + q_{6} \\right)} + \\sin{\\left(q_{2} + q_{3} \\right)} \\sin{\\left(q_{5} + q_{6} \\right)} \\cos{\\left(q_{1} - q_{2} \\right)} - \\cos{\\left(q_{4} \\right)} \\cos{\\left(q_{1} - q_{2} \\right)} \\cos{\\left(q_{2} + q_{3} \\right)} \\cos{\\left(q_{5} + q_{6} \\right)}\\\\\\sin{\\left(q_{4} \\right)} \\sin{\\left(q_{2} + q_{3} \\right)} & - \\sin{\\left(q_{2} + q_{3} \\right)} \\sin{\\left(q_{5} + q_{6} \\right)} \\cos{\\left(q_{4} \\right)} + \\cos{\\left(q_{2} + q_{3} \\right)} \\cos{\\left(q_{5} + q_{6} \\right)} & - \\sin{\\left(q_{2} + q_{3} \\right)} \\cos{\\left(q_{4} \\right)} \\cos{\\left(q_{5} + q_{6} \\right)} - \\sin{\\left(q_{5} + q_{6} \\right)} \\cos{\\left(q_{2} + q_{3} \\right)}\\\\\\sin{\\left(q_{4} \\right)} \\sin{\\left(q_{1} - q_{2} \\right)} \\cos{\\left(q_{2} + q_{3} \\right)} + \\cos{\\left(q_{4} \\right)} \\cos{\\left(q_{1} - q_{2} \\right)} & \\left(\\left(\\sin{\\left(q_{4} \\right)} \\cos{\\left(q_{1} - q_{2} \\right)} - \\sin{\\left(q_{1} - q_{2} \\right)} \\cos{\\left(q_{4} \\right)} \\cos{\\left(q_{2} + q_{3} \\right)}\\right) \\sin{\\left(q_{5} \\right)} - \\sin{\\left(q_{1} - q_{2} \\right)} \\sin{\\left(q_{2} + q_{3} \\right)} \\cos{\\left(q_{5} \\right)}\\right) \\cos{\\left(q_{6} \\right)} + \\left(\\left(\\sin{\\left(q_{4} \\right)} \\cos{\\left(q_{1} - q_{2} \\right)} - \\sin{\\left(q_{1} - q_{2} \\right)} \\cos{\\left(q_{4} \\right)} \\cos{\\left(q_{2} + q_{3} \\right)}\\right) \\cos{\\left(q_{5} \\right)} + \\sin{\\left(q_{5} \\right)} \\sin{\\left(q_{1} - q_{2} \\right)} \\sin{\\left(q_{2} + q_{3} \\right)}\\right) \\sin{\\left(q_{6} \\right)} & - \\left(\\left(\\sin{\\left(q_{4} \\right)} \\cos{\\left(q_{1} - q_{2} \\right)} - \\sin{\\left(q_{1} - q_{2} \\right)} \\cos{\\left(q_{4} \\right)} \\cos{\\left(q_{2} + q_{3} \\right)}\\right) \\sin{\\left(q_{5} \\right)} - \\sin{\\left(q_{1} - q_{2} \\right)} \\sin{\\left(q_{2} + q_{3} \\right)} \\cos{\\left(q_{5} \\right)}\\right) \\sin{\\left(q_{6} \\right)} + \\left(\\left(\\sin{\\left(q_{4} \\right)} \\cos{\\left(q_{1} - q_{2} \\right)} - \\sin{\\left(q_{1} - q_{2} \\right)} \\cos{\\left(q_{4} \\right)} \\cos{\\left(q_{2} + q_{3} \\right)}\\right) \\cos{\\left(q_{5} \\right)} + \\sin{\\left(q_{5} \\right)} \\sin{\\left(q_{1} - q_{2} \\right)} \\sin{\\left(q_{2} + q_{3} \\right)}\\right) \\cos{\\left(q_{6} \\right)}\\end{matrix}\\right]$$"
     },
     "metadata": {}
    }
   ],
   "source": [
    "R = K_\n",
    "R = R.col_del(3)\n",
    "R = R.row_del(3)\n",
    "display(Latex(f\"$$R={latex(R)}$$\"))"
   ]
  },
  {
   "cell_type": "code",
   "execution_count": null,
   "metadata": {},
   "outputs": [],
   "source": []
  }
 ]
}