{
 "metadata": {
  "language_info": {
   "codemirror_mode": {
    "name": "ipython",
    "version": 3
   },
   "file_extension": ".py",
   "mimetype": "text/x-python",
   "name": "python",
   "nbconvert_exporter": "python",
   "pygments_lexer": "ipython3",
   "version": "3.8.3-final"
  },
  "orig_nbformat": 2,
  "kernelspec": {
   "name": "python3",
   "display_name": "Python 3",
   "language": "python"
  }
 },
 "nbformat": 4,
 "nbformat_minor": 2,
 "cells": [
  {
   "source": [
    "# Równania Dynamiki Lagranżowskiej\n"
   ],
   "cell_type": "markdown",
   "metadata": {}
  },
  {
   "cell_type": "code",
   "execution_count": 2,
   "metadata": {},
   "outputs": [],
   "source": [
    "from sympy import *\n",
    "from IPython.display import display\n",
    "t = symbols(\"t\", real=True)\n",
    "m, m1, m2, m3 = symbols(\"m m_1 m_2 m_3\", real=True)\n",
    "g = symbols(\"g\", real=True)\n",
    "\n",
    "q1 = Function(\"q_1\")(t)\n",
    "q2 = Function(\"q_2\")(t)\n",
    "q3 = Function(\"q_3\")(t)\n",
    "q4 = Function(\"q_4\")(t)\n",
    "\n",
    "dq1 = q1.diff(t).doit()\n",
    "dq2 = q2.diff(t).doit()\n",
    "dq3 = q3.diff(t).doit()\n",
    "dq4 = q4.diff(t).doit()"
   ]
  },
  {
   "source": [
    "### !!! Wprowadź współrzedne:"
   ],
   "cell_type": "markdown",
   "metadata": {}
  },
  {
   "cell_type": "code",
   "execution_count": 3,
   "metadata": {},
   "outputs": [],
   "source": [
    "q = [ q1, q2, q3 ]"
   ]
  },
  {
   "source": [
    "### !!! Wprowadź $K$ - energię ginetyczną i $V$ - energię potencjalną"
   ],
   "cell_type": "markdown",
   "metadata": {}
  },
  {
   "cell_type": "code",
   "execution_count": 4,
   "metadata": {},
   "outputs": [],
   "source": [
    "K = 2*dq1**2 + q1*q2**2*dq2**2 + dq3**2\n",
    "V = m1*g*q1*q2 + m2*g*q1**2 - m2*g*sin(q3)"
   ]
  },
  {
   "source": [
    "___________"
   ],
   "cell_type": "markdown",
   "metadata": {}
  },
  {
   "cell_type": "code",
   "execution_count": 5,
   "metadata": {},
   "outputs": [
    {
     "output_type": "execute_result",
     "data": {
      "text/plain": [
       "Matrix([\n",
       "[q_1(t)],\n",
       "[q_2(t)],\n",
       "[q_3(t)]])"
      ],
      "text/latex": "$\\displaystyle \\left[\\begin{matrix}\\operatorname{q_{1}}{\\left(t \\right)}\\\\\\operatorname{q_{2}}{\\left(t \\right)}\\\\\\operatorname{q_{3}}{\\left(t \\right)}\\end{matrix}\\right]$"
     },
     "metadata": {},
     "execution_count": 5
    }
   ],
   "source": [
    "Matrix(q)"
   ]
  },
  {
   "cell_type": "code",
   "execution_count": 6,
   "metadata": {},
   "outputs": [
    {
     "output_type": "execute_result",
     "data": {
      "text/plain": [
       "q_1(t)*q_2(t)**2*Derivative(q_2(t), t)**2 + 2*Derivative(q_1(t), t)**2 + Derivative(q_3(t), t)**2"
      ],
      "text/latex": "$\\displaystyle \\operatorname{q_{1}}{\\left(t \\right)} \\operatorname{q_{2}}^{2}{\\left(t \\right)} \\left(\\frac{d}{d t} \\operatorname{q_{2}}{\\left(t \\right)}\\right)^{2} + 2 \\left(\\frac{d}{d t} \\operatorname{q_{1}}{\\left(t \\right)}\\right)^{2} + \\left(\\frac{d}{d t} \\operatorname{q_{3}}{\\left(t \\right)}\\right)^{2}$"
     },
     "metadata": {},
     "execution_count": 6
    }
   ],
   "source": [
    "K"
   ]
  },
  {
   "cell_type": "code",
   "execution_count": 7,
   "metadata": {},
   "outputs": [
    {
     "output_type": "execute_result",
     "data": {
      "text/plain": [
       "g*m_1*q_1(t)*q_2(t) + g*m_2*q_1(t)**2 - g*m_2*sin(q_3(t))"
      ],
      "text/latex": "$\\displaystyle g m_{1} \\operatorname{q_{1}}{\\left(t \\right)} \\operatorname{q_{2}}{\\left(t \\right)} + g m_{2} \\operatorname{q_{1}}^{2}{\\left(t \\right)} - g m_{2} \\sin{\\left(\\operatorname{q_{3}}{\\left(t \\right)} \\right)}$"
     },
     "metadata": {},
     "execution_count": 7
    }
   ],
   "source": [
    "V"
   ]
  },
  {
   "source": [
    "___________________"
   ],
   "cell_type": "markdown",
   "metadata": {}
  },
  {
   "cell_type": "code",
   "execution_count": 8,
   "metadata": {},
   "outputs": [],
   "source": [
    "dq = [ q_i.diff(t).doit() for q_i in q ]\n",
    "# Matrix( dq )"
   ]
  },
  {
   "source": [
    "# Lagranżian: $$ L( q, \\dot{q} ) =$$"
   ],
   "cell_type": "markdown",
   "metadata": {}
  },
  {
   "cell_type": "code",
   "execution_count": 9,
   "metadata": {},
   "outputs": [
    {
     "output_type": "execute_result",
     "data": {
      "text/plain": [
       "-g*m_1*q_1(t)*q_2(t) - g*m_2*q_1(t)**2 + g*m_2*sin(q_3(t)) + q_1(t)*q_2(t)**2*Derivative(q_2(t), t)**2 + 2*Derivative(q_1(t), t)**2 + Derivative(q_3(t), t)**2"
      ],
      "text/latex": "$\\displaystyle - g m_{1} \\operatorname{q_{1}}{\\left(t \\right)} \\operatorname{q_{2}}{\\left(t \\right)} - g m_{2} \\operatorname{q_{1}}^{2}{\\left(t \\right)} + g m_{2} \\sin{\\left(\\operatorname{q_{3}}{\\left(t \\right)} \\right)} + \\operatorname{q_{1}}{\\left(t \\right)} \\operatorname{q_{2}}^{2}{\\left(t \\right)} \\left(\\frac{d}{d t} \\operatorname{q_{2}}{\\left(t \\right)}\\right)^{2} + 2 \\left(\\frac{d}{d t} \\operatorname{q_{1}}{\\left(t \\right)}\\right)^{2} + \\left(\\frac{d}{d t} \\operatorname{q_{3}}{\\left(t \\right)}\\right)^{2}$"
     },
     "metadata": {},
     "execution_count": 9
    }
   ],
   "source": [
    "L = K - V\n",
    "L"
   ]
  },
  {
   "source": [
    "### $$ \\frac{\\partial L}{\\partial \\dot{q}} =$$"
   ],
   "cell_type": "markdown",
   "metadata": {}
  },
  {
   "cell_type": "code",
   "execution_count": 10,
   "metadata": {},
   "outputs": [
    {
     "output_type": "execute_result",
     "data": {
      "text/plain": [
       "Matrix([\n",
       "[                 4*Derivative(q_1(t), t)],\n",
       "[2*q_1(t)*q_2(t)**2*Derivative(q_2(t), t)],\n",
       "[                 2*Derivative(q_3(t), t)]])"
      ],
      "text/latex": "$\\displaystyle \\left[\\begin{matrix}4 \\frac{d}{d t} \\operatorname{q_{1}}{\\left(t \\right)}\\\\2 \\operatorname{q_{1}}{\\left(t \\right)} \\operatorname{q_{2}}^{2}{\\left(t \\right)} \\frac{d}{d t} \\operatorname{q_{2}}{\\left(t \\right)}\\\\2 \\frac{d}{d t} \\operatorname{q_{3}}{\\left(t \\right)}\\end{matrix}\\right]$"
     },
     "metadata": {},
     "execution_count": 10
    }
   ],
   "source": [
    "dL_ddq = [ L.diff( dq_i ).doit() for dq_i in dq ]\n",
    "Matrix( dL_ddq )"
   ]
  },
  {
   "cell_type": "code",
   "execution_count": 11,
   "metadata": {},
   "outputs": [
    {
     "output_type": "execute_result",
     "data": {
      "text/plain": [
       "Matrix([\n",
       "[                 4*Derivative(q_1(t), t)],\n",
       "[2*q_1(t)*q_2(t)**2*Derivative(q_2(t), t)],\n",
       "[                 2*Derivative(q_3(t), t)]])"
      ],
      "text/latex": "$\\displaystyle \\left[\\begin{matrix}4 \\frac{d}{d t} \\operatorname{q_{1}}{\\left(t \\right)}\\\\2 \\operatorname{q_{1}}{\\left(t \\right)} \\operatorname{q_{2}}^{2}{\\left(t \\right)} \\frac{d}{d t} \\operatorname{q_{2}}{\\left(t \\right)}\\\\2 \\frac{d}{d t} \\operatorname{q_{3}}{\\left(t \\right)}\\end{matrix}\\right]$"
     },
     "metadata": {},
     "execution_count": 11
    }
   ],
   "source": [
    "Matrix([ simplify(a) for a in dL_ddq ])"
   ]
  },
  {
   "source": [
    "### $$ \\frac{\\partial}{\\partial t} ( \\frac{\\partial L}{\\partial \\dot{q}} ) =$$"
   ],
   "cell_type": "markdown",
   "metadata": {}
  },
  {
   "cell_type": "code",
   "execution_count": 12,
   "metadata": {},
   "outputs": [
    {
     "output_type": "execute_result",
     "data": {
      "text/plain": [
       "Matrix([\n",
       "[                                                                                                                      4*Derivative(q_1(t), (t, 2))],\n",
       "[2*q_1(t)*q_2(t)**2*Derivative(q_2(t), (t, 2)) + 4*q_1(t)*q_2(t)*Derivative(q_2(t), t)**2 + 2*q_2(t)**2*Derivative(q_1(t), t)*Derivative(q_2(t), t)],\n",
       "[                                                                                                                      2*Derivative(q_3(t), (t, 2))]])"
      ],
      "text/latex": "$\\displaystyle \\left[\\begin{matrix}4 \\frac{d^{2}}{d t^{2}} \\operatorname{q_{1}}{\\left(t \\right)}\\\\2 \\operatorname{q_{1}}{\\left(t \\right)} \\operatorname{q_{2}}^{2}{\\left(t \\right)} \\frac{d^{2}}{d t^{2}} \\operatorname{q_{2}}{\\left(t \\right)} + 4 \\operatorname{q_{1}}{\\left(t \\right)} \\operatorname{q_{2}}{\\left(t \\right)} \\left(\\frac{d}{d t} \\operatorname{q_{2}}{\\left(t \\right)}\\right)^{2} + 2 \\operatorname{q_{2}}^{2}{\\left(t \\right)} \\frac{d}{d t} \\operatorname{q_{1}}{\\left(t \\right)} \\frac{d}{d t} \\operatorname{q_{2}}{\\left(t \\right)}\\\\2 \\frac{d^{2}}{d t^{2}} \\operatorname{q_{3}}{\\left(t \\right)}\\end{matrix}\\right]$"
     },
     "metadata": {},
     "execution_count": 12
    }
   ],
   "source": [
    "d_dL_ddq = [ dL_ddq_i.diff(t).doit() for dL_ddq_i in dL_ddq ]\n",
    "Matrix( d_dL_ddq )"
   ]
  },
  {
   "cell_type": "code",
   "execution_count": 13,
   "metadata": {},
   "outputs": [
    {
     "output_type": "execute_result",
     "data": {
      "text/plain": [
       "Matrix([\n",
       "[                                                                                                                4*Derivative(q_1(t), (t, 2))],\n",
       "[2*(q_1(t)*q_2(t)*Derivative(q_2(t), (t, 2)) + 2*q_1(t)*Derivative(q_2(t), t)**2 + q_2(t)*Derivative(q_1(t), t)*Derivative(q_2(t), t))*q_2(t)],\n",
       "[                                                                                                                2*Derivative(q_3(t), (t, 2))]])"
      ],
      "text/latex": "$\\displaystyle \\left[\\begin{matrix}4 \\frac{d^{2}}{d t^{2}} \\operatorname{q_{1}}{\\left(t \\right)}\\\\2 \\left(\\operatorname{q_{1}}{\\left(t \\right)} \\operatorname{q_{2}}{\\left(t \\right)} \\frac{d^{2}}{d t^{2}} \\operatorname{q_{2}}{\\left(t \\right)} + 2 \\operatorname{q_{1}}{\\left(t \\right)} \\left(\\frac{d}{d t} \\operatorname{q_{2}}{\\left(t \\right)}\\right)^{2} + \\operatorname{q_{2}}{\\left(t \\right)} \\frac{d}{d t} \\operatorname{q_{1}}{\\left(t \\right)} \\frac{d}{d t} \\operatorname{q_{2}}{\\left(t \\right)}\\right) \\operatorname{q_{2}}{\\left(t \\right)}\\\\2 \\frac{d^{2}}{d t^{2}} \\operatorname{q_{3}}{\\left(t \\right)}\\end{matrix}\\right]$"
     },
     "metadata": {},
     "execution_count": 13
    }
   ],
   "source": [
    "Matrix([ simplify(a) for a in d_dL_ddq ])"
   ]
  },
  {
   "source": [
    "### $$ \\frac{\\partial L}{\\partial q}=$$"
   ],
   "cell_type": "markdown",
   "metadata": {}
  },
  {
   "cell_type": "code",
   "execution_count": 14,
   "metadata": {},
   "outputs": [
    {
     "output_type": "execute_result",
     "data": {
      "text/plain": [
       "Matrix([\n",
       "[-g*m_1*q_2(t) - 2*g*m_2*q_1(t) + q_2(t)**2*Derivative(q_2(t), t)**2],\n",
       "[           -g*m_1*q_1(t) + 2*q_1(t)*q_2(t)*Derivative(q_2(t), t)**2],\n",
       "[                                                  g*m_2*cos(q_3(t))]])"
      ],
      "text/latex": "$\\displaystyle \\left[\\begin{matrix}- g m_{1} \\operatorname{q_{2}}{\\left(t \\right)} - 2 g m_{2} \\operatorname{q_{1}}{\\left(t \\right)} + \\operatorname{q_{2}}^{2}{\\left(t \\right)} \\left(\\frac{d}{d t} \\operatorname{q_{2}}{\\left(t \\right)}\\right)^{2}\\\\- g m_{1} \\operatorname{q_{1}}{\\left(t \\right)} + 2 \\operatorname{q_{1}}{\\left(t \\right)} \\operatorname{q_{2}}{\\left(t \\right)} \\left(\\frac{d}{d t} \\operatorname{q_{2}}{\\left(t \\right)}\\right)^{2}\\\\g m_{2} \\cos{\\left(\\operatorname{q_{3}}{\\left(t \\right)} \\right)}\\end{matrix}\\right]$"
     },
     "metadata": {},
     "execution_count": 14
    }
   ],
   "source": [
    "dL_dq = [ L.diff( q_i ) for q_i in q ]\n",
    "Matrix( dL_dq )"
   ]
  },
  {
   "source": [
    "### $$ \\frac{d}{d t} ( \\frac{\\partial L}{\\partial \\dot{q}} ) - \\frac{\\partial L}{\\partial q} = $$"
   ],
   "cell_type": "markdown",
   "metadata": {}
  },
  {
   "cell_type": "code",
   "execution_count": 15,
   "metadata": {},
   "outputs": [
    {
     "output_type": "execute_result",
     "data": {
      "text/plain": [
       "Matrix([\n",
       "[                                                                g*m_1*q_2(t) + 2*g*m_2*q_1(t) - q_2(t)**2*Derivative(q_2(t), t)**2 + 4*Derivative(q_1(t), (t, 2))],\n",
       "[g*m_1*q_1(t) + 2*q_1(t)*q_2(t)**2*Derivative(q_2(t), (t, 2)) + 2*q_1(t)*q_2(t)*Derivative(q_2(t), t)**2 + 2*q_2(t)**2*Derivative(q_1(t), t)*Derivative(q_2(t), t)],\n",
       "[                                                                                                                -g*m_2*cos(q_3(t)) + 2*Derivative(q_3(t), (t, 2))]])"
      ],
      "text/latex": "$\\displaystyle \\left[\\begin{matrix}g m_{1} \\operatorname{q_{2}}{\\left(t \\right)} + 2 g m_{2} \\operatorname{q_{1}}{\\left(t \\right)} - \\operatorname{q_{2}}^{2}{\\left(t \\right)} \\left(\\frac{d}{d t} \\operatorname{q_{2}}{\\left(t \\right)}\\right)^{2} + 4 \\frac{d^{2}}{d t^{2}} \\operatorname{q_{1}}{\\left(t \\right)}\\\\g m_{1} \\operatorname{q_{1}}{\\left(t \\right)} + 2 \\operatorname{q_{1}}{\\left(t \\right)} \\operatorname{q_{2}}^{2}{\\left(t \\right)} \\frac{d^{2}}{d t^{2}} \\operatorname{q_{2}}{\\left(t \\right)} + 2 \\operatorname{q_{1}}{\\left(t \\right)} \\operatorname{q_{2}}{\\left(t \\right)} \\left(\\frac{d}{d t} \\operatorname{q_{2}}{\\left(t \\right)}\\right)^{2} + 2 \\operatorname{q_{2}}^{2}{\\left(t \\right)} \\frac{d}{d t} \\operatorname{q_{1}}{\\left(t \\right)} \\frac{d}{d t} \\operatorname{q_{2}}{\\left(t \\right)}\\\\- g m_{2} \\cos{\\left(\\operatorname{q_{3}}{\\left(t \\right)} \\right)} + 2 \\frac{d^{2}}{d t^{2}} \\operatorname{q_{3}}{\\left(t \\right)}\\end{matrix}\\right]$"
     },
     "metadata": {},
     "execution_count": 15
    }
   ],
   "source": [
    "Dynamic_eq = Matrix(d_dL_ddq) - Matrix(dL_dq)\n",
    "Dynamic_eq"
   ]
  },
  {
   "cell_type": "code",
   "execution_count": 16,
   "metadata": {},
   "outputs": [
    {
     "output_type": "execute_result",
     "data": {
      "text/plain": [
       "Matrix([\n",
       "[                                                                g*m_1*q_2(t) + 2*g*m_2*q_1(t) - q_2(t)**2*Derivative(q_2(t), t)**2 + 4*Derivative(q_1(t), (t, 2))],\n",
       "[g*m_1*q_1(t) + 2*q_1(t)*q_2(t)**2*Derivative(q_2(t), (t, 2)) + 2*q_1(t)*q_2(t)*Derivative(q_2(t), t)**2 + 2*q_2(t)**2*Derivative(q_1(t), t)*Derivative(q_2(t), t)],\n",
       "[                                                                                                                -g*m_2*cos(q_3(t)) + 2*Derivative(q_3(t), (t, 2))]])"
      ],
      "text/latex": "$\\displaystyle \\left[\\begin{matrix}g m_{1} \\operatorname{q_{2}}{\\left(t \\right)} + 2 g m_{2} \\operatorname{q_{1}}{\\left(t \\right)} - \\operatorname{q_{2}}^{2}{\\left(t \\right)} \\left(\\frac{d}{d t} \\operatorname{q_{2}}{\\left(t \\right)}\\right)^{2} + 4 \\frac{d^{2}}{d t^{2}} \\operatorname{q_{1}}{\\left(t \\right)}\\\\g m_{1} \\operatorname{q_{1}}{\\left(t \\right)} + 2 \\operatorname{q_{1}}{\\left(t \\right)} \\operatorname{q_{2}}^{2}{\\left(t \\right)} \\frac{d^{2}}{d t^{2}} \\operatorname{q_{2}}{\\left(t \\right)} + 2 \\operatorname{q_{1}}{\\left(t \\right)} \\operatorname{q_{2}}{\\left(t \\right)} \\left(\\frac{d}{d t} \\operatorname{q_{2}}{\\left(t \\right)}\\right)^{2} + 2 \\operatorname{q_{2}}^{2}{\\left(t \\right)} \\frac{d}{d t} \\operatorname{q_{1}}{\\left(t \\right)} \\frac{d}{d t} \\operatorname{q_{2}}{\\left(t \\right)}\\\\- g m_{2} \\cos{\\left(\\operatorname{q_{3}}{\\left(t \\right)} \\right)} + 2 \\frac{d^{2}}{d t^{2}} \\operatorname{q_{3}}{\\left(t \\right)}\\end{matrix}\\right]$"
     },
     "metadata": {},
     "execution_count": 16
    }
   ],
   "source": [
    "Matrix([ collect(a, dq) for a in Dynamic_eq])"
   ]
  },
  {
   "source": [
    "### Forma kwadratowa $$ \\dot{q}^T A \\dot{q}=$$"
   ],
   "cell_type": "markdown",
   "metadata": {}
  },
  {
   "cell_type": "code",
   "execution_count": 20,
   "metadata": {},
   "outputs": [
    {
     "output_type": "execute_result",
     "data": {
      "text/plain": [
       "Matrix([\n",
       "[2,                0, 0],\n",
       "[0, q_1(t)*q_2(t)**2, 0],\n",
       "[0,                0, 1]])"
      ],
      "text/latex": "$\\displaystyle \\left[\\begin{matrix}2 & 0 & 0\\\\0 & \\operatorname{q_{1}}{\\left(t \\right)} \\operatorname{q_{2}}^{2}{\\left(t \\right)} & 0\\\\0 & 0 & 1\\end{matrix}\\right]$"
     },
     "metadata": {},
     "execution_count": 20
    }
   ],
   "source": [
    "M = []\n",
    "for i in range(len(Dynamic_eq)):\n",
    "    M_row = []\n",
    "    for dq_j in dq:\n",
    "        M_row.append( Dynamic_eq[i].coeff( dq_j.diff().doit() )/2 )\n",
    "        # print( dq[i], dq_j )\n",
    "    M.append( M_row )\n",
    "\n",
    "Matrix(M)"
   ]
  }
 ]
}