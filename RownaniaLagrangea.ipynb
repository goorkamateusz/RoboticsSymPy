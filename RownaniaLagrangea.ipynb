{
 "metadata": {
  "language_info": {
   "codemirror_mode": {
    "name": "ipython",
    "version": 3
   },
   "file_extension": ".py",
   "mimetype": "text/x-python",
   "name": "python",
   "nbconvert_exporter": "python",
   "pygments_lexer": "ipython3",
   "version": "3.8.3-final"
  },
  "orig_nbformat": 2,
  "kernelspec": {
   "name": "python3",
   "display_name": "Python 3",
   "language": "python"
  }
 },
 "nbformat": 4,
 "nbformat_minor": 2,
 "cells": [
  {
   "source": [
    "# Równania Dynamiki Lagranżowskiej\n"
   ],
   "cell_type": "markdown",
   "metadata": {}
  },
  {
   "cell_type": "code",
   "execution_count": 20,
   "metadata": {},
   "outputs": [],
   "source": [
    "from sympy import *\n",
    "from IPython.display import display\n",
    "t = symbols(\"t\", real=True)\n",
    "m, m1, m2, m3 = symbols(\"m m_1 m_2 m_3\", real=True)\n",
    "g = symbols(\"g\", real=True)\n",
    "\n",
    "q1 = Function(\"q_1\")(t)\n",
    "q2 = Function(\"q_2\")(t)\n",
    "q3 = Function(\"q_3\")(t)\n",
    "q4 = Function(\"q_4\")(t)\n",
    "\n",
    "dq1 = q1.diff(t).doit()\n",
    "dq2 = q2.diff(t).doit()\n",
    "dq3 = q3.diff(t).doit()\n",
    "dq4 = q4.diff(t).doit()"
   ]
  },
  {
   "source": [
    "### !!! Wprowadź współrzedne:"
   ],
   "cell_type": "markdown",
   "metadata": {}
  },
  {
   "cell_type": "code",
   "execution_count": 21,
   "metadata": {},
   "outputs": [],
   "source": [
    "q = [ q1, q2 ]"
   ]
  },
  {
   "source": [
    "### !!! Wprowadź $K$ - energię ginetyczną i $V$ - energię potencjalną"
   ],
   "cell_type": "markdown",
   "metadata": {}
  },
  {
   "cell_type": "code",
   "execution_count": 22,
   "metadata": {},
   "outputs": [],
   "source": [
    "K = 1/2 * dq1**2 + 1/2 * dq2**2 + (dq1 * dq2 * dq1**2)\n",
    "V = m*g*sin(q1) + m*g*cos(q2)"
   ]
  },
  {
   "source": [
    "___________"
   ],
   "cell_type": "markdown",
   "metadata": {}
  },
  {
   "cell_type": "code",
   "execution_count": 23,
   "metadata": {},
   "outputs": [
    {
     "output_type": "execute_result",
     "data": {
      "text/plain": [
       "Matrix([\n",
       "[q_1(t)],\n",
       "[q_2(t)]])"
      ],
      "text/latex": "$\\displaystyle \\left[\\begin{matrix}\\operatorname{q_{1}}{\\left(t \\right)}\\\\\\operatorname{q_{2}}{\\left(t \\right)}\\end{matrix}\\right]$"
     },
     "metadata": {},
     "execution_count": 23
    }
   ],
   "source": [
    "Matrix(q)"
   ]
  },
  {
   "cell_type": "code",
   "execution_count": 24,
   "metadata": {},
   "outputs": [
    {
     "output_type": "execute_result",
     "data": {
      "text/plain": [
       "Derivative(q_1(t), t)**3*Derivative(q_2(t), t) + 0.5*Derivative(q_1(t), t)**2 + 0.5*Derivative(q_2(t), t)**2"
      ],
      "text/latex": "$\\displaystyle \\left(\\frac{d}{d t} \\operatorname{q_{1}}{\\left(t \\right)}\\right)^{3} \\frac{d}{d t} \\operatorname{q_{2}}{\\left(t \\right)} + 0.5 \\left(\\frac{d}{d t} \\operatorname{q_{1}}{\\left(t \\right)}\\right)^{2} + 0.5 \\left(\\frac{d}{d t} \\operatorname{q_{2}}{\\left(t \\right)}\\right)^{2}$"
     },
     "metadata": {},
     "execution_count": 24
    }
   ],
   "source": [
    "K"
   ]
  },
  {
   "cell_type": "code",
   "execution_count": 25,
   "metadata": {},
   "outputs": [
    {
     "output_type": "execute_result",
     "data": {
      "text/plain": [
       "g*m*sin(q_1(t)) + g*m*cos(q_2(t))"
      ],
      "text/latex": "$\\displaystyle g m \\sin{\\left(\\operatorname{q_{1}}{\\left(t \\right)} \\right)} + g m \\cos{\\left(\\operatorname{q_{2}}{\\left(t \\right)} \\right)}$"
     },
     "metadata": {},
     "execution_count": 25
    }
   ],
   "source": [
    "V"
   ]
  },
  {
   "source": [
    "___________________"
   ],
   "cell_type": "markdown",
   "metadata": {}
  },
  {
   "cell_type": "code",
   "execution_count": 26,
   "metadata": {},
   "outputs": [],
   "source": [
    "dq = [ q_i.diff(t).doit() for q_i in q ]\n",
    "# Matrix( dq )"
   ]
  },
  {
   "source": [
    "# Lagranżian: $$ L( q, \\dot{q} ) =$$"
   ],
   "cell_type": "markdown",
   "metadata": {}
  },
  {
   "cell_type": "code",
   "execution_count": 27,
   "metadata": {},
   "outputs": [
    {
     "output_type": "execute_result",
     "data": {
      "text/plain": [
       "-g*m*sin(q_1(t)) - g*m*cos(q_2(t)) + Derivative(q_1(t), t)**3*Derivative(q_2(t), t) + 0.5*Derivative(q_1(t), t)**2 + 0.5*Derivative(q_2(t), t)**2"
      ],
      "text/latex": "$\\displaystyle - g m \\sin{\\left(\\operatorname{q_{1}}{\\left(t \\right)} \\right)} - g m \\cos{\\left(\\operatorname{q_{2}}{\\left(t \\right)} \\right)} + \\left(\\frac{d}{d t} \\operatorname{q_{1}}{\\left(t \\right)}\\right)^{3} \\frac{d}{d t} \\operatorname{q_{2}}{\\left(t \\right)} + 0.5 \\left(\\frac{d}{d t} \\operatorname{q_{1}}{\\left(t \\right)}\\right)^{2} + 0.5 \\left(\\frac{d}{d t} \\operatorname{q_{2}}{\\left(t \\right)}\\right)^{2}$"
     },
     "metadata": {},
     "execution_count": 27
    }
   ],
   "source": [
    "L = K - V\n",
    "L"
   ]
  },
  {
   "source": [
    "### $$ \\frac{\\partial L}{\\partial \\dot{q}} =$$"
   ],
   "cell_type": "markdown",
   "metadata": {}
  },
  {
   "cell_type": "code",
   "execution_count": 28,
   "metadata": {
    "tags": []
   },
   "outputs": [
    {
     "output_type": "execute_result",
     "data": {
      "text/plain": [
       "Matrix([\n",
       "[3*Derivative(q_1(t), t)**2*Derivative(q_2(t), t) + 1.0*Derivative(q_1(t), t)],\n",
       "[                        Derivative(q_1(t), t)**3 + 1.0*Derivative(q_2(t), t)]])"
      ],
      "text/latex": "$\\displaystyle \\left[\\begin{matrix}3 \\left(\\frac{d}{d t} \\operatorname{q_{1}}{\\left(t \\right)}\\right)^{2} \\frac{d}{d t} \\operatorname{q_{2}}{\\left(t \\right)} + 1.0 \\frac{d}{d t} \\operatorname{q_{1}}{\\left(t \\right)}\\\\\\left(\\frac{d}{d t} \\operatorname{q_{1}}{\\left(t \\right)}\\right)^{3} + 1.0 \\frac{d}{d t} \\operatorname{q_{2}}{\\left(t \\right)}\\end{matrix}\\right]$"
     },
     "metadata": {},
     "execution_count": 28
    }
   ],
   "source": [
    "dL_ddq = [ L.diff( dq_i ).doit() for dq_i in dq ]\n",
    "Matrix( dL_ddq )"
   ]
  },
  {
   "cell_type": "code",
   "execution_count": 29,
   "metadata": {},
   "outputs": [
    {
     "output_type": "execute_result",
     "data": {
      "text/plain": [
       "Matrix([\n",
       "[(3*Derivative(q_1(t), t)*Derivative(q_2(t), t) + 1.0)*Derivative(q_1(t), t)],\n",
       "[                       Derivative(q_1(t), t)**3 + 1.0*Derivative(q_2(t), t)]])"
      ],
      "text/latex": "$\\displaystyle \\left[\\begin{matrix}\\left(3 \\frac{d}{d t} \\operatorname{q_{1}}{\\left(t \\right)} \\frac{d}{d t} \\operatorname{q_{2}}{\\left(t \\right)} + 1.0\\right) \\frac{d}{d t} \\operatorname{q_{1}}{\\left(t \\right)}\\\\\\left(\\frac{d}{d t} \\operatorname{q_{1}}{\\left(t \\right)}\\right)^{3} + 1.0 \\frac{d}{d t} \\operatorname{q_{2}}{\\left(t \\right)}\\end{matrix}\\right]$"
     },
     "metadata": {},
     "execution_count": 29
    }
   ],
   "source": [
    "Matrix([ simplify(a) for a in dL_ddq ])"
   ]
  },
  {
   "source": [
    "### $$ \\frac{\\partial}{\\partial t} ( \\frac{\\partial L}{\\partial \\dot{q}} ) =$$"
   ],
   "cell_type": "markdown",
   "metadata": {}
  },
  {
   "cell_type": "code",
   "execution_count": 30,
   "metadata": {},
   "outputs": [
    {
     "output_type": "execute_result",
     "data": {
      "text/plain": [
       "Matrix([\n",
       "[3*Derivative(q_1(t), t)**2*Derivative(q_2(t), (t, 2)) + 6*Derivative(q_1(t), t)*Derivative(q_1(t), (t, 2))*Derivative(q_2(t), t) + 1.0*Derivative(q_1(t), (t, 2))],\n",
       "[                                                                           3*Derivative(q_1(t), t)**2*Derivative(q_1(t), (t, 2)) + 1.0*Derivative(q_2(t), (t, 2))]])"
      ],
      "text/latex": "$\\displaystyle \\left[\\begin{matrix}3 \\left(\\frac{d}{d t} \\operatorname{q_{1}}{\\left(t \\right)}\\right)^{2} \\frac{d^{2}}{d t^{2}} \\operatorname{q_{2}}{\\left(t \\right)} + 6 \\frac{d}{d t} \\operatorname{q_{1}}{\\left(t \\right)} \\frac{d^{2}}{d t^{2}} \\operatorname{q_{1}}{\\left(t \\right)} \\frac{d}{d t} \\operatorname{q_{2}}{\\left(t \\right)} + 1.0 \\frac{d^{2}}{d t^{2}} \\operatorname{q_{1}}{\\left(t \\right)}\\\\3 \\left(\\frac{d}{d t} \\operatorname{q_{1}}{\\left(t \\right)}\\right)^{2} \\frac{d^{2}}{d t^{2}} \\operatorname{q_{1}}{\\left(t \\right)} + 1.0 \\frac{d^{2}}{d t^{2}} \\operatorname{q_{2}}{\\left(t \\right)}\\end{matrix}\\right]$"
     },
     "metadata": {},
     "execution_count": 30
    }
   ],
   "source": [
    "d_dL_ddq = [ dL_ddq_i.diff(t).doit() for dL_ddq_i in dL_ddq ]\n",
    "Matrix( d_dL_ddq )"
   ]
  },
  {
   "cell_type": "code",
   "execution_count": 31,
   "metadata": {},
   "outputs": [
    {
     "output_type": "execute_result",
     "data": {
      "text/plain": [
       "Matrix([\n",
       "[3*Derivative(q_1(t), t)**2*Derivative(q_2(t), (t, 2)) + 6*Derivative(q_1(t), t)*Derivative(q_1(t), (t, 2))*Derivative(q_2(t), t) + 1.0*Derivative(q_1(t), (t, 2))],\n",
       "[                                                                           3*Derivative(q_1(t), t)**2*Derivative(q_1(t), (t, 2)) + 1.0*Derivative(q_2(t), (t, 2))]])"
      ],
      "text/latex": "$\\displaystyle \\left[\\begin{matrix}3 \\left(\\frac{d}{d t} \\operatorname{q_{1}}{\\left(t \\right)}\\right)^{2} \\frac{d^{2}}{d t^{2}} \\operatorname{q_{2}}{\\left(t \\right)} + 6 \\frac{d}{d t} \\operatorname{q_{1}}{\\left(t \\right)} \\frac{d^{2}}{d t^{2}} \\operatorname{q_{1}}{\\left(t \\right)} \\frac{d}{d t} \\operatorname{q_{2}}{\\left(t \\right)} + 1.0 \\frac{d^{2}}{d t^{2}} \\operatorname{q_{1}}{\\left(t \\right)}\\\\3 \\left(\\frac{d}{d t} \\operatorname{q_{1}}{\\left(t \\right)}\\right)^{2} \\frac{d^{2}}{d t^{2}} \\operatorname{q_{1}}{\\left(t \\right)} + 1.0 \\frac{d^{2}}{d t^{2}} \\operatorname{q_{2}}{\\left(t \\right)}\\end{matrix}\\right]$"
     },
     "metadata": {},
     "execution_count": 31
    }
   ],
   "source": [
    "Matrix([ simplify(a) for a in d_dL_ddq ])"
   ]
  },
  {
   "source": [
    "### $$ \\frac{\\partial L}{\\partial q}=$$"
   ],
   "cell_type": "markdown",
   "metadata": {}
  },
  {
   "cell_type": "code",
   "execution_count": 32,
   "metadata": {},
   "outputs": [
    {
     "output_type": "execute_result",
     "data": {
      "text/plain": [
       "Matrix([\n",
       "[-g*m*cos(q_1(t))],\n",
       "[ g*m*sin(q_2(t))]])"
      ],
      "text/latex": "$\\displaystyle \\left[\\begin{matrix}- g m \\cos{\\left(\\operatorname{q_{1}}{\\left(t \\right)} \\right)}\\\\g m \\sin{\\left(\\operatorname{q_{2}}{\\left(t \\right)} \\right)}\\end{matrix}\\right]$"
     },
     "metadata": {},
     "execution_count": 32
    }
   ],
   "source": [
    "dL_dq = [ L.diff( q_i ) for q_i in q ]\n",
    "Matrix( dL_dq )"
   ]
  },
  {
   "source": [
    "### $$ \\frac{d}{d t} ( \\frac{\\partial L}{\\partial \\dot{q}} ) - \\frac{\\partial L}{\\partial q} = $$"
   ],
   "cell_type": "markdown",
   "metadata": {}
  },
  {
   "cell_type": "code",
   "execution_count": 33,
   "metadata": {},
   "outputs": [
    {
     "output_type": "execute_result",
     "data": {
      "text/plain": [
       "Matrix([\n",
       "[g*m*cos(q_1(t)) + 3*Derivative(q_1(t), t)**2*Derivative(q_2(t), (t, 2)) + 6*Derivative(q_1(t), t)*Derivative(q_1(t), (t, 2))*Derivative(q_2(t), t) + 1.0*Derivative(q_1(t), (t, 2))],\n",
       "[                                                                          -g*m*sin(q_2(t)) + 3*Derivative(q_1(t), t)**2*Derivative(q_1(t), (t, 2)) + 1.0*Derivative(q_2(t), (t, 2))]])"
      ],
      "text/latex": "$\\displaystyle \\left[\\begin{matrix}g m \\cos{\\left(\\operatorname{q_{1}}{\\left(t \\right)} \\right)} + 3 \\left(\\frac{d}{d t} \\operatorname{q_{1}}{\\left(t \\right)}\\right)^{2} \\frac{d^{2}}{d t^{2}} \\operatorname{q_{2}}{\\left(t \\right)} + 6 \\frac{d}{d t} \\operatorname{q_{1}}{\\left(t \\right)} \\frac{d^{2}}{d t^{2}} \\operatorname{q_{1}}{\\left(t \\right)} \\frac{d}{d t} \\operatorname{q_{2}}{\\left(t \\right)} + 1.0 \\frac{d^{2}}{d t^{2}} \\operatorname{q_{1}}{\\left(t \\right)}\\\\- g m \\sin{\\left(\\operatorname{q_{2}}{\\left(t \\right)} \\right)} + 3 \\left(\\frac{d}{d t} \\operatorname{q_{1}}{\\left(t \\right)}\\right)^{2} \\frac{d^{2}}{d t^{2}} \\operatorname{q_{1}}{\\left(t \\right)} + 1.0 \\frac{d^{2}}{d t^{2}} \\operatorname{q_{2}}{\\left(t \\right)}\\end{matrix}\\right]$"
     },
     "metadata": {},
     "execution_count": 33
    }
   ],
   "source": [
    "Dynamic_eq = Matrix(d_dL_ddq) - Matrix(dL_dq)\n",
    "Dynamic_eq"
   ]
  },
  {
   "cell_type": "code",
   "execution_count": 34,
   "metadata": {},
   "outputs": [
    {
     "output_type": "execute_result",
     "data": {
      "text/plain": [
       "Matrix([\n",
       "[g*m*cos(q_1(t)) + 3*Derivative(q_1(t), t)**2*Derivative(q_2(t), (t, 2)) + 6*Derivative(q_1(t), t)*Derivative(q_1(t), (t, 2))*Derivative(q_2(t), t) + 1.0*Derivative(q_1(t), (t, 2))],\n",
       "[                                                                          -g*m*sin(q_2(t)) + 3*Derivative(q_1(t), t)**2*Derivative(q_1(t), (t, 2)) + 1.0*Derivative(q_2(t), (t, 2))]])"
      ],
      "text/latex": "$\\displaystyle \\left[\\begin{matrix}g m \\cos{\\left(\\operatorname{q_{1}}{\\left(t \\right)} \\right)} + 3 \\left(\\frac{d}{d t} \\operatorname{q_{1}}{\\left(t \\right)}\\right)^{2} \\frac{d^{2}}{d t^{2}} \\operatorname{q_{2}}{\\left(t \\right)} + 6 \\frac{d}{d t} \\operatorname{q_{1}}{\\left(t \\right)} \\frac{d^{2}}{d t^{2}} \\operatorname{q_{1}}{\\left(t \\right)} \\frac{d}{d t} \\operatorname{q_{2}}{\\left(t \\right)} + 1.0 \\frac{d^{2}}{d t^{2}} \\operatorname{q_{1}}{\\left(t \\right)}\\\\- g m \\sin{\\left(\\operatorname{q_{2}}{\\left(t \\right)} \\right)} + 3 \\left(\\frac{d}{d t} \\operatorname{q_{1}}{\\left(t \\right)}\\right)^{2} \\frac{d^{2}}{d t^{2}} \\operatorname{q_{1}}{\\left(t \\right)} + 1.0 \\frac{d^{2}}{d t^{2}} \\operatorname{q_{2}}{\\left(t \\right)}\\end{matrix}\\right]$"
     },
     "metadata": {},
     "execution_count": 34
    }
   ],
   "source": [
    "Matrix([ collect(a, dq) for a in Dynamic_eq])"
   ]
  },
  {
   "source": [
    "### Forma kwadratowa energii kinetycznej $$ \\dot{q}^T A \\dot{q}=$$"
   ],
   "cell_type": "markdown",
   "metadata": {}
  },
  {
   "cell_type": "code",
   "execution_count": 35,
   "metadata": {},
   "outputs": [
    {
     "output_type": "execute_result",
     "data": {
      "text/plain": [
       "Matrix([\n",
       "[0.5,   0],\n",
       "[  0, 0.5]])"
      ],
      "text/latex": "$\\displaystyle \\left[\\begin{matrix}0.5 & 0\\\\0 & 0.5\\end{matrix}\\right]$"
     },
     "metadata": {},
     "execution_count": 35
    }
   ],
   "source": [
    "M = []\n",
    "for i in range(len(dq)):\n",
    "    M_row = []\n",
    "    for j in range(len(dq)):\n",
    "        if i == j:\n",
    "            M_row.append(K.coeff(dq[j] * dq[i]))\n",
    "        else:\n",
    "            M_row.append(K.coeff(dq[j] * dq[i]) / 2)\n",
    "    M.append( M_row )\n",
    "Matrix(M)"
   ]
  }
 ]
}