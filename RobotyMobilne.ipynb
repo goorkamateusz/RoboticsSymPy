{
 "metadata": {
  "language_info": {
   "codemirror_mode": {
    "name": "ipython",
    "version": 3
   },
   "file_extension": ".py",
   "mimetype": "text/x-python",
   "name": "python",
   "nbconvert_exporter": "python",
   "pygments_lexer": "ipython3",
   "version": "3.8.3-final"
  },
  "orig_nbformat": 2,
  "kernelspec": {
   "name": "python3",
   "display_name": "Python 3",
   "language": "python"
  }
 },
 "nbformat": 4,
 "nbformat_minor": 2,
 "cells": [
  {
   "source": [
    "# Obliczenia dla robota mobilnego\n",
    "- Współrzedne\n",
    "- Ograniczenia poślizgu bocznego\n",
    "- [ ] Ograniczenia poślizgu wzdłużego\n",
    "- Macierz Pffafa"
   ],
   "cell_type": "markdown",
   "metadata": {}
  },
  {
   "cell_type": "code",
   "execution_count": 61,
   "metadata": {},
   "outputs": [],
   "source": [
    "from sympy import *\n",
    "# Zmienne i stale\n",
    "l, l1, l2, l3 = symbols(\"l l_1 l_2 l_3\", real=True)\n",
    "a, a1, a2, a3 = symbols(\"a a_1 a_2 a_3\", real=True)\n",
    "t = symbols(\"t\", real=True)\n",
    "\n",
    "# Funkcje\n",
    "xp = Function(\"x_p\")(t)\n",
    "yp = Function(\"y_p\")(t)\n",
    "yt = Function(\"y_t\")(t)\n",
    "xt = Function(\"x_t\")(t)\n",
    "\n",
    "phi     = Function(\"\\\\phi\")(t)\n",
    "theta   = Function(\"\\\\theta\")(t)\n",
    "xi      = Function(\"\\\\xi\")(t)\n",
    "dphi    = phi.diff(t).doit()\n",
    "dtheta  = theta.diff(t).doit()\n",
    "dxi     = xi.diff(t).doit()\n",
    "\n",
    "# Skrocone postacie\n",
    "ph, dph = phi, dphi\n",
    "th, dth = theta, dtheta"
   ]
  },
  {
   "source": [
    "________________________________\n",
    "________________________________\n",
    "## !!! Wprowadź wektor $q$\n"
   ],
   "cell_type": "markdown",
   "metadata": {}
  },
  {
   "cell_type": "code",
   "execution_count": 62,
   "metadata": {},
   "outputs": [],
   "source": [
    "q = [ xp, yp, ph, th ]"
   ]
  },
  {
   "source": [
    "## !!! Wprowadź (xp, yp) względem (xt, yt) lub odwrotnie:"
   ],
   "cell_type": "markdown",
   "metadata": {}
  },
  {
   "cell_type": "code",
   "execution_count": 63,
   "metadata": {},
   "outputs": [],
   "source": [
    "# np.:\n",
    "# xp = xt + l1 * cos(ph) + l2 * cos(ph+th)\n",
    "# xs = None\n",
    "# yp = yt + l1 * sin(ph) + l2 * sin(ph+th)\n",
    "xt = xp - l1 * cos(ph) - l2 * cos(ph+th)\n",
    "ys = None\n",
    "yt = yp - l1 * sin(ph) - l2 * sin(ph+th)"
   ]
  },
  {
   "source": [
    "## !!! Wprowadź orientacje osi"
   ],
   "cell_type": "markdown",
   "metadata": {}
  },
  {
   "cell_type": "code",
   "execution_count": 64,
   "metadata": {},
   "outputs": [],
   "source": [
    "# np.:\n",
    "orientacja_osi_P = ph + th\n",
    "orientacja_osi_S = None\n",
    "orientacja_osi_T = ph"
   ]
  },
  {
   "source": [
    "________________________________\n",
    "________________________________"
   ],
   "cell_type": "markdown",
   "metadata": {}
  },
  {
   "source": [
    "## Współrzedne (x, y)\n",
    "$$ x_p, y_p, x_t, y_t $$"
   ],
   "cell_type": "markdown",
   "metadata": {}
  },
  {
   "cell_type": "code",
   "execution_count": 65,
   "metadata": {},
   "outputs": [
    {
     "output_type": "execute_result",
     "data": {
      "text/plain": [
       "x_p(t)"
      ],
      "text/latex": "$\\displaystyle \\operatorname{x_{p}}{\\left(t \\right)}$"
     },
     "metadata": {},
     "execution_count": 65
    }
   ],
   "source": [
    "xp"
   ]
  },
  {
   "cell_type": "code",
   "execution_count": 66,
   "metadata": {},
   "outputs": [
    {
     "output_type": "execute_result",
     "data": {
      "text/plain": [
       "y_p(t)"
      ],
      "text/latex": "$\\displaystyle \\operatorname{y_{p}}{\\left(t \\right)}$"
     },
     "metadata": {},
     "execution_count": 66
    }
   ],
   "source": [
    "yp"
   ]
  },
  {
   "cell_type": "code",
   "execution_count": 67,
   "metadata": {},
   "outputs": [
    {
     "output_type": "execute_result",
     "data": {
      "text/plain": [
       "-l_1*cos(\\phi(t)) - l_2*cos(\\phi(t) + \\theta(t)) + x_p(t)"
      ],
      "text/latex": "$\\displaystyle - l_{1} \\cos{\\left(\\phi{\\left(t \\right)} \\right)} - l_{2} \\cos{\\left(\\phi{\\left(t \\right)} + \\theta{\\left(t \\right)} \\right)} + \\operatorname{x_{p}}{\\left(t \\right)}$"
     },
     "metadata": {},
     "execution_count": 67
    }
   ],
   "source": [
    "xt"
   ]
  },
  {
   "cell_type": "code",
   "execution_count": 68,
   "metadata": {},
   "outputs": [
    {
     "output_type": "execute_result",
     "data": {
      "text/plain": [
       "-l_1*sin(\\phi(t)) - l_2*sin(\\phi(t) + \\theta(t)) + y_p(t)"
      ],
      "text/latex": "$\\displaystyle - l_{1} \\sin{\\left(\\phi{\\left(t \\right)} \\right)} - l_{2} \\sin{\\left(\\phi{\\left(t \\right)} + \\theta{\\left(t \\right)} \\right)} + \\operatorname{y_{p}}{\\left(t \\right)}$"
     },
     "metadata": {},
     "execution_count": 68
    }
   ],
   "source": [
    "yt"
   ]
  },
  {
   "source": [
    "## Pochodne współrzędnych\n",
    "$$ [ \\dot{x_p}, \\dot{y_p}, \\dot{x_t}, \\dot{y_t} ]^T $$ "
   ],
   "cell_type": "markdown",
   "metadata": {}
  },
  {
   "cell_type": "code",
   "execution_count": 69,
   "metadata": {},
   "outputs": [
    {
     "output_type": "execute_result",
     "data": {
      "text/plain": [
       "Derivative(x_p(t), t)"
      ],
      "text/latex": "$\\displaystyle \\frac{d}{d t} \\operatorname{x_{p}}{\\left(t \\right)}$"
     },
     "metadata": {},
     "execution_count": 69
    }
   ],
   "source": [
    "dxp = xp.diff(t).doit()\r\n",
    "dxp"
   ]
  },
  {
   "cell_type": "code",
   "execution_count": 70,
   "metadata": {},
   "outputs": [
    {
     "output_type": "execute_result",
     "data": {
      "text/plain": [
       "Derivative(y_p(t), t)"
      ],
      "text/latex": "$\\displaystyle \\frac{d}{d t} \\operatorname{y_{p}}{\\left(t \\right)}$"
     },
     "metadata": {},
     "execution_count": 70
    }
   ],
   "source": [
    "dyp = yp.diff(t).doit()\n",
    "dyp"
   ]
  },
  {
   "cell_type": "code",
   "execution_count": 71,
   "metadata": {},
   "outputs": [
    {
     "output_type": "execute_result",
     "data": {
      "text/plain": [
       "l_1*sin(\\phi(t))*Derivative(\\phi(t), t) + l_2*(Derivative(\\phi(t), t) + Derivative(\\theta(t), t))*sin(\\phi(t) + \\theta(t)) + Derivative(x_p(t), t)"
      ],
      "text/latex": "$\\displaystyle l_{1} \\sin{\\left(\\phi{\\left(t \\right)} \\right)} \\frac{d}{d t} \\phi{\\left(t \\right)} + l_{2} \\left(\\frac{d}{d t} \\phi{\\left(t \\right)} + \\frac{d}{d t} \\theta{\\left(t \\right)}\\right) \\sin{\\left(\\phi{\\left(t \\right)} + \\theta{\\left(t \\right)} \\right)} + \\frac{d}{d t} \\operatorname{x_{p}}{\\left(t \\right)}$"
     },
     "metadata": {},
     "execution_count": 71
    }
   ],
   "source": [
    "dxt = xt.diff(t).doit()\n",
    "dxt"
   ]
  },
  {
   "cell_type": "code",
   "execution_count": 72,
   "metadata": {},
   "outputs": [
    {
     "output_type": "execute_result",
     "data": {
      "text/plain": [
       "-l_1*cos(\\phi(t))*Derivative(\\phi(t), t) - l_2*(Derivative(\\phi(t), t) + Derivative(\\theta(t), t))*cos(\\phi(t) + \\theta(t)) + Derivative(y_p(t), t)"
      ],
      "text/latex": "$\\displaystyle - l_{1} \\cos{\\left(\\phi{\\left(t \\right)} \\right)} \\frac{d}{d t} \\phi{\\left(t \\right)} - l_{2} \\left(\\frac{d}{d t} \\phi{\\left(t \\right)} + \\frac{d}{d t} \\theta{\\left(t \\right)}\\right) \\cos{\\left(\\phi{\\left(t \\right)} + \\theta{\\left(t \\right)} \\right)} + \\frac{d}{d t} \\operatorname{y_{p}}{\\left(t \\right)}$"
     },
     "metadata": {},
     "execution_count": 72
    }
   ],
   "source": [
    "dyt = yt.diff(t).doit()\r\n",
    "dyt"
   ]
  },
  {
   "source": [
    "## Wektor $ \\dot{q} $"
   ],
   "cell_type": "markdown",
   "metadata": {}
  },
  {
   "cell_type": "code",
   "execution_count": 73,
   "metadata": {},
   "outputs": [
    {
     "output_type": "execute_result",
     "data": {
      "text/plain": [
       "Matrix([\n",
       "[   Derivative(x_p(t), t)],\n",
       "[   Derivative(y_p(t), t)],\n",
       "[  Derivative(\\phi(t), t)],\n",
       "[Derivative(\\theta(t), t)]])"
      ],
      "text/latex": "$\\displaystyle \\left[\\begin{matrix}\\frac{d}{d t} \\operatorname{x_{p}}{\\left(t \\right)}\\\\\\frac{d}{d t} \\operatorname{y_{p}}{\\left(t \\right)}\\\\\\frac{d}{d t} \\phi{\\left(t \\right)}\\\\\\frac{d}{d t} \\theta{\\left(t \\right)}\\end{matrix}\\right]$"
     },
     "metadata": {},
     "execution_count": 73
    }
   ],
   "source": [
    "dq = []\n",
    "for q_i in q:\n",
    "    dq.append( q_i.diff(t).doit() )\n",
    "Matrix(dq)"
   ]
  },
  {
   "source": [],
   "cell_type": "markdown",
   "metadata": {}
  },
  {
   "cell_type": "code",
   "execution_count": 74,
   "metadata": {},
   "outputs": [],
   "source": [
    "BPW_P = None; BPW_S = None; BPW_T = None\n",
    "BPB_P = None; BPB_S = None; BPB_T = None"
   ]
  },
  {
   "source": [
    "## Obliczenia ograniczeń bocznych\n",
    "### BPB_P - Brak poślizgu bocznego dla osi przedniej"
   ],
   "cell_type": "markdown",
   "metadata": {}
  },
  {
   "cell_type": "code",
   "execution_count": 75,
   "metadata": {},
   "outputs": [],
   "source": [
    "BPB_P = dxp * sin( orientacja_osi_P ) - dyp * cos( orientacja_osi_P )\n",
    "# BPB_P"
   ]
  },
  {
   "cell_type": "code",
   "execution_count": 76,
   "metadata": {},
   "outputs": [],
   "source": [
    "BPB_P = BPB_P.simplify()\n",
    "# BPB_P"
   ]
  },
  {
   "cell_type": "code",
   "execution_count": 77,
   "metadata": {},
   "outputs": [
    {
     "output_type": "execute_result",
     "data": {
      "text/plain": [
       "sin(\\phi(t) + \\theta(t))*Derivative(x_p(t), t) - cos(\\phi(t) + \\theta(t))*Derivative(y_p(t), t)"
      ],
      "text/latex": "$\\displaystyle \\sin{\\left(\\phi{\\left(t \\right)} + \\theta{\\left(t \\right)} \\right)} \\frac{d}{d t} \\operatorname{x_{p}}{\\left(t \\right)} - \\cos{\\left(\\phi{\\left(t \\right)} + \\theta{\\left(t \\right)} \\right)} \\frac{d}{d t} \\operatorname{y_{p}}{\\left(t \\right)}$"
     },
     "metadata": {},
     "execution_count": 77
    }
   ],
   "source": [
    "BPB_P = collect(BPB_P, dq)   # Uporzatkowanie\n",
    "BPB_P"
   ]
  },
  {
   "source": [
    "### BPB_S - Brak poślizgu bocznego dla osi środkowej"
   ],
   "cell_type": "markdown",
   "metadata": {}
  },
  {
   "cell_type": "code",
   "execution_count": 79,
   "metadata": {},
   "outputs": [],
   "source": [
    "if orientacja_osi_S != None:\n",
    "    BPB_S = dxs * sin( orientacja_osi_S ) - dys * cos( orientacja_osi_S )"
   ]
  },
  {
   "cell_type": "code",
   "execution_count": 80,
   "metadata": {},
   "outputs": [],
   "source": [
    "if orientacja_osi_S != None:\n",
    "    BPB_S = BPB_S.simplify()"
   ]
  },
  {
   "cell_type": "code",
   "execution_count": 90,
   "metadata": {},
   "outputs": [],
   "source": [
    "if orientacja_osi_S != None:\n",
    "    BPB_S = collect(BPB_S, dq)\n",
    "BPB_S"
   ]
  },
  {
   "source": [
    "### BPB_T - Brak poślizgu bocznego dla osi tylniej"
   ],
   "cell_type": "markdown",
   "metadata": {}
  },
  {
   "cell_type": "code",
   "execution_count": 82,
   "metadata": {},
   "outputs": [],
   "source": [
    "# BPB T - Brak poślizgu bocznego dla osi tylniej\n",
    "BPB_T = dxt * sin( orientacja_osi_T ) - dyt * cos( orientacja_osi_T )\n",
    "# BPB_T"
   ]
  },
  {
   "cell_type": "code",
   "execution_count": 83,
   "metadata": {},
   "outputs": [],
   "source": [
    "BPB_T = BPB_T.simplify()\n",
    "# BPB_T"
   ]
  },
  {
   "cell_type": "code",
   "execution_count": 84,
   "metadata": {},
   "outputs": [
    {
     "output_type": "execute_result",
     "data": {
      "text/plain": [
       "l_2*cos(\\theta(t))*Derivative(\\theta(t), t) + (l_1 + l_2*cos(\\theta(t)))*Derivative(\\phi(t), t) + sin(\\phi(t))*Derivative(x_p(t), t) - cos(\\phi(t))*Derivative(y_p(t), t)"
      ],
      "text/latex": "$\\displaystyle l_{2} \\cos{\\left(\\theta{\\left(t \\right)} \\right)} \\frac{d}{d t} \\theta{\\left(t \\right)} + \\left(l_{1} + l_{2} \\cos{\\left(\\theta{\\left(t \\right)} \\right)}\\right) \\frac{d}{d t} \\phi{\\left(t \\right)} + \\sin{\\left(\\phi{\\left(t \\right)} \\right)} \\frac{d}{d t} \\operatorname{x_{p}}{\\left(t \\right)} - \\cos{\\left(\\phi{\\left(t \\right)} \\right)} \\frac{d}{d t} \\operatorname{y_{p}}{\\left(t \\right)}$"
     },
     "metadata": {},
     "execution_count": 84
    }
   ],
   "source": [
    "BPB_T = collect(BPB_T, dq)   # Uporzatkowanie\n",
    "BPB_T"
   ]
  },
  {
   "source": [
    "## Ograniczenia wzdłużne\n",
    "### Oś przednia"
   ],
   "cell_type": "markdown",
   "metadata": {}
  },
  {
   "cell_type": "code",
   "execution_count": 85,
   "metadata": {},
   "outputs": [],
   "source": [
    "BPW_P"
   ]
  },
  {
   "source": [
    "### Oś środkowa"
   ],
   "cell_type": "markdown",
   "metadata": {}
  },
  {
   "cell_type": "code",
   "execution_count": 86,
   "metadata": {},
   "outputs": [],
   "source": [
    "BPW_S"
   ]
  },
  {
   "source": [
    "### Oś tylnia"
   ],
   "cell_type": "markdown",
   "metadata": {}
  },
  {
   "cell_type": "code",
   "execution_count": 87,
   "metadata": {},
   "outputs": [],
   "source": [
    "BPW_T"
   ]
  },
  {
   "source": [],
   "cell_type": "markdown",
   "metadata": {}
  },
  {
   "source": [
    "## Macierz Pffafa"
   ],
   "cell_type": "markdown",
   "metadata": {}
  },
  {
   "cell_type": "code",
   "execution_count": 88,
   "metadata": {},
   "outputs": [
    {
     "output_type": "execute_result",
     "data": {
      "text/plain": [
       "Matrix([\n",
       "[sin(\\phi(t) + \\theta(t)), -cos(\\phi(t) + \\theta(t)),                        0,                  0],\n",
       "[            sin(\\phi(t)),             -cos(\\phi(t)), l_1 + l_2*cos(\\theta(t)), l_2*cos(\\theta(t))]])"
      ],
      "text/latex": "$\\displaystyle \\left[\\begin{matrix}\\sin{\\left(\\phi{\\left(t \\right)} + \\theta{\\left(t \\right)} \\right)} & - \\cos{\\left(\\phi{\\left(t \\right)} + \\theta{\\left(t \\right)} \\right)} & 0 & 0\\\\\\sin{\\left(\\phi{\\left(t \\right)} \\right)} & - \\cos{\\left(\\phi{\\left(t \\right)} \\right)} & l_{1} + l_{2} \\cos{\\left(\\theta{\\left(t \\right)} \\right)} & l_{2} \\cos{\\left(\\theta{\\left(t \\right)} \\right)}\\end{matrix}\\right]$"
     },
     "metadata": {},
     "execution_count": 88
    }
   ],
   "source": [
    "Aq = []\n",
    "restrictions = [ BPB_P, BPB_S, BPB_T, BPW_P, BPW_S, BPW_T ]\n",
    "\n",
    "for rest in restrictions:\n",
    "    A_row = []\n",
    "    if rest != None:\n",
    "        for dq_i in dq:\n",
    "            A_row.append( rest.coeff( dq_i ) )\n",
    "        Aq.append(Matrix(A_row).T)\n",
    "\n",
    "Matrix( Aq )"
   ]
  },
  {
   "cell_type": "code",
   "execution_count": 89,
   "metadata": {},
   "outputs": [
    {
     "output_type": "execute_result",
     "data": {
      "text/plain": [
       "Matrix([\n",
       "[   Derivative(x_p(t), t)],\n",
       "[   Derivative(y_p(t), t)],\n",
       "[  Derivative(\\phi(t), t)],\n",
       "[Derivative(\\theta(t), t)]])"
      ],
      "text/latex": "$\\displaystyle \\left[\\begin{matrix}\\frac{d}{d t} \\operatorname{x_{p}}{\\left(t \\right)}\\\\\\frac{d}{d t} \\operatorname{y_{p}}{\\left(t \\right)}\\\\\\frac{d}{d t} \\phi{\\left(t \\right)}\\\\\\frac{d}{d t} \\theta{\\left(t \\right)}\\end{matrix}\\right]$"
     },
     "metadata": {},
     "execution_count": 89
    }
   ],
   "source": [
    "Matrix( dq )"
   ]
  }
 ]
}