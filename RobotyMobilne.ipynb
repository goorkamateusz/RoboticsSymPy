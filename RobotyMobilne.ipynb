{
 "metadata": {
  "language_info": {
   "codemirror_mode": {
    "name": "ipython",
    "version": 3
   },
   "file_extension": ".py",
   "mimetype": "text/x-python",
   "name": "python",
   "nbconvert_exporter": "python",
   "pygments_lexer": "ipython3",
   "version": "3.8.3-final"
  },
  "orig_nbformat": 2,
  "kernelspec": {
   "name": "python3",
   "display_name": "Python 3",
   "language": "python"
  }
 },
 "nbformat": 4,
 "nbformat_minor": 2,
 "cells": [
  {
   "source": [
    "# Obliczenia dla robota mobilnego\n",
    "- Współrzedne\n",
    "- Ograniczenia poślizgu bocznego\n",
    "- [ ] Ograniczenia poślizgu wzdłużego\n",
    "- Macierz Pffafa"
   ],
   "cell_type": "markdown",
   "metadata": {}
  },
  {
   "cell_type": "code",
   "execution_count": 25,
   "metadata": {},
   "outputs": [],
   "source": [
    "from sympy import *\n",
    "from IPython.display import display\n",
    "# Zmienne i stale\n",
    "l, l1, l2, l3 = symbols(\"l l_1 l_2 l_3\", real=True)\n",
    "a, a1, a2, a3 = symbols(\"a a_1 a_2 a_3\", real=True)\n",
    "t = symbols(\"t\", real=True)\n",
    "\n",
    "# Funkcje\n",
    "x = Function(\"x\")(t)\n",
    "y = Function(\"y\")(t)\n",
    "xp = Function(\"x_p\")(t)\n",
    "yp = Function(\"y_p\")(t)\n",
    "yt = Function(\"y_t\")(t)\n",
    "xt = Function(\"x_t\")(t)\n",
    "\n",
    "phi     = Function(\"\\\\phi\")(t)\n",
    "theta   = Function(\"\\\\theta\")(t)\n",
    "xi      = Function(\"\\\\xi\")(t)\n",
    "dphi    = phi.diff(t).doit()\n",
    "dtheta  = theta.diff(t).doit()\n",
    "dxi     = xi.diff(t).doit()\n",
    "\n",
    "# Skrocone postacie\n",
    "ph, dph = phi, dphi\n",
    "th, dth = theta, dtheta"
   ]
  },
  {
   "cell_type": "code",
   "execution_count": 26,
   "metadata": {},
   "outputs": [],
   "source": [
    "def brak_poslizgu_bocznego(dx, dy, kat):\n",
    "    global dq\n",
    "    if kat == None:\n",
    "        print(\"Brak okreslonej orientacji\")\n",
    "        return None\n",
    "    BPB = dx * sin( kat ) - dy * cos( kat )\n",
    "    print(\"Pierwotny wynik\")\n",
    "    display(BPB)\n",
    "    print(\"Uproszczone:\")\n",
    "    BPB = BPB.simplify()\n",
    "    display(BPB)\n",
    "    print(\"Posegregowane:\")\n",
    "    BPB = collect(BPB, dq)\n",
    "    display(BPB)\n",
    "    return BPB"
   ]
  },
  {
   "cell_type": "code",
   "execution_count": 27,
   "metadata": {},
   "outputs": [],
   "source": [
    "def macierz_pffafa(restrictions: list) -> list:\n",
    "    Aq = []\n",
    "\n",
    "    for rest in restrictions:\n",
    "        A_row = []\n",
    "        if rest != None:\n",
    "            for dq_i in dq:\n",
    "                A_row.append( rest.coeff( dq_i ) )\n",
    "            Aq.append(Matrix(A_row).T)\n",
    "\n",
    "    display(Matrix( Aq ))\n",
    "    return Aq"
   ]
  },
  {
   "source": [
    "________________________________\n",
    "________________________________\n",
    "## !!! Wprowadź wektor $q$\n"
   ],
   "cell_type": "markdown",
   "metadata": {}
  },
  {
   "cell_type": "code",
   "execution_count": 28,
   "metadata": {},
   "outputs": [],
   "source": [
    "q = [ x, y, ph, th ]"
   ]
  },
  {
   "source": [
    "## !!! Wprowadź (xp, yp) względem (xt, yt) lub odwrotnie:\n",
    "(x,y) - oznaczają współrzedne osi względem, której wykonujemy obliczenia"
   ],
   "cell_type": "markdown",
   "metadata": {}
  },
  {
   "cell_type": "code",
   "execution_count": 29,
   "metadata": {},
   "outputs": [],
   "source": [
    "# np.:\n",
    "xt = x\n",
    "yt = y\n",
    "xp = x + l1*cos(ph) + l2*cos(th) \n",
    "yp = y + l1*sin(ph) + l2*sin(th)\n",
    "# xs = \n",
    "# yx = "
   ]
  },
  {
   "source": [
    "## !!! Wprowadź orientacje osi"
   ],
   "cell_type": "markdown",
   "metadata": {}
  },
  {
   "cell_type": "code",
   "execution_count": 30,
   "metadata": {},
   "outputs": [],
   "source": [
    "# np.:\n",
    "orientacja_osi_P = th\n",
    "orientacja_osi_S = None\n",
    "orientacja_osi_T = ph"
   ]
  },
  {
   "source": [
    "________________________________\n",
    "________________________________"
   ],
   "cell_type": "markdown",
   "metadata": {}
  },
  {
   "source": [
    "## Współrzedne (x, y)\n",
    "$$ x_p, y_p, x_t, y_t $$"
   ],
   "cell_type": "markdown",
   "metadata": {}
  },
  {
   "cell_type": "code",
   "execution_count": 31,
   "metadata": {},
   "outputs": [
    {
     "output_type": "execute_result",
     "data": {
      "text/plain": [
       "l_1*cos(\\phi(t)) + l_2*cos(\\theta(t)) + x(t)"
      ],
      "text/latex": "$\\displaystyle l_{1} \\cos{\\left(\\phi{\\left(t \\right)} \\right)} + l_{2} \\cos{\\left(\\theta{\\left(t \\right)} \\right)} + x{\\left(t \\right)}$"
     },
     "metadata": {},
     "execution_count": 31
    }
   ],
   "source": [
    "xp"
   ]
  },
  {
   "cell_type": "code",
   "execution_count": 32,
   "metadata": {},
   "outputs": [
    {
     "output_type": "execute_result",
     "data": {
      "text/plain": [
       "l_1*sin(\\phi(t)) + l_2*sin(\\theta(t)) + y(t)"
      ],
      "text/latex": "$\\displaystyle l_{1} \\sin{\\left(\\phi{\\left(t \\right)} \\right)} + l_{2} \\sin{\\left(\\theta{\\left(t \\right)} \\right)} + y{\\left(t \\right)}$"
     },
     "metadata": {},
     "execution_count": 32
    }
   ],
   "source": [
    "yp"
   ]
  },
  {
   "cell_type": "code",
   "execution_count": 33,
   "metadata": {},
   "outputs": [
    {
     "output_type": "execute_result",
     "data": {
      "text/plain": [
       "x(t)"
      ],
      "text/latex": "$\\displaystyle x{\\left(t \\right)}$"
     },
     "metadata": {},
     "execution_count": 33
    }
   ],
   "source": [
    "xt"
   ]
  },
  {
   "cell_type": "code",
   "execution_count": 34,
   "metadata": {},
   "outputs": [
    {
     "output_type": "execute_result",
     "data": {
      "text/plain": [
       "y(t)"
      ],
      "text/latex": "$\\displaystyle y{\\left(t \\right)}$"
     },
     "metadata": {},
     "execution_count": 34
    }
   ],
   "source": [
    "yt"
   ]
  },
  {
   "source": [
    "## Pochodne współrzędnych\n",
    "$$ [ \\dot{x_p}, \\dot{y_p}, \\dot{x_t}, \\dot{y_t} ]^T $$ "
   ],
   "cell_type": "markdown",
   "metadata": {}
  },
  {
   "cell_type": "code",
   "execution_count": 35,
   "metadata": {},
   "outputs": [
    {
     "output_type": "execute_result",
     "data": {
      "text/plain": [
       "-l_1*sin(\\phi(t))*Derivative(\\phi(t), t) - l_2*sin(\\theta(t))*Derivative(\\theta(t), t) + Derivative(x(t), t)"
      ],
      "text/latex": "$\\displaystyle - l_{1} \\sin{\\left(\\phi{\\left(t \\right)} \\right)} \\frac{d}{d t} \\phi{\\left(t \\right)} - l_{2} \\sin{\\left(\\theta{\\left(t \\right)} \\right)} \\frac{d}{d t} \\theta{\\left(t \\right)} + \\frac{d}{d t} x{\\left(t \\right)}$"
     },
     "metadata": {},
     "execution_count": 35
    }
   ],
   "source": [
    "dxp = xp.diff(t).doit()\r\n",
    "dxp"
   ]
  },
  {
   "cell_type": "code",
   "execution_count": 36,
   "metadata": {},
   "outputs": [
    {
     "output_type": "execute_result",
     "data": {
      "text/plain": [
       "l_1*cos(\\phi(t))*Derivative(\\phi(t), t) + l_2*cos(\\theta(t))*Derivative(\\theta(t), t) + Derivative(y(t), t)"
      ],
      "text/latex": "$\\displaystyle l_{1} \\cos{\\left(\\phi{\\left(t \\right)} \\right)} \\frac{d}{d t} \\phi{\\left(t \\right)} + l_{2} \\cos{\\left(\\theta{\\left(t \\right)} \\right)} \\frac{d}{d t} \\theta{\\left(t \\right)} + \\frac{d}{d t} y{\\left(t \\right)}$"
     },
     "metadata": {},
     "execution_count": 36
    }
   ],
   "source": [
    "dyp = yp.diff(t).doit()\n",
    "dyp"
   ]
  },
  {
   "cell_type": "code",
   "execution_count": 37,
   "metadata": {},
   "outputs": [
    {
     "output_type": "execute_result",
     "data": {
      "text/plain": [
       "Derivative(x(t), t)"
      ],
      "text/latex": "$\\displaystyle \\frac{d}{d t} x{\\left(t \\right)}$"
     },
     "metadata": {},
     "execution_count": 37
    }
   ],
   "source": [
    "dxt = xt.diff(t).doit()\n",
    "dxt"
   ]
  },
  {
   "cell_type": "code",
   "execution_count": 38,
   "metadata": {},
   "outputs": [
    {
     "output_type": "execute_result",
     "data": {
      "text/plain": [
       "Derivative(y(t), t)"
      ],
      "text/latex": "$\\displaystyle \\frac{d}{d t} y{\\left(t \\right)}$"
     },
     "metadata": {},
     "execution_count": 38
    }
   ],
   "source": [
    "dyt = yt.diff(t).doit()\r\n",
    "dyt"
   ]
  },
  {
   "source": [
    "## Wektor $ \\dot{q} $"
   ],
   "cell_type": "markdown",
   "metadata": {}
  },
  {
   "cell_type": "code",
   "execution_count": 39,
   "metadata": {},
   "outputs": [
    {
     "output_type": "execute_result",
     "data": {
      "text/plain": [
       "Matrix([\n",
       "[     Derivative(x(t), t)],\n",
       "[     Derivative(y(t), t)],\n",
       "[  Derivative(\\phi(t), t)],\n",
       "[Derivative(\\theta(t), t)]])"
      ],
      "text/latex": "$\\displaystyle \\left[\\begin{matrix}\\frac{d}{d t} x{\\left(t \\right)}\\\\\\frac{d}{d t} y{\\left(t \\right)}\\\\\\frac{d}{d t} \\phi{\\left(t \\right)}\\\\\\frac{d}{d t} \\theta{\\left(t \\right)}\\end{matrix}\\right]$"
     },
     "metadata": {},
     "execution_count": 39
    }
   ],
   "source": [
    "dq = []\n",
    "for q_i in q:\n",
    "    dq.append( q_i.diff(t).doit() )\n",
    "Matrix(dq)"
   ]
  },
  {
   "source": [],
   "cell_type": "markdown",
   "metadata": {}
  },
  {
   "cell_type": "code",
   "execution_count": 40,
   "metadata": {},
   "outputs": [],
   "source": [
    "BPW_P = None; BPW_S = None; BPW_T = None\n",
    "BPB_P = None; BPB_S = None; BPB_T = None"
   ]
  },
  {
   "source": [
    "## Obliczenia ograniczeń bocznych\n",
    "### BPB_P - Brak poślizgu bocznego dla osi przedniej"
   ],
   "cell_type": "markdown",
   "metadata": {}
  },
  {
   "cell_type": "code",
   "execution_count": 41,
   "metadata": {},
   "outputs": [
    {
     "output_type": "stream",
     "name": "stdout",
     "text": [
      "Pierwotny wynik\n"
     ]
    },
    {
     "output_type": "display_data",
     "data": {
      "text/plain": "(-l_1*sin(\\phi(t))*Derivative(\\phi(t), t) - l_2*sin(\\theta(t))*Derivative(\\theta(t), t) + Derivative(x(t), t))*sin(\\theta(t)) - (l_1*cos(\\phi(t))*Derivative(\\phi(t), t) + l_2*cos(\\theta(t))*Derivative(\\theta(t), t) + Derivative(y(t), t))*cos(\\theta(t))",
      "text/latex": "$\\displaystyle \\left(- l_{1} \\sin{\\left(\\phi{\\left(t \\right)} \\right)} \\frac{d}{d t} \\phi{\\left(t \\right)} - l_{2} \\sin{\\left(\\theta{\\left(t \\right)} \\right)} \\frac{d}{d t} \\theta{\\left(t \\right)} + \\frac{d}{d t} x{\\left(t \\right)}\\right) \\sin{\\left(\\theta{\\left(t \\right)} \\right)} - \\left(l_{1} \\cos{\\left(\\phi{\\left(t \\right)} \\right)} \\frac{d}{d t} \\phi{\\left(t \\right)} + l_{2} \\cos{\\left(\\theta{\\left(t \\right)} \\right)} \\frac{d}{d t} \\theta{\\left(t \\right)} + \\frac{d}{d t} y{\\left(t \\right)}\\right) \\cos{\\left(\\theta{\\left(t \\right)} \\right)}$"
     },
     "metadata": {}
    },
    {
     "output_type": "stream",
     "name": "stdout",
     "text": [
      "Uproszczone:\n"
     ]
    },
    {
     "output_type": "display_data",
     "data": {
      "text/plain": "-l_1*cos(\\phi(t) - \\theta(t))*Derivative(\\phi(t), t) - l_2*Derivative(\\theta(t), t) + sin(\\theta(t))*Derivative(x(t), t) - cos(\\theta(t))*Derivative(y(t), t)",
      "text/latex": "$\\displaystyle - l_{1} \\cos{\\left(\\phi{\\left(t \\right)} - \\theta{\\left(t \\right)} \\right)} \\frac{d}{d t} \\phi{\\left(t \\right)} - l_{2} \\frac{d}{d t} \\theta{\\left(t \\right)} + \\sin{\\left(\\theta{\\left(t \\right)} \\right)} \\frac{d}{d t} x{\\left(t \\right)} - \\cos{\\left(\\theta{\\left(t \\right)} \\right)} \\frac{d}{d t} y{\\left(t \\right)}$"
     },
     "metadata": {}
    },
    {
     "output_type": "stream",
     "name": "stdout",
     "text": [
      "Posegregowane:\n"
     ]
    },
    {
     "output_type": "display_data",
     "data": {
      "text/plain": "-l_1*cos(\\phi(t) - \\theta(t))*Derivative(\\phi(t), t) - l_2*Derivative(\\theta(t), t) + sin(\\theta(t))*Derivative(x(t), t) - cos(\\theta(t))*Derivative(y(t), t)",
      "text/latex": "$\\displaystyle - l_{1} \\cos{\\left(\\phi{\\left(t \\right)} - \\theta{\\left(t \\right)} \\right)} \\frac{d}{d t} \\phi{\\left(t \\right)} - l_{2} \\frac{d}{d t} \\theta{\\left(t \\right)} + \\sin{\\left(\\theta{\\left(t \\right)} \\right)} \\frac{d}{d t} x{\\left(t \\right)} - \\cos{\\left(\\theta{\\left(t \\right)} \\right)} \\frac{d}{d t} y{\\left(t \\right)}$"
     },
     "metadata": {}
    }
   ],
   "source": [
    "BPB_P = brak_poslizgu_bocznego(dxp, dyp, orientacja_osi_P)"
   ]
  },
  {
   "source": [
    "### BPB_S - Brak poślizgu bocznego dla osi środkowej"
   ],
   "cell_type": "markdown",
   "metadata": {}
  },
  {
   "cell_type": "code",
   "execution_count": 42,
   "metadata": {},
   "outputs": [],
   "source": [
    "# BPB_S = brak_poslizgu_bocznego(dxs, dys, orientacja_osi_S)"
   ]
  },
  {
   "source": [
    "### BPB_T - Brak poślizgu bocznego dla osi tylniej"
   ],
   "cell_type": "markdown",
   "metadata": {}
  },
  {
   "cell_type": "code",
   "execution_count": 43,
   "metadata": {},
   "outputs": [
    {
     "output_type": "stream",
     "name": "stdout",
     "text": [
      "Pierwotny wynik\n"
     ]
    },
    {
     "output_type": "display_data",
     "data": {
      "text/plain": "sin(\\phi(t))*Derivative(x(t), t) - cos(\\phi(t))*Derivative(y(t), t)",
      "text/latex": "$\\displaystyle \\sin{\\left(\\phi{\\left(t \\right)} \\right)} \\frac{d}{d t} x{\\left(t \\right)} - \\cos{\\left(\\phi{\\left(t \\right)} \\right)} \\frac{d}{d t} y{\\left(t \\right)}$"
     },
     "metadata": {}
    },
    {
     "output_type": "stream",
     "name": "stdout",
     "text": [
      "Uproszczone:\n"
     ]
    },
    {
     "output_type": "display_data",
     "data": {
      "text/plain": "sin(\\phi(t))*Derivative(x(t), t) - cos(\\phi(t))*Derivative(y(t), t)",
      "text/latex": "$\\displaystyle \\sin{\\left(\\phi{\\left(t \\right)} \\right)} \\frac{d}{d t} x{\\left(t \\right)} - \\cos{\\left(\\phi{\\left(t \\right)} \\right)} \\frac{d}{d t} y{\\left(t \\right)}$"
     },
     "metadata": {}
    },
    {
     "output_type": "stream",
     "name": "stdout",
     "text": [
      "Posegregowane:\n"
     ]
    },
    {
     "output_type": "display_data",
     "data": {
      "text/plain": "sin(\\phi(t))*Derivative(x(t), t) - cos(\\phi(t))*Derivative(y(t), t)",
      "text/latex": "$\\displaystyle \\sin{\\left(\\phi{\\left(t \\right)} \\right)} \\frac{d}{d t} x{\\left(t \\right)} - \\cos{\\left(\\phi{\\left(t \\right)} \\right)} \\frac{d}{d t} y{\\left(t \\right)}$"
     },
     "metadata": {}
    }
   ],
   "source": [
    "# BPB T - Brak poślizgu bocznego dla osi tylniej\n",
    "BPB_T = brak_poslizgu_bocznego(dxt, dyt, orientacja_osi_T)"
   ]
  },
  {
   "source": [
    "## Ograniczenia wzdłużne\n",
    "### Oś przednia"
   ],
   "cell_type": "markdown",
   "metadata": {}
  },
  {
   "cell_type": "code",
   "execution_count": 44,
   "metadata": {},
   "outputs": [],
   "source": [
    "BPW_P"
   ]
  },
  {
   "source": [
    "### Oś środkowa"
   ],
   "cell_type": "markdown",
   "metadata": {}
  },
  {
   "cell_type": "code",
   "execution_count": 45,
   "metadata": {},
   "outputs": [],
   "source": [
    "BPW_S"
   ]
  },
  {
   "source": [
    "### Oś tylnia"
   ],
   "cell_type": "markdown",
   "metadata": {}
  },
  {
   "cell_type": "code",
   "execution_count": 46,
   "metadata": {},
   "outputs": [],
   "source": [
    "BPW_T"
   ]
  },
  {
   "source": [],
   "cell_type": "markdown",
   "metadata": {}
  },
  {
   "source": [
    "## Macierz Pffafa"
   ],
   "cell_type": "markdown",
   "metadata": {}
  },
  {
   "cell_type": "code",
   "execution_count": 47,
   "metadata": {},
   "outputs": [
    {
     "output_type": "display_data",
     "data": {
      "text/plain": "Matrix([\n[sin(\\theta(t)), -cos(\\theta(t)), -l_1*cos(\\phi(t) - \\theta(t)), -l_2],\n[  sin(\\phi(t)),   -cos(\\phi(t)),                             0,    0]])",
      "text/latex": "$\\displaystyle \\left[\\begin{matrix}\\sin{\\left(\\theta{\\left(t \\right)} \\right)} & - \\cos{\\left(\\theta{\\left(t \\right)} \\right)} & - l_{1} \\cos{\\left(\\phi{\\left(t \\right)} - \\theta{\\left(t \\right)} \\right)} & - l_{2}\\\\\\sin{\\left(\\phi{\\left(t \\right)} \\right)} & - \\cos{\\left(\\phi{\\left(t \\right)} \\right)} & 0 & 0\\end{matrix}\\right]$"
     },
     "metadata": {}
    }
   ],
   "source": [
    "A1 = macierz_pffafa([ BPB_P, BPB_S, BPB_T, BPW_P, BPW_S, BPW_T ])"
   ]
  },
  {
   "cell_type": "code",
   "execution_count": 48,
   "metadata": {},
   "outputs": [
    {
     "output_type": "execute_result",
     "data": {
      "text/plain": [
       "Matrix([\n",
       "[     Derivative(x(t), t)],\n",
       "[     Derivative(y(t), t)],\n",
       "[  Derivative(\\phi(t), t)],\n",
       "[Derivative(\\theta(t), t)]])"
      ],
      "text/latex": "$\\displaystyle \\left[\\begin{matrix}\\frac{d}{d t} x{\\left(t \\right)}\\\\\\frac{d}{d t} y{\\left(t \\right)}\\\\\\frac{d}{d t} \\phi{\\left(t \\right)}\\\\\\frac{d}{d t} \\theta{\\left(t \\right)}\\end{matrix}\\right]$"
     },
     "metadata": {},
     "execution_count": 48
    }
   ],
   "source": [
    "Matrix( dq )"
   ]
  }
 ]
}