{
 "metadata": {
  "language_info": {
   "codemirror_mode": {
    "name": "ipython",
    "version": 3
   },
   "file_extension": ".py",
   "mimetype": "text/x-python",
   "name": "python",
   "nbconvert_exporter": "python",
   "pygments_lexer": "ipython3",
   "version": "3.8.3-final"
  },
  "orig_nbformat": 2,
  "kernelspec": {
   "name": "python3",
   "display_name": "Python 3",
   "language": "python"
  }
 },
 "nbformat": 4,
 "nbformat_minor": 2,
 "cells": [
  {
   "source": [
    "# Obliczenia dla robota mobilnego\n",
    "- Współrzedne\n",
    "- Ograniczenia poślizgu bocznego\n",
    "- [ ] Ograniczenia poślizgu wzdłużego\n",
    "- [ ] Macierz Pffafa"
   ],
   "cell_type": "markdown",
   "metadata": {}
  },
  {
   "cell_type": "code",
   "execution_count": 19,
   "metadata": {},
   "outputs": [],
   "source": [
    "from sympy import *\n",
    "# Zmienne i stale\n",
    "l, l1, l2, l3 = symbols(\"l l_1 l_2 l_3\", real=True)\n",
    "a, a1, a2, a3 = symbols(\"a a_1 a_2 a_3\", real=True)\n",
    "t = symbols(\"t\", real=True)\n",
    "\n",
    "# Funkcje\n",
    "xp = Function(\"x_p\")(t)\n",
    "yp = Function(\"y_p\")(t)\n",
    "yt = Function(\"y_t\")(t)\n",
    "xt = Function(\"x_t\")(t)\n",
    "\n",
    "phi     = Function(\"\\\\phi\")(t)\n",
    "theta   = Function(\"\\\\theta\")(t)\n",
    "xi      = Function(\"\\\\xi\")(t)\n",
    "dphi    = phi.diff(t).doit()\n",
    "dtheta  = theta.diff(t).doit()\n",
    "dxi     = xi.diff(t).doit()\n",
    "\n",
    "# Skrocone postacie\n",
    "ph, dph = phi, dphi\n",
    "th, dth = theta, dtheta"
   ]
  },
  {
   "source": [
    "________________________________\n",
    "## ‼ Wprowadź (xp, yp) względem (xt, yt) lub odwrotnie:"
   ],
   "cell_type": "markdown",
   "metadata": {}
  },
  {
   "cell_type": "code",
   "execution_count": 20,
   "metadata": {},
   "outputs": [],
   "source": [
    "# np.:\n",
    "xp = xt + l1 * cos(ph) + l2 * cos(ph+th)\n",
    "yp = yt + l1 * sin(ph) + l2 * sin(ph+th)"
   ]
  },
  {
   "source": [
    "## ‼ Wprowadz orientacje osi przedniej i tylniej"
   ],
   "cell_type": "markdown",
   "metadata": {}
  },
  {
   "cell_type": "code",
   "execution_count": 21,
   "metadata": {},
   "outputs": [],
   "source": [
    "# np.:\n",
    "orientacja_osi_P = ph + th\n",
    "orientacja_osi_T = ph"
   ]
  },
  {
   "source": [
    "________________________________\n",
    "## Współrzedne\n",
    "$$ x_p, y_p, x_t, y_t $$"
   ],
   "cell_type": "markdown",
   "metadata": {}
  },
  {
   "cell_type": "code",
   "execution_count": 22,
   "metadata": {},
   "outputs": [
    {
     "output_type": "execute_result",
     "data": {
      "text/plain": [
       "l_1*cos(\\phi(t)) + l_2*cos(\\phi(t) + \\theta(t)) + x_t(t)"
      ],
      "text/latex": "$\\displaystyle l_{1} \\cos{\\left(\\phi{\\left(t \\right)} \\right)} + l_{2} \\cos{\\left(\\phi{\\left(t \\right)} + \\theta{\\left(t \\right)} \\right)} + \\operatorname{x_{t}}{\\left(t \\right)}$"
     },
     "metadata": {},
     "execution_count": 22
    }
   ],
   "source": [
    "xp"
   ]
  },
  {
   "cell_type": "code",
   "execution_count": 23,
   "metadata": {},
   "outputs": [
    {
     "output_type": "execute_result",
     "data": {
      "text/plain": [
       "l_1*sin(\\phi(t)) + l_2*sin(\\phi(t) + \\theta(t)) + y_t(t)"
      ],
      "text/latex": "$\\displaystyle l_{1} \\sin{\\left(\\phi{\\left(t \\right)} \\right)} + l_{2} \\sin{\\left(\\phi{\\left(t \\right)} + \\theta{\\left(t \\right)} \\right)} + \\operatorname{y_{t}}{\\left(t \\right)}$"
     },
     "metadata": {},
     "execution_count": 23
    }
   ],
   "source": [
    "yp"
   ]
  },
  {
   "cell_type": "code",
   "execution_count": 24,
   "metadata": {},
   "outputs": [
    {
     "output_type": "execute_result",
     "data": {
      "text/plain": [
       "x_t(t)"
      ],
      "text/latex": "$\\displaystyle \\operatorname{x_{t}}{\\left(t \\right)}$"
     },
     "metadata": {},
     "execution_count": 24
    }
   ],
   "source": [
    "xt"
   ]
  },
  {
   "cell_type": "code",
   "execution_count": 25,
   "metadata": {},
   "outputs": [
    {
     "output_type": "execute_result",
     "data": {
      "text/plain": [
       "y_t(t)"
      ],
      "text/latex": "$\\displaystyle \\operatorname{y_{t}}{\\left(t \\right)}$"
     },
     "metadata": {},
     "execution_count": 25
    }
   ],
   "source": [
    "yt"
   ]
  },
  {
   "source": [
    "________________________________\n",
    "## ‼ Wprowadz wektor $\\dot{q}$"
   ],
   "cell_type": "markdown",
   "metadata": {}
  },
  {
   "cell_type": "code",
   "execution_count": 26,
   "metadata": {},
   "outputs": [
    {
     "output_type": "execute_result",
     "data": {
      "text/plain": [
       "-l_1*sin(\\phi(t))*Derivative(\\phi(t), t) - l_2*(Derivative(\\phi(t), t) + Derivative(\\theta(t), t))*sin(\\phi(t) + \\theta(t)) + Derivative(x_t(t), t)"
      ],
      "text/latex": "$\\displaystyle - l_{1} \\sin{\\left(\\phi{\\left(t \\right)} \\right)} \\frac{d}{d t} \\phi{\\left(t \\right)} - l_{2} \\left(\\frac{d}{d t} \\phi{\\left(t \\right)} + \\frac{d}{d t} \\theta{\\left(t \\right)}\\right) \\sin{\\left(\\phi{\\left(t \\right)} + \\theta{\\left(t \\right)} \\right)} + \\frac{d}{d t} \\operatorname{x_{t}}{\\left(t \\right)}$"
     },
     "metadata": {},
     "execution_count": 26
    }
   ],
   "source": [
    "dxp = xp.diff(t).doit()\r\n",
    "dxp"
   ]
  },
  {
   "cell_type": "code",
   "execution_count": 27,
   "metadata": {},
   "outputs": [
    {
     "output_type": "execute_result",
     "data": {
      "text/plain": [
       "l_1*cos(\\phi(t))*Derivative(\\phi(t), t) + l_2*(Derivative(\\phi(t), t) + Derivative(\\theta(t), t))*cos(\\phi(t) + \\theta(t)) + Derivative(y_t(t), t)"
      ],
      "text/latex": "$\\displaystyle l_{1} \\cos{\\left(\\phi{\\left(t \\right)} \\right)} \\frac{d}{d t} \\phi{\\left(t \\right)} + l_{2} \\left(\\frac{d}{d t} \\phi{\\left(t \\right)} + \\frac{d}{d t} \\theta{\\left(t \\right)}\\right) \\cos{\\left(\\phi{\\left(t \\right)} + \\theta{\\left(t \\right)} \\right)} + \\frac{d}{d t} \\operatorname{y_{t}}{\\left(t \\right)}$"
     },
     "metadata": {},
     "execution_count": 27
    }
   ],
   "source": [
    "dyp = yp.diff(t).doit()\n",
    "dyp"
   ]
  },
  {
   "cell_type": "code",
   "execution_count": 28,
   "metadata": {},
   "outputs": [
    {
     "output_type": "execute_result",
     "data": {
      "text/plain": [
       "Derivative(x_t(t), t)"
      ],
      "text/latex": "$\\displaystyle \\frac{d}{d t} \\operatorname{x_{t}}{\\left(t \\right)}$"
     },
     "metadata": {},
     "execution_count": 28
    }
   ],
   "source": [
    "dxt = xt.diff(t).doit()\n",
    "dxt"
   ]
  },
  {
   "cell_type": "code",
   "execution_count": 29,
   "metadata": {},
   "outputs": [
    {
     "output_type": "execute_result",
     "data": {
      "text/plain": [
       "Derivative(y_t(t), t)"
      ],
      "text/latex": "$\\displaystyle \\frac{d}{d t} \\operatorname{y_{t}}{\\left(t \\right)}$"
     },
     "metadata": {},
     "execution_count": 29
    }
   ],
   "source": [
    "dyt = yt.diff(t).doit()\r\n",
    "dyt"
   ]
  },
  {
   "source": [
    "________________________________\n",
    "## Wyniki pochodnych współrzednych\n",
    "$$ \\dot{x_p}, \\dot{y_p}, \\dot{x_t}, \\dot{y_t} $$ "
   ],
   "cell_type": "markdown",
   "metadata": {}
  },
  {
   "cell_type": "code",
   "execution_count": 30,
   "metadata": {},
   "outputs": [],
   "source": [
    "dq = [ dxt, dyt, dph, dth ]"
   ]
  },
  {
   "source": [
    "## Obliczenia ograniczeń\n",
    "## BPB_P Brak poślizgu bocznego dla osi przedniej"
   ],
   "cell_type": "markdown",
   "metadata": {}
  },
  {
   "cell_type": "code",
   "execution_count": 31,
   "metadata": {},
   "outputs": [],
   "source": [
    "BPB_P = dxp * sin( orientacja_osi_P ) - dyp * cos( orientacja_osi_P )\n",
    "# BPB_P"
   ]
  },
  {
   "cell_type": "code",
   "execution_count": 32,
   "metadata": {},
   "outputs": [],
   "source": [
    "BPB_P = BPB_P.simplify()\n",
    "# BPB_P"
   ]
  },
  {
   "cell_type": "code",
   "execution_count": 33,
   "metadata": {},
   "outputs": [
    {
     "output_type": "execute_result",
     "data": {
      "text/plain": [
       "-l_2*Derivative(\\theta(t), t) + (-l_1*cos(\\theta(t)) - l_2)*Derivative(\\phi(t), t) + sin(\\phi(t) + \\theta(t))*Derivative(x_t(t), t) - cos(\\phi(t) + \\theta(t))*Derivative(y_t(t), t)"
      ],
      "text/latex": "$\\displaystyle - l_{2} \\frac{d}{d t} \\theta{\\left(t \\right)} + \\left(- l_{1} \\cos{\\left(\\theta{\\left(t \\right)} \\right)} - l_{2}\\right) \\frac{d}{d t} \\phi{\\left(t \\right)} + \\sin{\\left(\\phi{\\left(t \\right)} + \\theta{\\left(t \\right)} \\right)} \\frac{d}{d t} \\operatorname{x_{t}}{\\left(t \\right)} - \\cos{\\left(\\phi{\\left(t \\right)} + \\theta{\\left(t \\right)} \\right)} \\frac{d}{d t} \\operatorname{y_{t}}{\\left(t \\right)}$"
     },
     "metadata": {},
     "execution_count": 33
    }
   ],
   "source": [
    "BPB_P = collect(BPB_P, dq)   # Uporzatkowanie\n",
    "BPB_P"
   ]
  },
  {
   "source": [
    "### BPB_T - Brak poślizgu bocznego dla osi tylniej"
   ],
   "cell_type": "markdown",
   "metadata": {}
  },
  {
   "cell_type": "code",
   "execution_count": 34,
   "metadata": {},
   "outputs": [],
   "source": [
    "# BPB T - Brak poślizgu bocznego dla osi tylniej\n",
    "BPB_T = dxt * sin( orientacja_osi_T ) - dyt * cos( orientacja_osi_T )\n",
    "# BPB_T"
   ]
  },
  {
   "cell_type": "code",
   "execution_count": 35,
   "metadata": {},
   "outputs": [],
   "source": [
    "BPB_T = BPB_T.simplify()\n",
    "# BPB_T"
   ]
  },
  {
   "cell_type": "code",
   "execution_count": 36,
   "metadata": {},
   "outputs": [
    {
     "output_type": "execute_result",
     "data": {
      "text/plain": [
       "sin(\\phi(t))*Derivative(x_t(t), t) - cos(\\phi(t))*Derivative(y_t(t), t)"
      ],
      "text/latex": "$\\displaystyle \\sin{\\left(\\phi{\\left(t \\right)} \\right)} \\frac{d}{d t} \\operatorname{x_{t}}{\\left(t \\right)} - \\cos{\\left(\\phi{\\left(t \\right)} \\right)} \\frac{d}{d t} \\operatorname{y_{t}}{\\left(t \\right)}$"
     },
     "metadata": {},
     "execution_count": 36
    }
   ],
   "source": [
    "BPB_T = collect(BPB_T, dq)   # Uporzatkowanie\n",
    "BPB_T"
   ]
  },
  {
   "source": [
    "## Macierz Pffafa"
   ],
   "cell_type": "markdown",
   "metadata": {}
  },
  {
   "cell_type": "code",
   "execution_count": 37,
   "metadata": {},
   "outputs": [
    {
     "output_type": "stream",
     "name": "stdout",
     "text": [
      "[sin(\\phi(t) + \\theta(t)), -cos(\\phi(t) + \\theta(t)), -l_1*cos(\\theta(t)) - l_2, -l_2]\n[sin(\\phi(t)), -cos(\\phi(t)), 0, 0]\n"
     ]
    },
    {
     "output_type": "execute_result",
     "data": {
      "text/plain": [
       "Matrix([\n",
       "[sin(\\phi(t) + \\theta(t)), -cos(\\phi(t) + \\theta(t)), -l_1*cos(\\theta(t)) - l_2, -l_2],\n",
       "[            sin(\\phi(t)),             -cos(\\phi(t)),                         0,    0]])"
      ],
      "text/latex": "$\\displaystyle \\left[\\begin{matrix}\\sin{\\left(\\phi{\\left(t \\right)} + \\theta{\\left(t \\right)} \\right)} & - \\cos{\\left(\\phi{\\left(t \\right)} + \\theta{\\left(t \\right)} \\right)} & - l_{1} \\cos{\\left(\\theta{\\left(t \\right)} \\right)} - l_{2} & - l_{2}\\\\\\sin{\\left(\\phi{\\left(t \\right)} \\right)} & - \\cos{\\left(\\phi{\\left(t \\right)} \\right)} & 0 & 0\\end{matrix}\\right]$"
     },
     "metadata": {},
     "execution_count": 37
    }
   ],
   "source": [
    "Aq = []\n",
    "restrictions = [ BPB_P, BPB_T ]\n",
    "\n",
    "for rest in restrictions:\n",
    "    A_row = []\n",
    "    for dq_i in dq:\n",
    "        A_row.append( rest.coeff( dq_i ) )\n",
    "    print(A_row)\n",
    "    Aq.append(Matrix(A_row).T)\n",
    "\n",
    "Matrix( Aq )"
   ]
  },
  {
   "cell_type": "code",
   "execution_count": 38,
   "metadata": {},
   "outputs": [
    {
     "output_type": "execute_result",
     "data": {
      "text/plain": [
       "Matrix([\n",
       "[   Derivative(x_t(t), t)],\n",
       "[   Derivative(y_t(t), t)],\n",
       "[  Derivative(\\phi(t), t)],\n",
       "[Derivative(\\theta(t), t)]])"
      ],
      "text/latex": "$\\displaystyle \\left[\\begin{matrix}\\frac{d}{d t} \\operatorname{x_{t}}{\\left(t \\right)}\\\\\\frac{d}{d t} \\operatorname{y_{t}}{\\left(t \\right)}\\\\\\frac{d}{d t} \\phi{\\left(t \\right)}\\\\\\frac{d}{d t} \\theta{\\left(t \\right)}\\end{matrix}\\right]$"
     },
     "metadata": {},
     "execution_count": 38
    }
   ],
   "source": [
    "Matrix( dq )"
   ]
  }
 ]
}