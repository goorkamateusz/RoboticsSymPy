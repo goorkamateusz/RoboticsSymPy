{
 "metadata": {
  "language_info": {
   "codemirror_mode": {
    "name": "ipython",
    "version": 3
   },
   "file_extension": ".py",
   "mimetype": "text/x-python",
   "name": "python",
   "nbconvert_exporter": "python",
   "pygments_lexer": "ipython3",
   "version": "3.8.3-final"
  },
  "orig_nbformat": 2,
  "kernelspec": {
   "name": "python3",
   "display_name": "Python 3",
   "language": "python"
  }
 },
 "nbformat": 4,
 "nbformat_minor": 2,
 "cells": [
  {
   "source": [
    "# Twierdzenie Steinera\n",
    "$$ J = A J_0 A^T$$"
   ],
   "cell_type": "markdown",
   "metadata": {}
  },
  {
   "cell_type": "code",
   "execution_count": 22,
   "metadata": {},
   "outputs": [],
   "source": [
    "from sympy import *\n",
    "from RobotykaLib import *\n",
    "q1, q2, q3, q4 = symbols('q1 q2 q3 q4', real=True)  # q\n",
    "a, a1, a2, a3 = symbols('a a1 a2 a3', real=True)    # a\n",
    "d, d1, d2, d3 = symbols('d d1 d2 d3', real=True)    # d\n",
    "l, l1, l2, l3 = symbols('l l1 l2 l3', real=True)\n",
    "alfa, beta,gamma = symbols('\\\\alpha \\\\beta \\\\gamma', real=True)\n",
    "x, y, z = symbols('x y z')                          # osie\n",
    "g, m, k = symbols('g m k')"
   ]
  },
  {
   "source": [
    "## Wprowadź dane:\n",
    "### Macierz pseudoinercji"
   ],
   "cell_type": "markdown",
   "metadata": {}
  },
  {
   "cell_type": "code",
   "execution_count": 23,
   "metadata": {},
   "outputs": [],
   "source": [
    "J = [[0,0,0,0],[0,g**2,0,0],[0,0,0,0],[0,0,0,m]]"
   ]
  },
  {
   "cell_type": "code",
   "execution_count": 24,
   "metadata": {},
   "outputs": [
    {
     "output_type": "execute_result",
     "data": {
      "text/plain": [
       "Matrix([\n",
       "[0,    0, 0, 0],\n",
       "[0, g**2, 0, 0],\n",
       "[0,    0, 0, 0],\n",
       "[0,    0, 0, m]])"
      ],
      "text/latex": "$\\displaystyle \\left[\\begin{matrix}0 & 0 & 0 & 0\\\\0 & g^{2} & 0 & 0\\\\0 & 0 & 0 & 0\\\\0 & 0 & 0 & m\\end{matrix}\\right]$"
     },
     "metadata": {},
     "execution_count": 24
    }
   ],
   "source": [
    "J = Matrix(J)\n",
    "J"
   ]
  },
  {
   "source": [
    "### Macierz przekształcenia"
   ],
   "cell_type": "markdown",
   "metadata": {}
  },
  {
   "cell_type": "code",
   "execution_count": 25,
   "metadata": {},
   "outputs": [
    {
     "output_type": "execute_result",
     "data": {
      "text/plain": [
       "Matrix([\n",
       "[1, 0, 0, 0],\n",
       "[0, 1, 0, 4],\n",
       "[0, 0, 1, 4],\n",
       "[0, 0, 0, 1]])"
      ],
      "text/latex": "$\\displaystyle \\left[\\begin{matrix}1 & 0 & 0 & 0\\\\0 & 1 & 0 & 4\\\\0 & 0 & 1 & 4\\\\0 & 0 & 0 & 1\\end{matrix}\\right]$"
     },
     "metadata": {},
     "execution_count": 25
    }
   ],
   "source": [
    "A = trans(y,4)*trans(z,4)\n",
    "A"
   ]
  },
  {
   "source": [
    "## Obliczenia\n",
    "### Macierz pseudointercji dla przesunietego układu"
   ],
   "cell_type": "markdown",
   "metadata": {}
  },
  {
   "cell_type": "code",
   "execution_count": 26,
   "metadata": {},
   "outputs": [
    {
     "output_type": "execute_result",
     "data": {
      "text/plain": [
       "Matrix([\n",
       "[0,           0,    0,   0],\n",
       "[0, g**2 + 16*m, 16*m, 4*m],\n",
       "[0,        16*m, 16*m, 4*m],\n",
       "[0,         4*m,  4*m,   m]])"
      ],
      "text/latex": "$\\displaystyle \\left[\\begin{matrix}0 & 0 & 0 & 0\\\\0 & g^{2} + 16 m & 16 m & 4 m\\\\0 & 16 m & 16 m & 4 m\\\\0 & 4 m & 4 m & m\\end{matrix}\\right]$"
     },
     "metadata": {},
     "execution_count": 26
    }
   ],
   "source": [
    "J = A*J*transpose(A)\n",
    "J"
   ]
  }
 ]
}