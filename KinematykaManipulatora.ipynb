{
 "metadata": {
  "language_info": {
   "codemirror_mode": {
    "name": "ipython",
    "version": 3
   },
   "file_extension": ".py",
   "mimetype": "text/x-python",
   "name": "python",
   "nbconvert_exporter": "python",
   "pygments_lexer": "ipython3",
   "version": "3.8.3-final"
  },
  "orig_nbformat": 2,
  "kernelspec": {
   "name": "python3",
   "display_name": "Python 3",
   "language": "python"
  }
 },
 "nbformat": 4,
 "nbformat_minor": 2,
 "cells": [
  {
   "source": [
    "# Kinematyka Manipulatora\n",
    "Na podstawie macierzy przekształceń członów manipulatora,\n",
    "wyliczonych np. algorytmem Denavita-Hantenberga wyznacza:\n",
    "- Macierz kinematyki (dla współrzędnych kartezjańskich);\n",
    "- Jakobian analityczny (dla współrzędnych kartezjańskich);\n",
    "- Wyznacznik Jakobianu analitycznego i jego miejsca zerowe;"
   ],
   "cell_type": "markdown",
   "metadata": {}
  },
  {
   "cell_type": "code",
   "execution_count": 1,
   "metadata": {},
   "outputs": [],
   "source": [
    "from sympy import *\n",
    "from RobotykaLib import *\n",
    "q1, q2, q3, q4 = symbols('q1 q2 q3 q4', real=True)  # q\n",
    "a, a1, a2, a3 = symbols('a a1 a2 a3', real=True)    # a\n",
    "d, d1, d2, d3 = symbols('d d1 d2 d3', real=True)    # d\n",
    "l, l1, l2, l3 = symbols('l l1 l2 l3', real=True)\n",
    "alfa, beta,gamma = symbols('\\\\alpha \\\\beta \\\\gamma', real=True)\n",
    "x, y, z = symbols('x y z')                          # osie\n",
    "#\n",
    "# rot(z,q1)*trans(z,a1)*trans(x,a)*rot(z,pi/2)"
   ]
  },
  {
   "source": [
    "# Wprowadź macierze $A_0^1$, $A_1^2$, $A_1^3$"
   ],
   "cell_type": "markdown",
   "metadata": {}
  },
  {
   "cell_type": "code",
   "execution_count": 6,
   "metadata": {},
   "outputs": [
    {
     "output_type": "execute_result",
     "data": {
      "text/plain": [
       "Matrix([\n",
       "[1,  0, 0,  0],\n",
       "[0,  0, 1,  0],\n",
       "[0, -1, 0, q1],\n",
       "[0,  0, 0,  1]])"
      ],
      "text/latex": "$\\displaystyle \\left[\\begin{matrix}1 & 0 & 0 & 0\\\\0 & 0 & 1 & 0\\\\0 & -1 & 0 & q_{1}\\\\0 & 0 & 0 & 1\\end{matrix}\\right]$"
     },
     "metadata": {},
     "execution_count": 6
    }
   ],
   "source": [
    "A01 = tr(z,q1)*rot(x,-pi/2)\n",
    "A01"
   ]
  },
  {
   "cell_type": "code",
   "execution_count": 7,
   "metadata": {},
   "outputs": [
    {
     "output_type": "execute_result",
     "data": {
      "text/plain": [
       "Matrix([\n",
       "[ sin(q2), 0, -cos(q2),  0],\n",
       "[-cos(q2), 0, -sin(q2),  0],\n",
       "[       0, 1,        0, d1],\n",
       "[       0, 0,        0,  1]])"
      ],
      "text/latex": "$\\displaystyle \\left[\\begin{matrix}\\sin{\\left(q_{2} \\right)} & 0 & - \\cos{\\left(q_{2} \\right)} & 0\\\\- \\cos{\\left(q_{2} \\right)} & 0 & - \\sin{\\left(q_{2} \\right)} & 0\\\\0 & 1 & 0 & d_{1}\\\\0 & 0 & 0 & 1\\end{matrix}\\right]$"
     },
     "metadata": {},
     "execution_count": 7
    }
   ],
   "source": [
    "A12 = rot(z,q2-pi/2)*tr(z,d1)*rot(x,pi/2)\n",
    "A12"
   ]
  },
  {
   "cell_type": "code",
   "execution_count": 8,
   "metadata": {},
   "outputs": [
    {
     "output_type": "execute_result",
     "data": {
      "text/plain": [
       "Matrix([\n",
       "[cos(q3), -sin(q3), 0, a2*cos(q3)],\n",
       "[sin(q3),  cos(q3), 0, a2*sin(q3)],\n",
       "[      0,        0, 1,          0],\n",
       "[      0,        0, 0,          1]])"
      ],
      "text/latex": "$\\displaystyle \\left[\\begin{matrix}\\cos{\\left(q_{3} \\right)} & - \\sin{\\left(q_{3} \\right)} & 0 & a_{2} \\cos{\\left(q_{3} \\right)}\\\\\\sin{\\left(q_{3} \\right)} & \\cos{\\left(q_{3} \\right)} & 0 & a_{2} \\sin{\\left(q_{3} \\right)}\\\\0 & 0 & 1 & 0\\\\0 & 0 & 0 & 1\\end{matrix}\\right]$"
     },
     "metadata": {},
     "execution_count": 8
    }
   ],
   "source": [
    "A23 = rot(z,q3)*tr(x,a2)\n",
    "A23"
   ]
  },
  {
   "source": [
    "________________________\n",
    "# Wyniki\n",
    "## Macierze "
   ],
   "cell_type": "markdown",
   "metadata": {}
  },
  {
   "cell_type": "code",
   "execution_count": 9,
   "metadata": {},
   "outputs": [
    {
     "output_type": "execute_result",
     "data": {
      "text/plain": [
       "Matrix([\n",
       "[sin(q2), 0, -cos(q2),  0],\n",
       "[      0, 1,        0, d1],\n",
       "[cos(q2), 0,  sin(q2), q1],\n",
       "[      0, 0,        0,  1]])"
      ],
      "text/latex": "$\\displaystyle \\left[\\begin{matrix}\\sin{\\left(q_{2} \\right)} & 0 & - \\cos{\\left(q_{2} \\right)} & 0\\\\0 & 1 & 0 & d_{1}\\\\\\cos{\\left(q_{2} \\right)} & 0 & \\sin{\\left(q_{2} \\right)} & q_{1}\\\\0 & 0 & 0 & 1\\end{matrix}\\right]$"
     },
     "metadata": {},
     "execution_count": 9
    }
   ],
   "source": [
    "A02 = A01*A12\n",
    "A02"
   ]
  },
  {
   "cell_type": "code",
   "execution_count": 20,
   "metadata": {},
   "outputs": [
    {
     "output_type": "execute_result",
     "data": {
      "text/plain": [
       "Matrix([\n",
       "[sin(q2)*cos(q3), -sin(q2)*sin(q3), -cos(q2),      a2*sin(q2)*cos(q3)],\n",
       "[        sin(q3),          cos(q3),        0,         a2*sin(q3) + d1],\n",
       "[cos(q2)*cos(q3), -sin(q3)*cos(q2),  sin(q2), a2*cos(q2)*cos(q3) + q1],\n",
       "[              0,                0,        0,                       1]])"
      ],
      "text/latex": "$\\displaystyle \\left[\\begin{matrix}\\sin{\\left(q_{2} \\right)} \\cos{\\left(q_{3} \\right)} & - \\sin{\\left(q_{2} \\right)} \\sin{\\left(q_{3} \\right)} & - \\cos{\\left(q_{2} \\right)} & a_{2} \\sin{\\left(q_{2} \\right)} \\cos{\\left(q_{3} \\right)}\\\\\\sin{\\left(q_{3} \\right)} & \\cos{\\left(q_{3} \\right)} & 0 & a_{2} \\sin{\\left(q_{3} \\right)} + d_{1}\\\\\\cos{\\left(q_{2} \\right)} \\cos{\\left(q_{3} \\right)} & - \\sin{\\left(q_{3} \\right)} \\cos{\\left(q_{2} \\right)} & \\sin{\\left(q_{2} \\right)} & a_{2} \\cos{\\left(q_{2} \\right)} \\cos{\\left(q_{3} \\right)} + q_{1}\\\\0 & 0 & 0 & 1\\end{matrix}\\right]$"
     },
     "metadata": {},
     "execution_count": 20
    }
   ],
   "source": [
    "A03 = A01*A12*A23 \n",
    "A03 # A03"
   ]
  },
  {
   "source": [
    "## Kinematyka dla współrzydnych kartezjańskich $K(q)$"
   ],
   "cell_type": "markdown",
   "metadata": {}
  },
  {
   "cell_type": "code",
   "execution_count": 21,
   "metadata": {},
   "outputs": [
    {
     "output_type": "execute_result",
     "data": {
      "text/plain": [
       "Matrix([\n",
       "[     a2*sin(q2)*cos(q3)],\n",
       "[        a2*sin(q3) + d1],\n",
       "[a2*cos(q2)*cos(q3) + q1]])"
      ],
      "text/latex": "$\\displaystyle \\left[\\begin{matrix}a_{2} \\sin{\\left(q_{2} \\right)} \\cos{\\left(q_{3} \\right)}\\\\a_{2} \\sin{\\left(q_{3} \\right)} + d_{1}\\\\a_{2} \\cos{\\left(q_{2} \\right)} \\cos{\\left(q_{3} \\right)} + q_{1}\\end{matrix}\\right]$"
     },
     "metadata": {},
     "execution_count": 21
    }
   ],
   "source": [
    "K_kart = A03.col(3)\n",
    "K_kart.row_del(3)\n",
    "K_kart # Kinematyka dla katezjańskich"
   ]
  },
  {
   "source": [
    "## Jakobian dla współrzędnych kartezjańskich $J(q)$"
   ],
   "cell_type": "markdown",
   "metadata": {}
  },
  {
   "cell_type": "code",
   "execution_count": 22,
   "metadata": {},
   "outputs": [
    {
     "output_type": "execute_result",
     "data": {
      "text/plain": [
       "Matrix([\n",
       "[0,  a2*cos(q2)*cos(q3), -a2*sin(q2)*sin(q3)],\n",
       "[0,                   0,          a2*cos(q3)],\n",
       "[1, -a2*sin(q2)*cos(q3), -a2*sin(q3)*cos(q2)]])"
      ],
      "text/latex": "$\\displaystyle \\left[\\begin{matrix}0 & a_{2} \\cos{\\left(q_{2} \\right)} \\cos{\\left(q_{3} \\right)} & - a_{2} \\sin{\\left(q_{2} \\right)} \\sin{\\left(q_{3} \\right)}\\\\0 & 0 & a_{2} \\cos{\\left(q_{3} \\right)}\\\\1 & - a_{2} \\sin{\\left(q_{2} \\right)} \\cos{\\left(q_{3} \\right)} & - a_{2} \\sin{\\left(q_{3} \\right)} \\cos{\\left(q_{2} \\right)}\\end{matrix}\\right]$"
     },
     "metadata": {},
     "execution_count": 22
    }
   ],
   "source": [
    "Jak = Matrix()\n",
    "Jak = Jak.col_insert(0,Derivative(K_kart,q1).doit())\n",
    "Jak = Jak.col_insert(1,Derivative(K_kart,q2).doit())\n",
    "Jak = Jak.col_insert(2,Derivative(K_kart,q3).doit())\n",
    "Jak # Jakobian ylko dla kartezjańskich"
   ]
  },
  {
   "source": [
    "## Wyznacznik Jakobianu $det( J(q) )$"
   ],
   "cell_type": "markdown",
   "metadata": {}
  },
  {
   "cell_type": "code",
   "execution_count": 23,
   "metadata": {},
   "outputs": [
    {
     "output_type": "execute_result",
     "data": {
      "text/plain": [
       "a2**2*cos(q2)*cos(q3)**2"
      ],
      "text/latex": "$\\displaystyle a_{2}^{2} \\cos{\\left(q_{2} \\right)} \\cos^{2}{\\left(q_{3} \\right)}$"
     },
     "metadata": {},
     "execution_count": 23
    }
   ],
   "source": [
    "det( Jak )"
   ]
  },
  {
   "cell_type": "code",
   "execution_count": 16,
   "metadata": {},
   "outputs": [
    {
     "output_type": "execute_result",
     "data": {
      "text/plain": [
       "a2**2*cos(q2)*cos(q3)**2"
      ],
      "text/latex": "$\\displaystyle a_{2}^{2} \\cos{\\left(q_{2} \\right)} \\cos^{2}{\\left(q_{3} \\right)}$"
     },
     "metadata": {},
     "execution_count": 16
    }
   ],
   "source": [
    "simplify( det( Jak ) )"
   ]
  },
  {
   "source": [
    "## Miejsca zerowe wyznacznika Jakobianu $det( J(q) ) = 0 $"
   ],
   "cell_type": "markdown",
   "metadata": {}
  },
  {
   "cell_type": "code",
   "execution_count": 14,
   "metadata": {},
   "outputs": [
    {
     "output_type": "execute_result",
     "data": {
      "text/plain": [
       "[{q2: pi/2}, {q2: 3*pi/2}, {q3: pi/2}, {q3: 3*pi/2}]"
      ]
     },
     "metadata": {},
     "execution_count": 14
    }
   ],
   "source": [
    "solve( det( Jak ), [q1, q2, q3, q4], dict=True ) # Biorąc pod uwage tylko wspolrzedne q"
   ]
  },
  {
   "cell_type": "code",
   "execution_count": 15,
   "metadata": {},
   "outputs": [
    {
     "output_type": "execute_result",
     "data": {
      "text/plain": [
       "[{a2: 0}, {q2: pi/2}, {q2: 3*pi/2}, {q3: pi/2}, {q3: 3*pi/2}]"
      ]
     },
     "metadata": {},
     "execution_count": 15
    }
   ],
   "source": [
    "solve( det( Jak ), [q1, q2, q3, q4, d, d1, d2, d3, a, a1, a2, a3 ], dict=True ) # Biorac pod uwage wspolrzedne i stale"
   ]
  }
 ]
}